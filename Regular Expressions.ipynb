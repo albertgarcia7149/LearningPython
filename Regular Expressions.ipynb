{
 "cells": [
  {
   "cell_type": "markdown",
   "metadata": {},
   "source": [
    "# Regular Expressions"
   ]
  },
  {
   "cell_type": "markdown",
   "metadata": {},
   "source": [
    "### Using Regular Expressions to Find Patterns of Text"
   ]
  },
  {
   "cell_type": "code",
   "execution_count": 1,
   "metadata": {},
   "outputs": [
    {
     "name": "stdout",
     "output_type": "stream",
     "text": [
      "Phone number found: 415-555-4242\n"
     ]
    }
   ],
   "source": [
    "#create Regex object\n",
    "import re\n",
    "#pass raw sting to re.compile()\n",
    "phoneNumRegex= re.compile(r'\\d\\d\\d-\\d\\d\\d-\\d\\d\\d\\d')\n",
    "#matching Regex Object\n",
    "mo=phoneNumRegex.search('My number is 415-555-4242')\n",
    "print('Phone number found: '+mo.group())"
   ]
  },
  {
   "cell_type": "code",
   "execution_count": 2,
   "metadata": {},
   "outputs": [
    {
     "name": "stdout",
     "output_type": "stream",
     "text": [
      "415\n",
      "555-4242\n",
      "415-555-4242\n",
      "415-555-4242\n"
     ]
    }
   ],
   "source": [
    "#regex matching using grouping\n",
    "phoneNumRegex=re.compile(r'(\\d\\d\\d)-(\\d\\d\\d-\\d\\d\\d\\d)')\n",
    "mo = phoneNumRegex.search('My number is 415-555-4242.')\n",
    "#prints matches from first group (first set of parenthises)\n",
    "print(mo.group(1))\n",
    "#prints match from second group\n",
    "print(mo.group(2))\n",
    "#prints match from whole regex\n",
    "print(mo.group(0))\n",
    "#also prints match from whole regex\n",
    "print(mo.group())"
   ]
  },
  {
   "cell_type": "code",
   "execution_count": 3,
   "metadata": {},
   "outputs": [
    {
     "name": "stdout",
     "output_type": "stream",
     "text": [
      "('415', '555-4242')\n",
      "415\n",
      "555-4242\n"
     ]
    }
   ],
   "source": [
    "#prints all the groups\n",
    "print(mo.groups())\n",
    "#assign names to each group\n",
    "areaCode, mainNumber=mo.groups()\n",
    "print(areaCode)\n",
    "print(mainNumber)"
   ]
  },
  {
   "cell_type": "code",
   "execution_count": 4,
   "metadata": {},
   "outputs": [
    {
     "name": "stdout",
     "output_type": "stream",
     "text": [
      "(415)\n",
      "555-4242\n"
     ]
    }
   ],
   "source": [
    "#if you need to use parentheses as a character in the regex expression\n",
    "phoneNumRegex=re.compile(r'(\\(\\d\\d\\d\\)) (\\d\\d\\d-\\d\\d\\d\\d)')\n",
    "mo=phoneNumRegex.search('My phone number is (415) 555-4242.')\n",
    "print(mo.group(1))\n",
    "print(mo.group(2))"
   ]
  },
  {
   "cell_type": "markdown",
   "metadata": {},
   "source": [
    "### Matching Groups with the Pipe"
   ]
  },
  {
   "cell_type": "markdown",
   "metadata": {},
   "source": [
    "The \"|\" character is called a pipe. When used it will match the preceding string or the proceding string."
   ]
  },
  {
   "cell_type": "code",
   "execution_count": 5,
   "metadata": {},
   "outputs": [
    {
     "name": "stdout",
     "output_type": "stream",
     "text": [
      "Batman\n",
      "Tina Fey\n"
     ]
    }
   ],
   "source": [
    "heroRegex=re.compile(r'Batman|Tina Fey')\n",
    "mo1=heroRegex.search('Batman and Tina Fey.')\n",
    "#matched the first occurance of either Batman or Tina Fey, not both\n",
    "#this will match batman\n",
    "print(mo1.group())\n",
    "mo2=heroRegex.search('Tina Fey and Batman.')\n",
    "#this will match Tina Fey\n",
    "print(mo2.group())"
   ]
  },
  {
   "cell_type": "code",
   "execution_count": 6,
   "metadata": {},
   "outputs": [
    {
     "name": "stdout",
     "output_type": "stream",
     "text": [
      "Batmobile\n",
      "mobile\n"
     ]
    }
   ],
   "source": [
    "#matches Bat plus any of the following strings\n",
    "batRegex=re.compile(r'Bat(man|mobile|copter|bat)')\n",
    "mo=batRegex.search('Batmobile lost a wheel')\n",
    "print(mo.group())\n",
    "print(mo.group(1))"
   ]
  },
  {
   "cell_type": "markdown",
   "metadata": {},
   "source": [
    "### Optional Matching with Question Mark"
   ]
  },
  {
   "cell_type": "code",
   "execution_count": 7,
   "metadata": {},
   "outputs": [
    {
     "name": "stdout",
     "output_type": "stream",
     "text": [
      "Batman\n",
      "Batwoman\n"
     ]
    }
   ],
   "source": [
    "# use ? to add optional matching\n",
    "batRegex=re.compile(r'Bat(wo)?man')\n",
    "mo1=batRegex.search('The Adventures of Batman')\n",
    "print(mo1.group())\n",
    "mo2=batRegex.search('The Adventures of Batwoman')\n",
    "print(mo2.group())"
   ]
  },
  {
   "cell_type": "markdown",
   "metadata": {},
   "source": [
    "Note: if you ever need to match the question mark use \\?"
   ]
  },
  {
   "cell_type": "markdown",
   "metadata": {},
   "source": [
    "### Matching One or More with the Plus"
   ]
  },
  {
   "cell_type": "code",
   "execution_count": 8,
   "metadata": {},
   "outputs": [
    {
     "name": "stdout",
     "output_type": "stream",
     "text": [
      "Batwoman\n",
      "Batwowowowoman\n",
      "True\n"
     ]
    }
   ],
   "source": [
    "batRegex=re.compile(r'Bat(wo)+man')\n",
    "mo1=batRegex.search('The Adventures of Batwoman')\n",
    "print(mo1.group())\n",
    "mo2=batRegex.search('The Adventures of Batwowowowoman')\n",
    "print(mo2.group())\n",
    "#doesnt match the no occurances of wo\n",
    "mo3=batRegex.search('The Adventures of Batman')\n",
    "print(mo3==None)"
   ]
  },
  {
   "cell_type": "markdown",
   "metadata": {},
   "source": [
    "Note: if you need to use the plus just \\+"
   ]
  },
  {
   "cell_type": "markdown",
   "metadata": {},
   "source": [
    "### Matching Specific Repetitions with Curly Brackets"
   ]
  },
  {
   "cell_type": "code",
   "execution_count": 9,
   "metadata": {},
   "outputs": [
    {
     "name": "stdout",
     "output_type": "stream",
     "text": [
      "HaHaHa\n",
      "True\n"
     ]
    }
   ],
   "source": [
    "#searches for HaHaHa\n",
    "haRegex=re.compile(r'(Ha){3}')\n",
    "mo1=haRegex.search('HaHaHa')\n",
    "print(mo1.group())\n",
    "mo2=haRegex.search('Ha')\n",
    "#wont find because only 1 repition of Ha\n",
    "print(mo2==None)"
   ]
  },
  {
   "cell_type": "code",
   "execution_count": 10,
   "metadata": {},
   "outputs": [
    {
     "name": "stdout",
     "output_type": "stream",
     "text": [
      "Ha\n",
      "HaHaHa\n"
     ]
    }
   ],
   "source": [
    "#searches from 1 to 3 repititions of Ha\n",
    "ha2Regex=re.compile(r'(Ha){1,3}')\n",
    "mo1=ha2Regex.search('Ha')\n",
    "print(mo1.group())\n",
    "mo2=ha2Regex.search('HaHaHa')\n",
    "print(mo2.group())"
   ]
  },
  {
   "cell_type": "code",
   "execution_count": 11,
   "metadata": {},
   "outputs": [
    {
     "name": "stdout",
     "output_type": "stream",
     "text": [
      "HaHaHaHaHa\n",
      "HaHaHa\n"
     ]
    }
   ],
   "source": [
    "#greedy and nongreedy\n",
    "#will get the most repitions possible\n",
    "greedyHaRegex=re.compile(r'(Ha){3,5}')\n",
    "mo1=greedyHaRegex.search('HaHaHaHaHa')\n",
    "print(mo1.group())\n",
    "#will get the least repitions possible\n",
    "nongreedyHaRegex=re.compile(r'(Ha){3,5}?')\n",
    "mo2=nongreedyHaRegex.search('HaHaHaHaHa')\n",
    "print(mo2.group())"
   ]
  },
  {
   "cell_type": "markdown",
   "metadata": {},
   "source": [
    "### FindAll() Method"
   ]
  },
  {
   "cell_type": "markdown",
   "metadata": {},
   "source": [
    "While search() finds the first match, findall() finds all the matches."
   ]
  },
  {
   "cell_type": "code",
   "execution_count": 12,
   "metadata": {},
   "outputs": [
    {
     "name": "stdout",
     "output_type": "stream",
     "text": [
      "415-555-9999\n",
      "['415-555-9999', '212-555-0000']\n"
     ]
    }
   ],
   "source": [
    "phoneNumRegex=re.compile(r'\\d\\d\\d-\\d\\d\\d-\\d\\d\\d\\d')\n",
    "#gets the first match\n",
    "mo=phoneNumRegex.search('Cell: 415-555-9999 Work: 212-555-0000')\n",
    "print(mo.group())\n",
    "#gets all matches\n",
    "#findall() returns a list\n",
    "mo2=phoneNumRegex.findall('Cell: 415-555-9999 Work: 212-555-0000')\n",
    "print(mo2)"
   ]
  },
  {
   "cell_type": "code",
   "execution_count": 13,
   "metadata": {},
   "outputs": [
    {
     "name": "stdout",
     "output_type": "stream",
     "text": [
      "[('415', '555', '9999'), ('212', '555', '0000')]\n"
     ]
    }
   ],
   "source": [
    "#findall() with groups\n",
    "phoneNumRegex=re.compile(r'(\\d\\d\\d)-(\\d\\d\\d)-(\\d\\d\\d\\d)')\n",
    "mo=phoneNumRegex.findall(\"Cell: 415-555-9999 Work: 212-555-0000\")\n",
    "print(mo)"
   ]
  },
  {
   "cell_type": "markdown",
   "metadata": {},
   "source": [
    "### Character Classes"
   ]
  },
  {
   "cell_type": "markdown",
   "metadata": {},
   "source": [
    "Shorthand character class\n",
    "- \\d any numeric digit 0-9\n",
    "- \\D any character that is not a numeric digit from 0-9\n",
    "- \\w any letter, numeric digit, or underscore\n",
    "- \\W any character that is not a letter, numeric digit, or underscore\n",
    "- \\s any space, tab, or newline character\n",
    "- \\S any character that is not a space, tab, or newline"
   ]
  },
  {
   "cell_type": "markdown",
   "metadata": {},
   "source": [
    "### Custom Character Classes"
   ]
  },
  {
   "cell_type": "code",
   "execution_count": 14,
   "metadata": {},
   "outputs": [
    {
     "name": "stdout",
     "output_type": "stream",
     "text": [
      "['o', 'o', 'o', 'e', 'a', 'a', 'o', 'o', 'A', 'O', 'O']\n",
      "['R', 'b', 'c', 'p', ' ', 't', 's', ' ', 'b', 'b', 'y', ' ', 'f', 'd', '.', ' ', 'B', 'B', 'Y', ' ', 'F', 'D']\n"
     ]
    }
   ],
   "source": [
    "#will match any of the characters found inside the square brackets\n",
    "vowelRegex=re.compile(r'[aeiouAEIOU]')\n",
    "mo=vowelRegex.findall('Robocop eats baby food. BABY FOOD')\n",
    "print(mo)\n",
    "#will match anything but the character in the square braces\n",
    "novowelRegex=re.compile(r'[^aeiouAEIOU]')\n",
    "mo=novowelRegex.findall('Robocop eats baby food. BABY FOOD')\n",
    "print(mo)"
   ]
  },
  {
   "cell_type": "markdown",
   "metadata": {},
   "source": [
    "Note: can use ranges like [a-z0-9]"
   ]
  },
  {
   "cell_type": "markdown",
   "metadata": {},
   "source": [
    "### Caret and Dollar Sign Characters"
   ]
  },
  {
   "cell_type": "code",
   "execution_count": 15,
   "metadata": {},
   "outputs": [
    {
     "name": "stdout",
     "output_type": "stream",
     "text": [
      "Hello\n",
      "World\n"
     ]
    }
   ],
   "source": [
    "#can use a ^ as show to see if the first character/Characters are as specified\n",
    "beginsWithHello=re.compile(r'^Hello')\n",
    "mo=beginsWithHello.search('Hello World')\n",
    "print(mo.group())\n",
    "# can use $ as well for ending\n",
    "endsWithWorld=re.compile(r'World')\n",
    "mo=endsWithWorld.search('Hello World')\n",
    "print(mo.group())"
   ]
  },
  {
   "cell_type": "code",
   "execution_count": 16,
   "metadata": {},
   "outputs": [
    {
     "data": {
      "text/plain": [
       "'^\\\\d+$'"
      ]
     },
     "execution_count": 16,
     "metadata": {},
     "output_type": "execute_result"
    }
   ],
   "source": [
    "#here are more examples\n",
    "(r'\\d$') #ends with a number\n",
    "(r'^\\d+$') #whole string is a number"
   ]
  },
  {
   "cell_type": "markdown",
   "metadata": {},
   "source": [
    "### Wildcard Character"
   ]
  },
  {
   "cell_type": "markdown",
   "metadata": {},
   "source": [
    "The \".\" (or dot) character in a regular expression is called a wildcard that will match anything but a newline."
   ]
  },
  {
   "cell_type": "code",
   "execution_count": 17,
   "metadata": {},
   "outputs": [
    {
     "name": "stdout",
     "output_type": "stream",
     "text": [
      "['cat', 'hat', 'sat', 'lat', 'mat']\n"
     ]
    }
   ],
   "source": [
    "#match anything first character that has at after\n",
    "atRegex=re.compile(r'.at')\n",
    "mo=atRegex.findall('The cat in the hat sat on the flat mat.')\n",
    "print(mo)"
   ]
  },
  {
   "cell_type": "markdown",
   "metadata": {},
   "source": [
    "Note: lat is matched not flat"
   ]
  },
  {
   "cell_type": "markdown",
   "metadata": {},
   "source": [
    "### Match everything with Dot-Star"
   ]
  },
  {
   "cell_type": "code",
   "execution_count": 18,
   "metadata": {},
   "outputs": [
    {
     "name": "stdout",
     "output_type": "stream",
     "text": [
      "Al\n",
      "Sweigart\n"
     ]
    }
   ],
   "source": [
    "#.* is greedy by default\n",
    "nameRegex=re.compile(r'First Name: (.*) Last Name: (.*)')\n",
    "mo=nameRegex.search('First Name: Al Last Name: Sweigart')\n",
    "print(mo.group(1))\n",
    "print(mo.group(2))"
   ]
  },
  {
   "cell_type": "code",
   "execution_count": 19,
   "metadata": {},
   "outputs": [
    {
     "name": "stdout",
     "output_type": "stream",
     "text": [
      "<To serve man>\n",
      "<To serve man> for dinner.>\n"
     ]
    }
   ],
   "source": [
    "#nongreedy\n",
    "nongreedyRegex=re.compile(r'<.*?>')\n",
    "mo=nongreedyRegex.search('<To serve man> for dinner.>')\n",
    "print(mo.group())\n",
    "\n",
    "#greedy\n",
    "greedyRegex=re.compile(r'<.*>')\n",
    "mo=greedyRegex.search('<To serve man> for dinner.>')\n",
    "print(mo.group())"
   ]
  },
  {
   "cell_type": "markdown",
   "metadata": {},
   "source": [
    "### Matching Newlines with Dot Character"
   ]
  },
  {
   "cell_type": "code",
   "execution_count": 20,
   "metadata": {},
   "outputs": [
    {
     "name": "stdout",
     "output_type": "stream",
     "text": [
      "Serve the public trust.\n",
      "Protect the innocent.\n",
      "Uphold the law.\n"
     ]
    }
   ],
   "source": [
    "#to get \\n as well use re.DOTALL as second parameter to compile\n",
    "newlineRegex=re.compile('.*',re.DOTALL)\n",
    "mo=newlineRegex.search('Serve the public trust.\\nProtect the innocent.\\nUphold the law.')\n",
    "print(mo.group())"
   ]
  },
  {
   "cell_type": "markdown",
   "metadata": {},
   "source": [
    "### Regex Symbols"
   ]
  },
  {
   "cell_type": "code",
   "execution_count": 21,
   "metadata": {
    "collapsed": true
   },
   "outputs": [],
   "source": [
    "# ? matches zero or 1 of preceding group\n",
    "# * matches zero or more of preceding group\n",
    "# + matches one or more of the preceding group\n",
    "# {n} matches exactly n of the preceding group\n",
    "# {n,} matched n or more of the preceding group\n",
    "# {,m} matches 0 to m of the preceding group\n",
    "# {n,m} matches at least n and at most m of the preceding group\n",
    "# {n,m}? or *? or +? performs nongreedy match\n",
    "# ^spam means string must begin with spam\n",
    "# spam$ means string must end with spam\n",
    "# The . matches any character except newline\n",
    "# \\d, \\w, and \\s match a digit, word or space character respectively\n",
    "# \\D, \\W and \\S match anything execpt a digit, word, or space character respectively\n",
    "# [abc] matches any character between the brackets\n",
    "# [^abc] matches any character that isn't between the brackets"
   ]
  },
  {
   "cell_type": "markdown",
   "metadata": {},
   "source": [
    "### Case-Insensitive Matching"
   ]
  },
  {
   "cell_type": "code",
   "execution_count": 22,
   "metadata": {},
   "outputs": [
    {
     "name": "stdout",
     "output_type": "stream",
     "text": [
      "Robocop\n",
      "RoBoCoP\n"
     ]
    }
   ],
   "source": [
    "# to make character insensitive pass re.IGNORECASE or re.I to second arg of re.compile()\n",
    "robocop=re.compile(r'robocop',re.I)\n",
    "mo1=robocop.search('Robocop')\n",
    "mo2=robocop.search('RoBoCoP')\n",
    "print(mo1.group())\n",
    "print(mo2.group())"
   ]
  },
  {
   "cell_type": "markdown",
   "metadata": {},
   "source": [
    "### Substituting Strings with the Sub() Method"
   ]
  },
  {
   "cell_type": "code",
   "execution_count": 23,
   "metadata": {},
   "outputs": [
    {
     "name": "stdout",
     "output_type": "stream",
     "text": [
      "CENSORED gave the secret documents to CENSORED.\n"
     ]
    }
   ],
   "source": [
    "namesRegex=re.compile(r'Agent \\w+')\n",
    "mo=namesRegex.sub('CENSORED','Agent Alice gave the secret documents to Agent Bob.')\n",
    "print(mo)"
   ]
  },
  {
   "cell_type": "code",
   "execution_count": 24,
   "metadata": {},
   "outputs": [
    {
     "name": "stdout",
     "output_type": "stream",
     "text": [
      "A**** told C**** that E**** knew B**** was a double agent.\n"
     ]
    }
   ],
   "source": [
    "#  \\1 takes the first letter from the match\n",
    "agentNamesRegex=re.compile(r'Agent (\\w)\\w*')\n",
    "mo=agentNamesRegex.sub(r'\\1****','Agent Alice told Agent Carol that Agent Eve knew Agent Bob was a double agent.')\n",
    "print(mo)"
   ]
  },
  {
   "cell_type": "markdown",
   "metadata": {},
   "source": [
    "### Managing Complex Regexes"
   ]
  },
  {
   "cell_type": "code",
   "execution_count": 26,
   "metadata": {
    "collapsed": true
   },
   "outputs": [],
   "source": [
    "# can use re.VERBOSE as second arg to re.compile() to ignore whitespaces and comments inside a reg expression\n",
    "phoneRegex=re.compile(r'''(\n",
    "(\\d{3}|\\(\\d{3}\\))?      #area code\n",
    "(\\s|-|\\.)?              # separator\n",
    "\\d{3}                   # first 3 digits\n",
    "(\\s|-|\\.)               # separator\n",
    "\\d{4}                   # last 4 digits\n",
    "(\\s*(ext|x|ext.)\\s*\\d{2,5})?   #extension\n",
    ")''',re.VERBOSE)\n",
    "\n",
    "#if you need to use multiple second args for re.compile()\n",
    "someRegexValue=re.compile('foo',re.IGNORECASE | re.DOTALL)"
   ]
  }
 ],
 "metadata": {
  "kernelspec": {
   "display_name": "Python 3",
   "language": "python",
   "name": "python3"
  },
  "language_info": {
   "codemirror_mode": {
    "name": "ipython",
    "version": 3
   },
   "file_extension": ".py",
   "mimetype": "text/x-python",
   "name": "python",
   "nbconvert_exporter": "python",
   "pygments_lexer": "ipython3",
   "version": "3.6.3"
  }
 },
 "nbformat": 4,
 "nbformat_minor": 2
}

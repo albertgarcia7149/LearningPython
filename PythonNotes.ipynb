{
 "cells": [
  {
   "cell_type": "markdown",
   "metadata": {},
   "source": [
    "# Binary Operations"
   ]
  },
  {
   "cell_type": "markdown",
   "metadata": {},
   "source": [
    "** Exponent \n",
    "\n",
    "%  Modulus\n",
    "\n",
    "// Integer Division/Floored Quotient \n",
    "\n",
    "/  Division\n",
    "\n",
    "*  Multiplication\n",
    "\n",
    "-  Subtraction\n",
    "\n",
    "+  addition"
   ]
  },
  {
   "cell_type": "markdown",
   "metadata": {},
   "source": [
    "# String Operations"
   ]
  },
  {
   "cell_type": "code",
   "execution_count": 1,
   "metadata": {},
   "outputs": [
    {
     "name": "stdout",
     "output_type": "stream",
     "text": [
      "AliceBob\n",
      "AliceAliceAliceAliceAlice\n"
     ]
    }
   ],
   "source": [
    "print('Alice' + 'Bob')\n",
    "print('Alice' * 5)"
   ]
  },
  {
   "cell_type": "markdown",
   "metadata": {},
   "source": [
    "# Variable Naming"
   ]
  },
  {
   "cell_type": "markdown",
   "metadata": {},
   "source": [
    "1. It can only be one word\n",
    "2. It can use only letters, numbers and the underscore character\n",
    "3. It can't begin with a number"
   ]
  },
  {
   "cell_type": "markdown",
   "metadata": {},
   "source": [
    "# Getting User Input"
   ]
  },
  {
   "cell_type": "markdown",
   "metadata": {},
   "source": [
    "userinput = input()"
   ]
  },
  {
   "cell_type": "markdown",
   "metadata": {},
   "source": [
    "# Printing"
   ]
  },
  {
   "cell_type": "code",
   "execution_count": 7,
   "metadata": {},
   "outputs": [
    {
     "name": "stdout",
     "output_type": "stream",
     "text": [
      "Hello World\n",
      "Hello bob\n",
      "Hello bob\n"
     ]
    }
   ],
   "source": [
    "print('Hello World')\n",
    "name = 'bob'\n",
    "print('Hello ' + name)\n",
    "print('Hello', name)"
   ]
  },
  {
   "cell_type": "markdown",
   "metadata": {},
   "source": [
    "# Get Length "
   ]
  },
  {
   "cell_type": "code",
   "execution_count": 9,
   "metadata": {},
   "outputs": [
    {
     "name": "stdout",
     "output_type": "stream",
     "text": [
      "5\n",
      "21\n"
     ]
    }
   ],
   "source": [
    "print(len('hello'))\n",
    "print(len('this is a long string'))"
   ]
  },
  {
   "cell_type": "markdown",
   "metadata": {},
   "source": [
    "# Primitive Data Casting"
   ]
  },
  {
   "cell_type": "code",
   "execution_count": 10,
   "metadata": {},
   "outputs": [
    {
     "name": "stdout",
     "output_type": "stream",
     "text": [
      "0\n",
      "42\n",
      "3.14\n",
      "10.0\n"
     ]
    }
   ],
   "source": [
    "print(str(0))\n",
    "print(int('42'))\n",
    "print(float('3.14'))\n",
    "print(float(10))"
   ]
  },
  {
   "cell_type": "markdown",
   "metadata": {},
   "source": [
    "# Comparision Operators"
   ]
  },
  {
   "cell_type": "markdown",
   "metadata": {},
   "source": [
    "== equal to\n",
    "!= not equal to\n",
    "< less than\n",
    "> greater than\n",
    "<= less than or equal to\n",
    "> greater than or equal to\n"
   ]
  },
  {
   "cell_type": "markdown",
   "metadata": {},
   "source": [
    "# And Or and Not"
   ]
  },
  {
   "cell_type": "code",
   "execution_count": 1,
   "metadata": {},
   "outputs": [
    {
     "name": "stdout",
     "output_type": "stream",
     "text": [
      "True or True is:  True\n",
      "not True is:  False\n",
      "True and False is:  False\n"
     ]
    }
   ],
   "source": [
    "print(\"True or True is: \",True or True)\n",
    "print(\"not True is: \",not True)\n",
    "print(\"True and False is: \",True and False)"
   ]
  },
  {
   "cell_type": "markdown",
   "metadata": {},
   "source": [
    "# If Statements"
   ]
  },
  {
   "cell_type": "code",
   "execution_count": 2,
   "metadata": {},
   "outputs": [
    {
     "name": "stdout",
     "output_type": "stream",
     "text": [
      "Hi,  Bob\n"
     ]
    }
   ],
   "source": [
    "name='Bob'\n",
    "if name=='Alice':\n",
    "    print('Hi, Alice')\n",
    "elif name=='Spam':\n",
    "    print('Hi, Spam')\n",
    "else:\n",
    "    print(\"Hi, \",name)"
   ]
  },
  {
   "cell_type": "markdown",
   "metadata": {},
   "source": [
    "# While Loop"
   ]
  },
  {
   "cell_type": "code",
   "execution_count": 4,
   "metadata": {},
   "outputs": [
    {
     "name": "stdout",
     "output_type": "stream",
     "text": [
      "5\n",
      "4\n",
      "3\n",
      "2\n",
      "1\n"
     ]
    }
   ],
   "source": [
    "a=5\n",
    "while a>0:\n",
    "    print(a)\n",
    "    a-=1"
   ]
  },
  {
   "cell_type": "markdown",
   "metadata": {},
   "source": [
    "# Break"
   ]
  },
  {
   "cell_type": "code",
   "execution_count": 7,
   "metadata": {},
   "outputs": [
    {
     "name": "stdout",
     "output_type": "stream",
     "text": [
      "a is not 3\n",
      "a is not 3\n",
      "a is 3\n"
     ]
    }
   ],
   "source": [
    "a=1\n",
    "while True:\n",
    "    if a==3:\n",
    "        print(\"a is 3\")\n",
    "        break\n",
    "    else:\n",
    "        print(\"a is not 3\")\n",
    "        a+=1"
   ]
  },
  {
   "cell_type": "markdown",
   "metadata": {},
   "source": [
    "# For Loop"
   ]
  },
  {
   "cell_type": "code",
   "execution_count": 10,
   "metadata": {},
   "outputs": [
    {
     "name": "stdout",
     "output_type": "stream",
     "text": [
      "iteration:  0\n",
      "iteration:  1\n",
      "iteration:  2\n",
      "iteration:  3\n",
      "iteration:  4\n"
     ]
    }
   ],
   "source": [
    "for i in range(5):\n",
    "    print(\"iteration: \",i)"
   ]
  },
  {
   "cell_type": "code",
   "execution_count": 11,
   "metadata": {},
   "outputs": [
    {
     "name": "stdout",
     "output_type": "stream",
     "text": [
      "iteration:  10\n",
      "iteration:  11\n",
      "iteration:  12\n",
      "iteration:  13\n",
      "iteration:  14\n"
     ]
    }
   ],
   "source": [
    "#prints 10-14\n",
    "for i in range(10,15):\n",
    "    print(\"iteration: \",i)"
   ]
  },
  {
   "cell_type": "code",
   "execution_count": 12,
   "metadata": {},
   "outputs": [
    {
     "name": "stdout",
     "output_type": "stream",
     "text": [
      "iteration:  10\n",
      "iteration:  12\n",
      "iteration:  14\n",
      "iteration:  16\n",
      "iteration:  18\n"
     ]
    }
   ],
   "source": [
    "#prints 10-19 by 2's\n",
    "for i in range(10,20,2):\n",
    "    print (\"iteration: \",i)"
   ]
  },
  {
   "cell_type": "markdown",
   "metadata": {},
   "source": [
    "# Importing Modules"
   ]
  },
  {
   "cell_type": "markdown",
   "metadata": {},
   "source": [
    "All python programs use built-in functions from the standard library.\n",
    "To use other modules you must add them to your program"
   ]
  },
  {
   "cell_type": "code",
   "execution_count": 15,
   "metadata": {},
   "outputs": [
    {
     "name": "stdout",
     "output_type": "stream",
     "text": [
      "3\n"
     ]
    }
   ],
   "source": [
    "#imports random\n",
    "import random\n",
    "print(random.randint(1,10))"
   ]
  },
  {
   "cell_type": "code",
   "execution_count": null,
   "metadata": {
    "collapsed": true
   },
   "outputs": [],
   "source": [
    "#imports multiple modules at once\n",
    "import random, sys, os, math"
   ]
  },
  {
   "cell_type": "markdown",
   "metadata": {},
   "source": [
    "An alternate form of import statement uses the keyword from. This method will no longer need the random prefix when calling a function from that library.\n",
    "(note: using the full name is more readable so just use import)"
   ]
  },
  {
   "cell_type": "code",
   "execution_count": 16,
   "metadata": {},
   "outputs": [
    {
     "name": "stdout",
     "output_type": "stream",
     "text": [
      "5\n"
     ]
    }
   ],
   "source": [
    "from random import *\n",
    "print(randint(1,10))"
   ]
  },
  {
   "cell_type": "markdown",
   "metadata": {},
   "source": [
    "# End Program Early"
   ]
  },
  {
   "cell_type": "code",
   "execution_count": 17,
   "metadata": {},
   "outputs": [
    {
     "name": "stdout",
     "output_type": "stream",
     "text": [
      "0\n",
      "1\n",
      "2\n",
      "3\n"
     ]
    },
    {
     "ename": "SystemExit",
     "evalue": "",
     "output_type": "error",
     "traceback": [
      "An exception has occurred, use %tb to see the full traceback.\n",
      "\u001b[1;31mSystemExit\u001b[0m\n"
     ]
    },
    {
     "name": "stderr",
     "output_type": "stream",
     "text": [
      "C:\\Users\\albg1\\Anaconda3\\lib\\site-packages\\IPython\\core\\interactiveshell.py:2870: UserWarning: To exit: use 'exit', 'quit', or Ctrl-D.\n",
      "  warn(\"To exit: use 'exit', 'quit', or Ctrl-D.\", stacklevel=1)\n"
     ]
    }
   ],
   "source": [
    "import sys\n",
    "for i in range(10):\n",
    "    if i==4:\n",
    "        sys.exit()\n",
    "    print(i)"
   ]
  },
  {
   "cell_type": "markdown",
   "metadata": {},
   "source": [
    "# Functions"
   ]
  },
  {
   "cell_type": "code",
   "execution_count": 18,
   "metadata": {},
   "outputs": [
    {
     "name": "stdout",
     "output_type": "stream",
     "text": [
      "Hello\n"
     ]
    }
   ],
   "source": [
    "def hello():\n",
    "    print(\"Hello\")\n",
    "    \n",
    "hello()"
   ]
  },
  {
   "cell_type": "code",
   "execution_count": 19,
   "metadata": {},
   "outputs": [
    {
     "name": "stdout",
     "output_type": "stream",
     "text": [
      "Hello  Spam\n"
     ]
    }
   ],
   "source": [
    "def hello(name):\n",
    "    print(\"Hello \",name)\n",
    "    \n",
    "hello(\"Spam\")"
   ]
  },
  {
   "cell_type": "code",
   "execution_count": 20,
   "metadata": {},
   "outputs": [
    {
     "name": "stdout",
     "output_type": "stream",
     "text": [
      "6\n"
     ]
    }
   ],
   "source": [
    "def add(a,b):\n",
    "    return a+b\n",
    "\n",
    "c=add(2,4)\n",
    "print(c)"
   ]
  },
  {
   "cell_type": "markdown",
   "metadata": {},
   "source": [
    "# None"
   ]
  },
  {
   "cell_type": "markdown",
   "metadata": {},
   "source": [
    "The None value represents the absence of a value. Since all functions must have a return type a function like print returns None"
   ]
  },
  {
   "cell_type": "code",
   "execution_count": 21,
   "metadata": {},
   "outputs": [
    {
     "name": "stdout",
     "output_type": "stream",
     "text": [
      "Hi\n",
      "None\n"
     ]
    }
   ],
   "source": [
    "val=print(\"Hi\")\n",
    "print(val)"
   ]
  },
  {
   "cell_type": "markdown",
   "metadata": {},
   "source": [
    "# Keyword Arguments"
   ]
  },
  {
   "cell_type": "markdown",
   "metadata": {},
   "source": [
    "Keyword arguments are identified by the keyword put before them. They are used for optional parameters"
   ]
  },
  {
   "cell_type": "code",
   "execution_count": 22,
   "metadata": {},
   "outputs": [
    {
     "name": "stdout",
     "output_type": "stream",
     "text": [
      "Hello\n",
      "World\n",
      "Hello World\n"
     ]
    }
   ],
   "source": [
    "print('Hello')\n",
    "print('World')\n",
    "\n",
    "print('Hello',end=' ')\n",
    "print('World')"
   ]
  },
  {
   "cell_type": "code",
   "execution_count": 23,
   "metadata": {},
   "outputs": [
    {
     "name": "stdout",
     "output_type": "stream",
     "text": [
      "a+b+c\n"
     ]
    }
   ],
   "source": [
    "print('a','b','c',sep='+')"
   ]
  },
  {
   "cell_type": "markdown",
   "metadata": {},
   "source": [
    "# Global Variables"
   ]
  },
  {
   "cell_type": "code",
   "execution_count": 25,
   "metadata": {},
   "outputs": [
    {
     "name": "stdout",
     "output_type": "stream",
     "text": [
      "In the local scope:  42\n",
      "In the global scope:  42\n"
     ]
    }
   ],
   "source": [
    "def spam():\n",
    "    print(\"In the local scope: \",eggs)\n",
    "\n",
    "eggs=42\n",
    "spam()\n",
    "print(\"In the global scope: \",eggs)"
   ]
  },
  {
   "cell_type": "code",
   "execution_count": 27,
   "metadata": {},
   "outputs": [
    {
     "name": "stdout",
     "output_type": "stream",
     "text": [
      "Eggs in the local scope:  32\n",
      "Eggs in the global scope:  42\n"
     ]
    }
   ],
   "source": [
    "def spam():\n",
    "    eggs=32\n",
    "    print(\"Eggs in the local scope: \",eggs)\n",
    "\n",
    "eggs=42\n",
    "spam()\n",
    "print(\"Eggs in the global scope: \",eggs)"
   ]
  },
  {
   "cell_type": "code",
   "execution_count": 28,
   "metadata": {},
   "outputs": [
    {
     "name": "stdout",
     "output_type": "stream",
     "text": [
      "32\n"
     ]
    }
   ],
   "source": [
    "def spam():\n",
    "    #modify global variable in a local scope\n",
    "    global eggs\n",
    "    eggs=32\n",
    "\n",
    "eggs=42\n",
    "spam()\n",
    "print(eggs)"
   ]
  },
  {
   "cell_type": "markdown",
   "metadata": {},
   "source": [
    "# Exception Handling"
   ]
  },
  {
   "cell_type": "code",
   "execution_count": 32,
   "metadata": {},
   "outputs": [
    {
     "name": "stdout",
     "output_type": "stream",
     "text": [
      "21.0\n",
      "3.5\n",
      "Error: Invalid Argument.\n",
      "None\n",
      "6.0\n"
     ]
    }
   ],
   "source": [
    "def spam(divideBy):\n",
    "    try:\n",
    "        return 42/divideBy\n",
    "    except ZeroDivisionError:\n",
    "        print(\"Error: Invalid Argument.\")\n",
    "        \n",
    "print(spam(2))\n",
    "print(spam(12))\n",
    "print(spam(0))\n",
    "print(spam(7))"
   ]
  },
  {
   "cell_type": "markdown",
   "metadata": {},
   "source": [
    "# Lists"
   ]
  },
  {
   "cell_type": "code",
   "execution_count": 33,
   "metadata": {},
   "outputs": [
    {
     "name": "stdout",
     "output_type": "stream",
     "text": [
      "[1, 2, 3]\n",
      "['cat', 'bat', 'rat', 'elephant']\n",
      "['hello', 3.1415, True, None, 42]\n"
     ]
    }
   ],
   "source": [
    "l1=[1,2,3]\n",
    "l2=['cat','bat','rat','elephant']\n",
    "l3=['hello',3.1415, True, None, 42]\n",
    "print(l1)\n",
    "print(l2)\n",
    "print(l3)"
   ]
  },
  {
   "cell_type": "code",
   "execution_count": 34,
   "metadata": {},
   "outputs": [
    {
     "name": "stdout",
     "output_type": "stream",
     "text": [
      "1\n",
      "2\n",
      "3\n"
     ]
    }
   ],
   "source": [
    "print(l1[0])\n",
    "print(l1[1])\n",
    "print(l1[2])"
   ]
  },
  {
   "cell_type": "code",
   "execution_count": 35,
   "metadata": {},
   "outputs": [
    {
     "name": "stdout",
     "output_type": "stream",
     "text": [
      "[1, 2, 3]\n",
      "6\n"
     ]
    }
   ],
   "source": [
    "l4=[[1,2,3],[4,5,6]]\n",
    "print(l4[0])\n",
    "print(l4[1][2])"
   ]
  },
  {
   "cell_type": "code",
   "execution_count": 36,
   "metadata": {},
   "outputs": [
    {
     "name": "stdout",
     "output_type": "stream",
     "text": [
      "elephant\n"
     ]
    }
   ],
   "source": [
    "#can use negative indices where -1 is last element -2 is second to last etc\n",
    "print(l2[-1])"
   ]
  },
  {
   "cell_type": "code",
   "execution_count": 38,
   "metadata": {},
   "outputs": [
    {
     "name": "stdout",
     "output_type": "stream",
     "text": [
      "['bat', 'rat']\n"
     ]
    }
   ],
   "source": [
    "#can get slices from a list\n",
    "print(l2[1:3])"
   ]
  },
  {
   "cell_type": "code",
   "execution_count": 39,
   "metadata": {},
   "outputs": [
    {
     "name": "stdout",
     "output_type": "stream",
     "text": [
      "['cat', 'bat']\n",
      "['bat', 'rat', 'elephant']\n",
      "['cat', 'bat', 'rat', 'elephant']\n"
     ]
    }
   ],
   "source": [
    "spam=['cat','bat','rat','elephant']\n",
    "print(spam[:2])\n",
    "print(spam[1:])\n",
    "print(spam[:])"
   ]
  },
  {
   "cell_type": "code",
   "execution_count": 40,
   "metadata": {},
   "outputs": [
    {
     "name": "stdout",
     "output_type": "stream",
     "text": [
      "4\n"
     ]
    }
   ],
   "source": [
    "#you can get the lenght of a list like so\n",
    "print(len(spam))"
   ]
  },
  {
   "cell_type": "code",
   "execution_count": 41,
   "metadata": {},
   "outputs": [
    {
     "name": "stdout",
     "output_type": "stream",
     "text": [
      "['cat', 'bat', 'rat', 'elephant']\n",
      "['hat', 'bat', 'rat', 'elephant']\n"
     ]
    }
   ],
   "source": [
    "#you can change items like so\n",
    "print(spam)\n",
    "spam[0]='hat'\n",
    "print(spam)"
   ]
  },
  {
   "cell_type": "code",
   "execution_count": 42,
   "metadata": {},
   "outputs": [
    {
     "name": "stdout",
     "output_type": "stream",
     "text": [
      "[1, 2, 3]\n",
      "['cat', 'bat', 'rat', 'elephant']\n",
      "l1 + l2 [1, 2, 3, 'cat', 'bat', 'rat', 'elephant']\n"
     ]
    }
   ],
   "source": [
    "#you can add lists\n",
    "print(l1)\n",
    "print(l2)\n",
    "print(\"l1 + l2\",l1+l2)"
   ]
  },
  {
   "cell_type": "code",
   "execution_count": 43,
   "metadata": {},
   "outputs": [
    {
     "name": "stdout",
     "output_type": "stream",
     "text": [
      "['hat', 'bat', 'rat', 'elephant']\n",
      "['bat', 'rat', 'elephant']\n"
     ]
    }
   ],
   "source": [
    "#delete item from list\n",
    "print(spam)\n",
    "del spam[0]\n",
    "print(spam)"
   ]
  },
  {
   "cell_type": "code",
   "execution_count": 45,
   "metadata": {},
   "outputs": [
    {
     "name": "stdout",
     "output_type": "stream",
     "text": [
      "Is howdy in the list?  True\n",
      "Is cat not in spam?  True\n"
     ]
    }
   ],
   "source": [
    "#the IN and NOT IN operators\n",
    "print(\"Is howdy in the list? \",'howdy' in ['hello','hi','howdy','heyas'])\n",
    "print(\"Is cat not in spam? \",'cat' not in spam)"
   ]
  },
  {
   "cell_type": "markdown",
   "metadata": {},
   "source": [
    "# Multiple Assignment"
   ]
  },
  {
   "cell_type": "code",
   "execution_count": 46,
   "metadata": {},
   "outputs": [
    {
     "name": "stdout",
     "output_type": "stream",
     "text": [
      "fat\n",
      "orange\n",
      "loud\n"
     ]
    }
   ],
   "source": [
    "cat=['fat','orange','loud']\n",
    "size, color, disposition = cat\n",
    "print(size)\n",
    "print(color)\n",
    "print(disposition)"
   ]
  },
  {
   "cell_type": "code",
   "execution_count": 47,
   "metadata": {},
   "outputs": [
    {
     "name": "stdout",
     "output_type": "stream",
     "text": [
      "a: 1\n",
      "b: 2\n",
      "a: 2\n",
      "b: 1\n"
     ]
    }
   ],
   "source": [
    "#can also be used to swap variables\n",
    "a,b=1,2\n",
    "print(\"a:\",a)\n",
    "print(\"b:\",b)\n",
    "a,b=b,a\n",
    "print(\"a:\",a)\n",
    "print(\"b:\",b)"
   ]
  },
  {
   "cell_type": "markdown",
   "metadata": {},
   "source": [
    "# Augmented Assignment"
   ]
  },
  {
   "cell_type": "markdown",
   "metadata": {},
   "source": [
    "spam+=1\n",
    "spam-=1\n",
    "spam*=1\n",
    "spam/=1\n",
    "spam%=1"
   ]
  },
  {
   "cell_type": "markdown",
   "metadata": {},
   "source": [
    "# Finding a Value in a List"
   ]
  },
  {
   "cell_type": "code",
   "execution_count": 48,
   "metadata": {},
   "outputs": [
    {
     "name": "stdout",
     "output_type": "stream",
     "text": [
      "0\n",
      "3\n"
     ]
    }
   ],
   "source": [
    "spam=['hello','hi','howdy','heyas']\n",
    "print(spam.index('hello'))\n",
    "print(spam.index('heyas'))"
   ]
  },
  {
   "cell_type": "markdown",
   "metadata": {},
   "source": [
    "# Appending, Inserting and Deleting"
   ]
  },
  {
   "cell_type": "code",
   "execution_count": 50,
   "metadata": {},
   "outputs": [
    {
     "name": "stdout",
     "output_type": "stream",
     "text": [
      "['hello', 'welcome', 'hi', 'howdy', 'heyas', 'hi there']\n",
      "['hello', 'welcome', 'hi', 'howdy', 'heyas', 'hi there', 'hi there']\n",
      "['hello', 'welcome', 'welcome', 'hi', 'howdy', 'heyas', 'hi there', 'hi there']\n",
      "['welcome', 'welcome', 'hi', 'howdy', 'heyas', 'hi there', 'hi there']\n"
     ]
    }
   ],
   "source": [
    "print(spam)\n",
    "spam.append('hi there')\n",
    "print(spam)\n",
    "spam.insert(1,'welcome')\n",
    "print(spam)\n",
    "spam.remove('hello')\n",
    "print(spam)"
   ]
  },
  {
   "cell_type": "markdown",
   "metadata": {},
   "source": [
    "# Sorting"
   ]
  },
  {
   "cell_type": "code",
   "execution_count": 51,
   "metadata": {},
   "outputs": [
    {
     "name": "stdout",
     "output_type": "stream",
     "text": [
      "['b', 'a', 'd', 'c']\n",
      "['a', 'b', 'c', 'd']\n",
      "['d', 'c', 'b', 'a']\n"
     ]
    }
   ],
   "source": [
    "#must all be the same type to sort (uses ascii order)\n",
    "abc=['b','a','d','c']\n",
    "print(abc)\n",
    "#sort ascending\n",
    "abc.sort()\n",
    "print(abc)\n",
    "#sort descending\n",
    "abc.sort(reverse=True)\n",
    "print(abc)"
   ]
  },
  {
   "cell_type": "code",
   "execution_count": 53,
   "metadata": {},
   "outputs": [
    {
     "name": "stdout",
     "output_type": "stream",
     "text": [
      "['A', 'c', 'b', 'D']\n",
      "['A', 'b', 'c', 'D']\n"
     ]
    }
   ],
   "source": [
    "abc=['A','c','b','D']\n",
    "print(abc)\n",
    "#sort by alphabetical (treats all letters as if they were lowercase)\n",
    "abc.sort(key=str.lower)\n",
    "print(abc)\n"
   ]
  },
  {
   "cell_type": "markdown",
   "metadata": {},
   "source": [
    "# Tuple"
   ]
  },
  {
   "cell_type": "code",
   "execution_count": 54,
   "metadata": {},
   "outputs": [
    {
     "name": "stdout",
     "output_type": "stream",
     "text": [
      "('hello', 42, 0.5)\n",
      "hello\n",
      "(42, 0.5)\n",
      "3\n"
     ]
    }
   ],
   "source": [
    "#tuples can't have their values modified\n",
    "eggs=('hello',42,0.5)\n",
    "print(eggs)\n",
    "print(eggs[0])\n",
    "print(eggs[1:3])\n",
    "print(len(eggs))"
   ]
  },
  {
   "cell_type": "markdown",
   "metadata": {},
   "source": [
    "# Copy and DeepCopy"
   ]
  },
  {
   "cell_type": "code",
   "execution_count": 55,
   "metadata": {},
   "outputs": [
    {
     "name": "stdout",
     "output_type": "stream",
     "text": [
      "['A', 'B', 'C', 'D']\n",
      "['A', 42, 'C', 'D']\n"
     ]
    }
   ],
   "source": [
    "import copy\n",
    "spam=['A','B','C','D']\n",
    "#deep copy\n",
    "cheese= copy.copy(spam)\n",
    "cheese[1]=42\n",
    "print(spam)\n",
    "print(cheese)"
   ]
  },
  {
   "cell_type": "markdown",
   "metadata": {
    "collapsed": true
   },
   "source": [
    "# String Double Quotes"
   ]
  },
  {
   "cell_type": "markdown",
   "metadata": {},
   "source": [
    "If you have a single quote in a string single quotes won't work properly."
   ]
  },
  {
   "cell_type": "code",
   "execution_count": 7,
   "metadata": {},
   "outputs": [
    {
     "ename": "SyntaxError",
     "evalue": "invalid syntax (<ipython-input-7-e6c2a7c71688>, line 2)",
     "output_type": "error",
     "traceback": [
      "\u001b[1;36m  File \u001b[1;32m\"<ipython-input-7-e6c2a7c71688>\"\u001b[1;36m, line \u001b[1;32m2\u001b[0m\n\u001b[1;33m    spam='That is Alice's cat\u001b[0m\n\u001b[1;37m                        ^\u001b[0m\n\u001b[1;31mSyntaxError\u001b[0m\u001b[1;31m:\u001b[0m invalid syntax\n"
     ]
    }
   ],
   "source": [
    "#Doesn't work properly\n",
    "spam='That is Alice's cat"
   ]
  },
  {
   "cell_type": "code",
   "execution_count": 5,
   "metadata": {},
   "outputs": [
    {
     "name": "stdout",
     "output_type": "stream",
     "text": [
      "That is Alice's cat.\n"
     ]
    }
   ],
   "source": [
    "#works properly\n",
    "spam=\"That is Alice's cat.\"\n",
    "print(spam)"
   ]
  },
  {
   "cell_type": "markdown",
   "metadata": {},
   "source": [
    "# Escape Characters"
   ]
  },
  {
   "cell_type": "markdown",
   "metadata": {},
   "source": [
    "lets you use characters that are otherwise impossible to put into a string. It uses a backslash (\\) followed by the character you want added to the string."
   ]
  },
  {
   "cell_type": "code",
   "execution_count": 8,
   "metadata": {},
   "outputs": [
    {
     "name": "stdout",
     "output_type": "stream",
     "text": [
      "Say hi to Bob's mother.\n"
     ]
    }
   ],
   "source": [
    "spam='Say hi to Bob\\'s mother.'\n",
    "print(spam)"
   ]
  },
  {
   "cell_type": "code",
   "execution_count": null,
   "metadata": {
    "collapsed": true
   },
   "outputs": [],
   "source": [
    "'''#here are some examples\n",
    "\\'    single quote\n",
    "\\\"    double quote\n",
    "\\t     tab\n",
    "\\n    newline\n",
    "\\\\    backslash\n",
    "'''"
   ]
  },
  {
   "cell_type": "markdown",
   "metadata": {},
   "source": [
    "# Raw Strings"
   ]
  },
  {
   "cell_type": "markdown",
   "metadata": {},
   "source": [
    "You can place an r before the beginning quotation mark of a string\n",
    "to make it a raw string.\n",
    "\n",
    "A raw string ignores all escape characters and prints backslashes that appear in the string.\n"
   ]
  },
  {
   "cell_type": "code",
   "execution_count": 9,
   "metadata": {},
   "outputs": [
    {
     "name": "stdout",
     "output_type": "stream",
     "text": [
      "That is Carol\\'s cat.\n"
     ]
    }
   ],
   "source": [
    "print(r'That is Carol\\'s cat.')"
   ]
  },
  {
   "cell_type": "markdown",
   "metadata": {},
   "source": [
    "# Multiline Strings"
   ]
  },
  {
   "cell_type": "code",
   "execution_count": 11,
   "metadata": {},
   "outputs": [
    {
     "name": "stdout",
     "output_type": "stream",
     "text": [
      "Hello,\n",
      "How are you?\n",
      "Goodbye\n",
      "Hello\n",
      "How are you?\n",
      "Goodbye\n"
     ]
    }
   ],
   "source": [
    "#Here is an example\n",
    "print(\"\"\"Hello,\n",
    "How are you?\n",
    "Goodbye\"\"\")\n",
    "# or with single quotes\n",
    "print('''Hello\n",
    "How are you?\n",
    "Goodbye''')"
   ]
  },
  {
   "cell_type": "markdown",
   "metadata": {},
   "source": [
    "# Multiline Comment"
   ]
  },
  {
   "cell_type": "markdown",
   "metadata": {},
   "source": [
    "Multiline comments use \"\"\"Comment here\"\"\""
   ]
  },
  {
   "cell_type": "markdown",
   "metadata": {},
   "source": [
    "# Indexing and Slicing Strings"
   ]
  },
  {
   "cell_type": "code",
   "execution_count": 19,
   "metadata": {},
   "outputs": [
    {
     "name": "stdout",
     "output_type": "stream",
     "text": [
      "H\n",
      "o\n",
      "!\n",
      "Hello\n",
      "world!\n"
     ]
    }
   ],
   "source": [
    "spam = 'Hello world!'\n",
    "#print character at index 0\n",
    "print(spam[0])\n",
    "#print character at index 4\n",
    "print(spam[4])\n",
    "#print last character in string\n",
    "print(spam[-1])\n",
    "#print character 0 to 4\n",
    "print(spam[0:5])\n",
    "#print from character 6 and on\n",
    "print(spam[6:])"
   ]
  },
  {
   "cell_type": "markdown",
   "metadata": {},
   "source": [
    "# In and Not In Operators with Strings"
   ]
  },
  {
   "cell_type": "code",
   "execution_count": 20,
   "metadata": {},
   "outputs": [
    {
     "name": "stdout",
     "output_type": "stream",
     "text": [
      "True\n",
      "False\n",
      "True\n"
     ]
    }
   ],
   "source": [
    "print('hello' in 'hello world')\n",
    "print('HELLO' in 'hello world')\n",
    "print('HELLO' not in 'hello world')"
   ]
  },
  {
   "cell_type": "markdown",
   "metadata": {},
   "source": [
    "# Upper(), Lower(), IsUpper(), and IsLower()"
   ]
  },
  {
   "cell_type": "code",
   "execution_count": 22,
   "metadata": {},
   "outputs": [
    {
     "name": "stdout",
     "output_type": "stream",
     "text": [
      "HELLO WORLD\n",
      "hello world\n"
     ]
    }
   ],
   "source": [
    "spam=\"hello world\"\n",
    "spam=spam.upper()\n",
    "print(spam)\n",
    "spam=spam.lower()\n",
    "print(spam)\n"
   ]
  },
  {
   "cell_type": "code",
   "execution_count": 23,
   "metadata": {},
   "outputs": [
    {
     "name": "stdout",
     "output_type": "stream",
     "text": [
      "True\n"
     ]
    }
   ],
   "source": [
    "# can be used to modify strings for comparisions\n",
    "spam=\"HELLO\"\n",
    "if spam.lower() == 'hello':\n",
    "    print('True')"
   ]
  },
  {
   "cell_type": "code",
   "execution_count": 25,
   "metadata": {},
   "outputs": [
    {
     "name": "stdout",
     "output_type": "stream",
     "text": [
      "False\n",
      "False\n",
      "True\n",
      "True\n",
      "True\n"
     ]
    }
   ],
   "source": [
    "spam=\"Hello World\"\n",
    "print(spam.islower())\n",
    "print(spam.isupper())\n",
    "print('hello'.islower())\n",
    "print('HELLO'.isupper())\n",
    "# note numbers are ignored\n",
    "print('abc12345'.islower())"
   ]
  },
  {
   "cell_type": "markdown",
   "metadata": {},
   "source": [
    "Here are some more is functions\n",
    "- isalpha()\n",
    "- isalnum()\n",
    "- isdecimal()\n",
    "- isspace()\n",
    "- istitle()"
   ]
  },
  {
   "cell_type": "markdown",
   "metadata": {},
   "source": [
    "# StartsWith() and EndsWith() String Methods"
   ]
  },
  {
   "cell_type": "code",
   "execution_count": 26,
   "metadata": {},
   "outputs": [
    {
     "name": "stdout",
     "output_type": "stream",
     "text": [
      "True\n",
      "True\n",
      "False\n",
      "False\n"
     ]
    }
   ],
   "source": [
    "print('Hello world!'.startswith('Hello'))\n",
    "print('Hello world!'.endswith('world!'))\n",
    "print('Hello world!'.startswith('hello'))\n",
    "print('Hello world!'.endswith('world'))"
   ]
  },
  {
   "cell_type": "markdown",
   "metadata": {},
   "source": [
    "# Join() and Split()"
   ]
  },
  {
   "cell_type": "code",
   "execution_count": 32,
   "metadata": {},
   "outputs": [
    {
     "name": "stdout",
     "output_type": "stream",
     "text": [
      "cats, rats, bats\n",
      "catsratsbats\n",
      "catsABCratsABCbats\n",
      "['My', 'name', 'is', 'Simon']\n",
      "['My na', 'e is Si', 'on']\n"
     ]
    }
   ],
   "source": [
    "#joins these strings togeather with commas\n",
    "print(', '.join(['cats', 'rats', 'bats']))\n",
    "#just joins\n",
    "print(''.join(['cats', 'rats', 'bats']))\n",
    "#joins with ABC\n",
    "print('ABC'.join(['cats', 'rats', 'bats']))\n",
    "#splits the string by spaces (whitespaces by default)\n",
    "print('My name is Simon'.split())\n",
    "#splits the string by the letter m\n",
    "print('My name is Simon'.split('m'))"
   ]
  },
  {
   "cell_type": "code",
   "execution_count": 36,
   "metadata": {},
   "outputs": [
    {
     "name": "stdout",
     "output_type": "stream",
     "text": [
      "['Hello', 'How are you?', 'Goodbye']\n"
     ]
    }
   ],
   "source": [
    "# splits by newline\n",
    "spam='''Hello\n",
    "How are you?\n",
    "Goodbye'''\n",
    "print(spam.split('\\n'))"
   ]
  },
  {
   "cell_type": "markdown",
   "metadata": {},
   "source": [
    "# Justifying Text RJust(), LJust(), Center() "
   ]
  },
  {
   "cell_type": "code",
   "execution_count": 38,
   "metadata": {},
   "outputs": [
    {
     "name": "stdout",
     "output_type": "stream",
     "text": [
      "     Hello\n",
      "***************Hello\n",
      "Hello     \n",
      "Hello###############\n",
      "       Hello        \n",
      "%%%%%%%Hello%%%%%%%%\n"
     ]
    }
   ],
   "source": [
    "print('Hello'.rjust(10))\n",
    "print('Hello'.rjust(20,'*'))\n",
    "print('Hello'.ljust(10))\n",
    "print('Hello'.ljust(20,'#'))\n",
    "print('Hello'.center(20))\n",
    "print('Hello'.center(20,'%'))"
   ]
  },
  {
   "cell_type": "markdown",
   "metadata": {},
   "source": [
    "# Strip(), RStrip(), and LStrip()"
   ]
  },
  {
   "cell_type": "code",
   "execution_count": 39,
   "metadata": {},
   "outputs": [
    {
     "name": "stdout",
     "output_type": "stream",
     "text": [
      "Hello\n",
      "Hello        \n",
      "          Hello\n"
     ]
    }
   ],
   "source": [
    "#removes whitespaces\n",
    "spam='          Hello        '\n",
    "print(spam.strip())\n",
    "print(spam.lstrip())\n",
    "print(spam.rstrip())"
   ]
  },
  {
   "cell_type": "code",
   "execution_count": 46,
   "metadata": {},
   "outputs": [
    {
     "name": "stdout",
     "output_type": "stream",
     "text": [
      "ellohellohe\n"
     ]
    }
   ],
   "source": [
    "#removes instances of characters of string from front and back\n",
    "spam=\"hellohellohello\"\n",
    "print(spam.strip('holl'))"
   ]
  },
  {
   "cell_type": "markdown",
   "metadata": {},
   "source": [
    "# Copying and Pasting Strings Pyperclip Module"
   ]
  },
  {
   "cell_type": "code",
   "execution_count": 48,
   "metadata": {},
   "outputs": [
    {
     "name": "stdout",
     "output_type": "stream",
     "text": [
      "Hello world!\n"
     ]
    }
   ],
   "source": [
    "import pyperclip\n",
    "pyperclip.copy('Hello world!')\n",
    "print(pyperclip.paste())"
   ]
  },
  {
   "cell_type": "markdown",
   "metadata": {},
   "source": [
    "Note: if clip board changes then the program with paste what is currently in the clipboard"
   ]
  },
  {
   "cell_type": "markdown",
   "metadata": {},
   "source": [
    "# Using Regular Expressions to Find Patterns of Text"
   ]
  },
  {
   "cell_type": "code",
   "execution_count": 51,
   "metadata": {},
   "outputs": [
    {
     "name": "stdout",
     "output_type": "stream",
     "text": [
      "Phone number found: 415-555-4242\n"
     ]
    }
   ],
   "source": [
    "#create Regex object\n",
    "import re\n",
    "#pass raw sting to re.compile()\n",
    "phoneNumRegex= re.compile(r'\\d\\d\\d-\\d\\d\\d-\\d\\d\\d\\d')\n",
    "#matching Regex Object\n",
    "mo=phoneNumRegex.search('My number is 415-555-4242')\n",
    "print('Phone number found: '+mo.group())"
   ]
  },
  {
   "cell_type": "code",
   "execution_count": 52,
   "metadata": {},
   "outputs": [
    {
     "name": "stdout",
     "output_type": "stream",
     "text": [
      "415\n",
      "555-4242\n",
      "415-555-4242\n",
      "415-555-4242\n"
     ]
    }
   ],
   "source": [
    "#regex matching using grouping\n",
    "phoneNumRegex=re.compile(r'(\\d\\d\\d)-(\\d\\d\\d-\\d\\d\\d\\d)')\n",
    "mo = phoneNumRegex.search('My number is 415-555-4242.')\n",
    "#prints matches from first group (first set of parenthises)\n",
    "print(mo.group(1))\n",
    "#prints match from second group\n",
    "print(mo.group(2))\n",
    "#prints match from whole regex\n",
    "print(mo.group(0))\n",
    "#also prints match from whole regex\n",
    "print(mo.group())"
   ]
  },
  {
   "cell_type": "code",
   "execution_count": 53,
   "metadata": {},
   "outputs": [
    {
     "name": "stdout",
     "output_type": "stream",
     "text": [
      "('415', '555-4242')\n",
      "415\n",
      "555-4242\n"
     ]
    }
   ],
   "source": [
    "#prints all the groups\n",
    "print(mo.groups())\n",
    "#assign names to each group\n",
    "areaCode, mainNumber=mo.groups()\n",
    "print(areaCode)\n",
    "print(mainNumber)"
   ]
  },
  {
   "cell_type": "code",
   "execution_count": 54,
   "metadata": {},
   "outputs": [
    {
     "name": "stdout",
     "output_type": "stream",
     "text": [
      "(415)\n",
      "555-4242\n"
     ]
    }
   ],
   "source": [
    "#if you need to use parentheses as a character in the regex expression\n",
    "phoneNumRegex=re.compile(r'(\\(\\d\\d\\d\\)) (\\d\\d\\d-\\d\\d\\d\\d)')\n",
    "mo=phoneNumRegex.search('My phone number is (415) 555-4242.')\n",
    "print(mo.group(1))\n",
    "print(mo.group(2))"
   ]
  },
  {
   "cell_type": "markdown",
   "metadata": {},
   "source": [
    "# Matching Groups with the Pipe"
   ]
  },
  {
   "cell_type": "markdown",
   "metadata": {},
   "source": [
    "The | character is called a pipe. When used it will match the preceding string or the proceding string"
   ]
  },
  {
   "cell_type": "code",
   "execution_count": 58,
   "metadata": {},
   "outputs": [
    {
     "name": "stdout",
     "output_type": "stream",
     "text": [
      "Batman\n",
      "Tina Fey\n"
     ]
    }
   ],
   "source": [
    "heroRegex=re.compile(r'Batman|Tina Fey')\n",
    "mo1=heroRegex.search('Batman and Tina Fey.')\n",
    "#matched the first occurance of either Batman or Tina Fey, not both\n",
    "#this will match batman\n",
    "print(mo1.group())\n",
    "mo2=heroRegex.search('Tina Fey and Batman.')\n",
    "#this will match Tina Fey\n",
    "print(mo2.group())"
   ]
  },
  {
   "cell_type": "code",
   "execution_count": 62,
   "metadata": {},
   "outputs": [
    {
     "name": "stdout",
     "output_type": "stream",
     "text": [
      "Batmobile\n",
      "mobile\n"
     ]
    }
   ],
   "source": [
    "#matches Bat plus any of the following strings\n",
    "batRegex=re.compile(r'Bat(man|mobile|copter|bat)')\n",
    "mo=batRegex.search('Batmobile lost a wheel')\n",
    "print(mo.group())\n",
    "print(mo.group(1))"
   ]
  },
  {
   "cell_type": "markdown",
   "metadata": {},
   "source": [
    "# Optional Matching with Question Mark"
   ]
  },
  {
   "cell_type": "code",
   "execution_count": 64,
   "metadata": {},
   "outputs": [
    {
     "name": "stdout",
     "output_type": "stream",
     "text": [
      "Batman\n",
      "Batwoman\n"
     ]
    }
   ],
   "source": [
    "# use ? to add optional matching\n",
    "batRegex=re.compile(r'Bat(wo)?man')\n",
    "mo1=batRegex.search('The Adventures of Batman')\n",
    "print(mo1.group())\n",
    "mo2=batRegex.search('The Adventures of Batwoman')\n",
    "print(mo2.group())"
   ]
  },
  {
   "cell_type": "markdown",
   "metadata": {},
   "source": [
    "note: if you ever need to match the question mark use \\?"
   ]
  },
  {
   "cell_type": "markdown",
   "metadata": {},
   "source": [
    "# Matching One or More with the Plus"
   ]
  },
  {
   "cell_type": "code",
   "execution_count": 67,
   "metadata": {},
   "outputs": [
    {
     "name": "stdout",
     "output_type": "stream",
     "text": [
      "Batwoman\n",
      "Batwowowowoman\n",
      "True\n"
     ]
    }
   ],
   "source": [
    "batRegex=re.compile(r'Bat(wo)+man')\n",
    "mo1=batRegex.search('The Adventures of Batwoman')\n",
    "print(mo1.group())\n",
    "mo2=batRegex.search('The Adventures of Batwowowowoman')\n",
    "print(mo2.group())\n",
    "#doesnt match the no occurances of wo\n",
    "mo3=batRegex.search('The Adventures of Batman')\n",
    "print(mo3==None)"
   ]
  },
  {
   "cell_type": "markdown",
   "metadata": {},
   "source": [
    "note: if you need to use plus just escape it \\+"
   ]
  },
  {
   "cell_type": "markdown",
   "metadata": {},
   "source": [
    "# Matching Specific Repetitions with Curly Brackets"
   ]
  },
  {
   "cell_type": "code",
   "execution_count": 69,
   "metadata": {},
   "outputs": [
    {
     "name": "stdout",
     "output_type": "stream",
     "text": [
      "HaHaHa\n",
      "True\n"
     ]
    }
   ],
   "source": [
    "#searches for HaHaHa\n",
    "haRegex=re.compile(r'(Ha){3}')\n",
    "mo1=haRegex.search('HaHaHa')\n",
    "print(mo1.group())\n",
    "mo2=haRegex.search('Ha')\n",
    "#wont find because only 1 repition of Ha\n",
    "print(mo2==None)"
   ]
  },
  {
   "cell_type": "code",
   "execution_count": 70,
   "metadata": {},
   "outputs": [
    {
     "name": "stdout",
     "output_type": "stream",
     "text": [
      "Ha\n",
      "HaHaHa\n"
     ]
    }
   ],
   "source": [
    "#searches from 1 to 3 repititions of Ha\n",
    "ha2Regex=re.compile(r'(Ha){1,3}')\n",
    "mo1=ha2Regex.search('Ha')\n",
    "print(mo1.group())\n",
    "mo2=ha2Regex.search('HaHaHa')\n",
    "print(mo2.group())"
   ]
  },
  {
   "cell_type": "code",
   "execution_count": 71,
   "metadata": {},
   "outputs": [
    {
     "name": "stdout",
     "output_type": "stream",
     "text": [
      "HaHaHaHaHa\n",
      "HaHaHa\n"
     ]
    }
   ],
   "source": [
    "#greedy and nongreedy\n",
    "#will get the most repitions possible\n",
    "greedyHaRegex=re.compile(r'(Ha){3,5}')\n",
    "mo1=greedyHaRegex.search('HaHaHaHaHa')\n",
    "print(mo1.group())\n",
    "#will get the least repitions possible\n",
    "nongreedyHaRegex=re.compile(r'(Ha){3,5}?')\n",
    "mo2=nongreedyHaRegex.search('HaHaHaHaHa')\n",
    "print(mo2.group())"
   ]
  },
  {
   "cell_type": "markdown",
   "metadata": {},
   "source": [
    "# FindAll() Method"
   ]
  },
  {
   "cell_type": "markdown",
   "metadata": {},
   "source": [
    "While search() finds the first match\n",
    "findall() finds all matches"
   ]
  },
  {
   "cell_type": "code",
   "execution_count": 75,
   "metadata": {},
   "outputs": [
    {
     "name": "stdout",
     "output_type": "stream",
     "text": [
      "415-555-9999\n",
      "['415-555-9999', '212-555-0000']\n"
     ]
    }
   ],
   "source": [
    "phoneNumRegex=re.compile(r'\\d\\d\\d-\\d\\d\\d-\\d\\d\\d\\d')\n",
    "#gets the first match\n",
    "mo=phoneNumRegex.search('Cell: 415-555-9999 Work: 212-555-0000')\n",
    "print(mo.group())\n",
    "#gets all matches\n",
    "#findall() returns a list\n",
    "mo2=phoneNumRegex.findall('Cell: 415-555-9999 Work: 212-555-0000')\n",
    "print(mo2)"
   ]
  },
  {
   "cell_type": "code",
   "execution_count": 76,
   "metadata": {},
   "outputs": [
    {
     "name": "stdout",
     "output_type": "stream",
     "text": [
      "[('415', '555', '9999'), ('212', '555', '0000')]\n"
     ]
    }
   ],
   "source": [
    "#findall() with groups\n",
    "phoneNumRegex=re.compile(r'(\\d\\d\\d)-(\\d\\d\\d)-(\\d\\d\\d\\d)')\n",
    "mo=phoneNumRegex.findall(\"Cell: 415-555-9999 Work: 212-555-0000\")\n",
    "print(mo)"
   ]
  },
  {
   "cell_type": "markdown",
   "metadata": {},
   "source": [
    "# Character Classes"
   ]
  },
  {
   "cell_type": "markdown",
   "metadata": {},
   "source": [
    "Shorthand character class\n",
    "- \\d any numeric digit 0-9\n",
    "- \\D any character that is not a numeric digit from 0-9\n",
    "- \\w any letter, numeric digit, or underscore\n",
    "- \\W any character that is not a letter, numeric digit, or underscore\n",
    "- \\s any space, tab, or newline character\n",
    "- \\S any character that is not a space, tab, or newline"
   ]
  },
  {
   "cell_type": "markdown",
   "metadata": {},
   "source": [
    "# Custom Character Classes"
   ]
  },
  {
   "cell_type": "code",
   "execution_count": 79,
   "metadata": {},
   "outputs": [
    {
     "name": "stdout",
     "output_type": "stream",
     "text": [
      "['o', 'o', 'o', 'e', 'a', 'a', 'o', 'o', 'A', 'O', 'O']\n",
      "['R', 'b', 'c', 'p', ' ', 't', 's', ' ', 'b', 'b', 'y', ' ', 'f', 'd', '.', ' ', 'B', 'B', 'Y', ' ', 'F', 'D']\n"
     ]
    }
   ],
   "source": [
    "#will match any of the characters found inside the square brackets\n",
    "vowelRegex=re.compile(r'[aeiouAEIOU]')\n",
    "mo=vowelRegex.findall('Robocop eats baby food. BABY FOOD')\n",
    "print(mo)\n",
    "#will match anything but the character in the square braces\n",
    "novowelRegex=re.compile(r'[^aeiouAEIOU]')\n",
    "mo=novowelRegex.findall('Robocop eats baby food. BABY FOOD')\n",
    "print(mo)"
   ]
  },
  {
   "cell_type": "markdown",
   "metadata": {},
   "source": [
    "note: can use ranges like [a-z0-9]"
   ]
  },
  {
   "cell_type": "markdown",
   "metadata": {},
   "source": [
    "# Caret and Dollar Sign Characters"
   ]
  },
  {
   "cell_type": "code",
   "execution_count": 83,
   "metadata": {},
   "outputs": [
    {
     "name": "stdout",
     "output_type": "stream",
     "text": [
      "Hello\n",
      "World\n"
     ]
    }
   ],
   "source": [
    "#can use a ^ as show to see if the first character/Characters are as specified\n",
    "beginsWithHello=re.compile(r'^Hello')\n",
    "mo=beginsWithHello.search('Hello World')\n",
    "print(mo.group())\n",
    "# can use $ as well for ending\n",
    "endsWithWorld=re.compile(r'World')\n",
    "mo=endsWithWorld.search('Hello World')\n",
    "print(mo.group())"
   ]
  },
  {
   "cell_type": "code",
   "execution_count": null,
   "metadata": {
    "collapsed": true
   },
   "outputs": [],
   "source": [
    "#here are more examples\n",
    "(r'\\d$') #ends with a number\n",
    "(r'^\\d+$') #whole string is a number"
   ]
  },
  {
   "cell_type": "markdown",
   "metadata": {},
   "source": [
    "# Wildcard Character"
   ]
  },
  {
   "cell_type": "markdown",
   "metadata": {},
   "source": [
    "The . (or dot) character in a regular expression is called a wildcard that will match anything but a newline"
   ]
  },
  {
   "cell_type": "code",
   "execution_count": 85,
   "metadata": {},
   "outputs": [
    {
     "name": "stdout",
     "output_type": "stream",
     "text": [
      "['cat', 'hat', 'sat', 'lat', 'mat']\n"
     ]
    }
   ],
   "source": [
    "#match anything first character that has at after\n",
    "atRegex=re.compile(r'.at')\n",
    "mo=atRegex.findall('The cat in the hat sat on the flat mat.')\n",
    "print(mo)"
   ]
  },
  {
   "cell_type": "markdown",
   "metadata": {},
   "source": [
    "note: lat is matched not flat"
   ]
  },
  {
   "cell_type": "markdown",
   "metadata": {},
   "source": [
    "# Match everything with Dot-Star"
   ]
  },
  {
   "cell_type": "code",
   "execution_count": 88,
   "metadata": {},
   "outputs": [
    {
     "name": "stdout",
     "output_type": "stream",
     "text": [
      "Al\n",
      "Sweigart\n"
     ]
    }
   ],
   "source": [
    "#.* is greedy by default\n",
    "nameRegex=re.compile(r'First Name: (.*) Last Name: (.*)')\n",
    "mo=nameRegex.search('First Name: Al Last Name: Sweigart')\n",
    "print(mo.group(1))\n",
    "print(mo.group(2))"
   ]
  },
  {
   "cell_type": "code",
   "execution_count": 89,
   "metadata": {},
   "outputs": [
    {
     "name": "stdout",
     "output_type": "stream",
     "text": [
      "<To serve man>\n",
      "<To serve man> for dinner.>\n"
     ]
    }
   ],
   "source": [
    "#nongreedy\n",
    "nongreedyRegex=re.compile(r'<.*?>')\n",
    "mo=nongreedyRegex.search('<To serve man> for dinner.>')\n",
    "print(mo.group())\n",
    "\n",
    "#greedy\n",
    "greedyRegex=re.compile(r'<.*>')\n",
    "mo=greedyRegex.search('<To serve man> for dinner.>')\n",
    "print(mo.group())"
   ]
  },
  {
   "cell_type": "markdown",
   "metadata": {},
   "source": [
    "# Matching Newlines with Dot Character"
   ]
  },
  {
   "cell_type": "code",
   "execution_count": 90,
   "metadata": {},
   "outputs": [
    {
     "name": "stdout",
     "output_type": "stream",
     "text": [
      "Serve the public trust.\n",
      "Protect the innocent.\n",
      "Uphold the law.\n"
     ]
    }
   ],
   "source": [
    "#to get \\n as well use re.DOTALL as second parameter to compile\n",
    "newlineRegex=re.compile('.*',re.DOTALL)\n",
    "mo=newlineRegex.search('Serve the public trust.\\nProtect the innocent.\\nUphold the law.')\n",
    "print(mo.group())"
   ]
  },
  {
   "cell_type": "markdown",
   "metadata": {},
   "source": [
    "# Regex Symbols "
   ]
  },
  {
   "cell_type": "code",
   "execution_count": null,
   "metadata": {
    "collapsed": true
   },
   "outputs": [],
   "source": [
    "# ? matches zero or 1 of preceding group\n",
    "# * matches zero or more of preceding group\n",
    "# + matches one or more of the preceding group\n",
    "# {n} matches exactly n of the preceding group\n",
    "# {n,} matched n or more of the preceding group\n",
    "# {,m} matches 0 to m of the preceding group\n",
    "# {n,m} matches at least n and at most m of the preceding group\n",
    "# {n,m}? or *? or +? performs nongreedy match\n",
    "# ^spam means string must begin with spam\n",
    "# spam$ means string must end with spam\n",
    "# The . matches any character except newline\n",
    "# \\d, \\w, and \\s match a digit, word or space character respectively\n",
    "# \\D, \\W and \\S match anything execpt a digit, word, or space character respectively\n",
    "# [abc] matches any character between the brackets\n",
    "# [^abc] matches any character that isn't between the brackets"
   ]
  },
  {
   "cell_type": "markdown",
   "metadata": {},
   "source": [
    "# Case-Insensitive Matching"
   ]
  },
  {
   "cell_type": "code",
   "execution_count": 91,
   "metadata": {},
   "outputs": [
    {
     "name": "stdout",
     "output_type": "stream",
     "text": [
      "Robocop\n",
      "RoBoCoP\n"
     ]
    }
   ],
   "source": [
    "# to make character insensitive pass re.IGNORECASE or re.I to second arg of re.compile()\n",
    "robocop=re.compile(r'robocop',re.I)\n",
    "mo1=robocop.search('Robocop')\n",
    "mo2=robocop.search('RoBoCoP')\n",
    "print(mo1.group())\n",
    "print(mo2.group())"
   ]
  },
  {
   "cell_type": "markdown",
   "metadata": {},
   "source": [
    "# Substituting Strings with the Sub() Method"
   ]
  },
  {
   "cell_type": "code",
   "execution_count": 92,
   "metadata": {},
   "outputs": [
    {
     "name": "stdout",
     "output_type": "stream",
     "text": [
      "CENSORED gave the secret documents to CENSORED.\n"
     ]
    }
   ],
   "source": [
    "namesRegex=re.compile(r'Agent \\w+')\n",
    "mo=namesRegex.sub('CENSORED','Agent Alice gave the secret documents to Agent Bob.')\n",
    "print(mo)"
   ]
  },
  {
   "cell_type": "code",
   "execution_count": null,
   "metadata": {
    "collapsed": true
   },
   "outputs": [],
   "source": [
    "#  \\1 takes the first letter from the match\n",
    "agentNamesRegex=re.compile(r'Agent (\\w)\\w*')\n",
    "mo=agentNamesRegex.sub(r'\\1****','Agent Alice told Agent Carol that Agent Eve knew Agent Bob was a double agent.')\n",
    "print(mo)"
   ]
  },
  {
   "cell_type": "markdown",
   "metadata": {},
   "source": [
    "# Managing Complex Regexes"
   ]
  },
  {
   "cell_type": "code",
   "execution_count": 94,
   "metadata": {
    "collapsed": true
   },
   "outputs": [],
   "source": [
    "# can use re.VERBOSE as second arg to re.compile() to ignore whitespaces and comments inside a reg expression\n",
    "phoneRegex=re.compile(r'''(\n",
    "(\\d{3}|\\(\\d{3}\\))?      #area code\n",
    "(\\s|-|\\.)?              # separator\n",
    "\\d{3}                   # first 3 digits\n",
    "(\\s|-|\\.)               # separator\n",
    "\\d{4}                   # last 4 digits\n",
    "(\\s*(ext|x|ext.)\\s*\\d{2,5})?   #extension\n",
    ")''',re.VERBOSE)\n",
    "\n",
    "#if you need to use multiple second args for re.compile()\n",
    "someRegexValue=re.compile('foo',re.IGNORECASE | re.DOTALL)"
   ]
  },
  {
   "cell_type": "markdown",
   "metadata": {},
   "source": [
    "# Cross OS Path Creation"
   ]
  },
  {
   "cell_type": "markdown",
   "metadata": {},
   "source": [
    "Since Windows uses backslashes in its paths and OS X and Linux uses Forward Slashes we need to make sure it will work on both systems"
   ]
  },
  {
   "cell_type": "code",
   "execution_count": 95,
   "metadata": {},
   "outputs": [
    {
     "name": "stdout",
     "output_type": "stream",
     "text": [
      "usr\\bin\\spam\n"
     ]
    }
   ],
   "source": [
    "import os\n",
    "path=os.path.join('usr','bin','spam')\n",
    "print(path)"
   ]
  },
  {
   "cell_type": "code",
   "execution_count": 96,
   "metadata": {},
   "outputs": [
    {
     "name": "stdout",
     "output_type": "stream",
     "text": [
      "C:\\Users\\asweigart\\account.txt\n",
      "C:\\Users\\asweigart\\details.csv\n",
      "C:\\Users\\asweigart\\invite.docx\n"
     ]
    }
   ],
   "source": [
    "# can also be used to make several paths at once\n",
    "myFiles=['account.txt','details.csv','invite.docx']\n",
    "for filename in myFiles:\n",
    "    print(os.path.join('C:\\\\Users\\\\asweigart',filename))"
   ]
  },
  {
   "cell_type": "markdown",
   "metadata": {},
   "source": [
    "# Current Working Directory"
   ]
  },
  {
   "cell_type": "code",
   "execution_count": 97,
   "metadata": {},
   "outputs": [
    {
     "name": "stdout",
     "output_type": "stream",
     "text": [
      "C:\\Users\\albg1\\OneDrive\\Documents\\Coding\\Python\\PythonNotes\n",
      "C:\\Windows\\System32\n"
     ]
    }
   ],
   "source": [
    "import os\n",
    "print(os.getcwd())\n",
    "os.chdir('C:\\\\Windows\\\\System32')\n",
    "print(os.getcwd())"
   ]
  },
  {
   "cell_type": "markdown",
   "metadata": {},
   "source": [
    "# Absolute Vs. Relative Paths"
   ]
  },
  {
   "cell_type": "markdown",
   "metadata": {},
   "source": [
    "- absolute path always begins with the root folder\n",
    "- relative path is relative to the current working directory\n",
    "\n",
    "Relative paths\n",
    "- ..\\  parent directory\n",
    "- .\\   current directory\n",
    "- .\\directory   child directory\n",
    "- .\\directory\\spam.txt   file in child directory\n",
    "- ..\\directory2   cousin directory\n",
    "- ..\\eggs.txt    cousin file\n",
    "\n",
    "note: .\\ in .\\directory is optional\n",
    "\n",
    "Absolute paths\n",
    "- C:\\     C drive\n",
    "- C:\\bacon  child of C drive\n",
    "- C:\\bacon\\fizz  child of bacon\n",
    "- C:\\bacon\\fizz\\spam.txt  child file of fizz\n",
    "\n",
    "\n"
   ]
  },
  {
   "cell_type": "markdown",
   "metadata": {},
   "source": [
    "# Make new Folder"
   ]
  },
  {
   "cell_type": "code",
   "execution_count": 103,
   "metadata": {
    "collapsed": true
   },
   "outputs": [],
   "source": [
    "import os\n",
    "os.makedirs('C:\\\\delicious\\\\walnut\\\\waffles')"
   ]
  },
  {
   "cell_type": "markdown",
   "metadata": {},
   "source": [
    "# Handling Absolute and Relative Paths"
   ]
  },
  {
   "cell_type": "code",
   "execution_count": 106,
   "metadata": {},
   "outputs": [
    {
     "name": "stdout",
     "output_type": "stream",
     "text": [
      "C:\\Windows\\System32\n",
      "C:\\Windows\\System32\\Scripts\n",
      "False\n",
      "True\n"
     ]
    }
   ],
   "source": [
    "# os.path.abspath(path) will return a string of absolute path of the argument.\n",
    "# os.path.isabs(path) will return True if the argument is an absolute path\n",
    "# os.path.relpath(path,start) will return a string of a relative path from the start path to the path, If start is not provided it uses the current working directory\n",
    "import os\n",
    "print(os.path.abspath('.'))\n",
    "print(os.path.abspath('.\\\\Scripts'))\n",
    "print(os.path.isabs('.'))\n",
    "print(os.path.isabs(os.path.abspath('.')))"
   ]
  },
  {
   "cell_type": "code",
   "execution_count": null,
   "metadata": {
    "collapsed": true
   },
   "outputs": [],
   "source": [
    "#EXAMPLES DONT RUN\n",
    "path='C:\\\\Windows\\\\System\\\\calc.exe'\n",
    "os.path.basename(path)  #prints calc.exe\n",
    "os.path.dirname(path)  # prints C:\\\\Windows\\\\System32\n",
    "\n",
    "calcFilePath='C:\\\\Windows\\\\System\\\\calc.exe'\n",
    "os.path.split(calcFilePath) #prints ('C:\\\\Windows\\\\System32','calc.exe')\n",
    "\n",
    "calcFilePath.split(os.path.sep) #prints ['C:','Windows','System32','calc.exe']"
   ]
  },
  {
   "cell_type": "markdown",
   "metadata": {},
   "source": [
    "# Finding File Sizes and Folder Contents"
   ]
  },
  {
   "cell_type": "code",
   "execution_count": null,
   "metadata": {
    "collapsed": true
   },
   "outputs": [],
   "source": [
    "# os.path.getsize(path) will return size in bytes of the file in path\n",
    "# os.listdir(path) will return a list of filename strings for each file in the path arg"
   ]
  },
  {
   "cell_type": "markdown",
   "metadata": {},
   "source": [
    "# Checking Path Validity"
   ]
  },
  {
   "cell_type": "code",
   "execution_count": null,
   "metadata": {
    "collapsed": true
   },
   "outputs": [],
   "source": [
    "# os.path.exists(path) will return True if the file or folder exists\n",
    "# os.path.isfile(path) will return True if the file or folder is a file\n",
    "# os.path.isdir(path) will return True if the file or folder is a folder\n",
    "\n",
    "# You can check if ther is a flash drive or DVD attached to the computer by\n",
    "# os.path.exists('D:\\\\')"
   ]
  },
  {
   "cell_type": "markdown",
   "metadata": {},
   "source": [
    "# File Reading/Writing Process"
   ]
  },
  {
   "cell_type": "markdown",
   "metadata": {},
   "source": [
    "Plaintext file - contain only basic text characters and don not include font, size, or color information. Examples are .txt or .py\n",
    "\n",
    "Binary files - all other types of files such as word processing documents, PDFs, Images, spreadsheets, and exe programs. If you open a binary file in a text editor it will look like nonsense\n",
    "\n",
    "Steps for Reading and Writing\n",
    "- call open()\n",
    "- call read() or write()\n",
    "- call close"
   ]
  },
  {
   "cell_type": "markdown",
   "metadata": {},
   "source": [
    "# Opening a file with Open()"
   ]
  },
  {
   "cell_type": "code",
   "execution_count": 110,
   "metadata": {
    "collapsed": true
   },
   "outputs": [],
   "source": [
    "helloFile=open('C:\\\\Users\\\\albg1\\\\OneDrive\\\\Documents\\\\Coding\\\\Python\\\\PythonNotes\\\\hello.txt')"
   ]
  },
  {
   "cell_type": "markdown",
   "metadata": {},
   "source": [
    "# Reading The Contents of Files"
   ]
  },
  {
   "cell_type": "code",
   "execution_count": 114,
   "metadata": {},
   "outputs": [
    {
     "name": "stdout",
     "output_type": "stream",
     "text": [
      "\n"
     ]
    },
    {
     "data": {
      "text/plain": [
       "[\"When, in disgrace with fortune and men's eyes,\\n\",\n",
       " 'I all alone beweep my outcast state,\\n',\n",
       " 'And trouble deaf heaven with my bootless cries,\\n',\n",
       " 'And look upon myself and curse my fate,']"
      ]
     },
     "execution_count": 114,
     "metadata": {},
     "output_type": "execute_result"
    }
   ],
   "source": [
    "# print the contents of helloFile\n",
    "helloContent=helloFile.read()\n",
    "print(helloContent)\n",
    "sonnetFile=open('C:\\\\Users\\\\albg1\\\\OneDrive\\\\Documents\\\\Coding\\\\Python\\\\PythonNotes\\\\sonnet.txt')\n",
    "# reads line by line and makes a list of strings\n",
    "sonnetFile.readlines()"
   ]
  },
  {
   "cell_type": "markdown",
   "metadata": {},
   "source": [
    "# Writing to Files"
   ]
  },
  {
   "cell_type": "code",
   "execution_count": 116,
   "metadata": {},
   "outputs": [
    {
     "name": "stdout",
     "output_type": "stream",
     "text": [
      "Hello world!\n",
      "Bacon is not a vegetable.\n"
     ]
    }
   ],
   "source": [
    "#open file for writing will overwrite\n",
    "baconFile=open('C:\\\\Users\\\\albg1\\\\OneDrive\\\\Documents\\\\Coding\\\\Python\\\\PythonNotes\\\\bacon.txt','w')\n",
    "baconFile.write('Hello world!\\n')\n",
    "baconFile.close()\n",
    "#open file for writing will append\n",
    "baconFile=open('C:\\\\Users\\\\albg1\\\\OneDrive\\\\Documents\\\\Coding\\\\Python\\\\PythonNotes\\\\bacon.txt','a')\n",
    "baconFile.write('Bacon is not a vegetable.')\n",
    "baconFile.close()\n",
    "#open file to read\n",
    "baconFile=open('C:\\\\Users\\\\albg1\\\\OneDrive\\\\Documents\\\\Coding\\\\Python\\\\PythonNotes\\\\bacon.txt')\n",
    "content=baconFile.read()\n",
    "baconFile.close()\n",
    "print(content)\n"
   ]
  },
  {
   "cell_type": "markdown",
   "metadata": {},
   "source": [
    "# Saving Variables with the Shelve Module"
   ]
  },
  {
   "cell_type": "code",
   "execution_count": 120,
   "metadata": {
    "collapsed": true
   },
   "outputs": [],
   "source": [
    "#allows you to save variables so they can be stored and opened later\n",
    "import shelve\n",
    "shelfFile=shelve.open('C:\\\\Users\\\\albg1\\\\OneDrive\\\\Documents\\\\Coding\\\\Python\\\\PythonNotes\\\\mydata')\n",
    "cats=['Zophie','Pooka','Simon']\n",
    "shelfFile['cats']=cats\n",
    "shelfFile.close()"
   ]
  },
  {
   "cell_type": "code",
   "execution_count": 122,
   "metadata": {},
   "outputs": [
    {
     "name": "stdout",
     "output_type": "stream",
     "text": [
      "['Zophie', 'Pooka', 'Simon']\n",
      "['cats']\n",
      "[['Zophie', 'Pooka', 'Simon']]\n"
     ]
    }
   ],
   "source": [
    "shelfFile=shelve.open('C:\\\\Users\\\\albg1\\\\OneDrive\\\\Documents\\\\Coding\\\\Python\\\\PythonNotes\\\\mydata')\n",
    "print(shelfFile['cats'])\n",
    "print(list(shelfFile.keys()))\n",
    "print(list(shelfFile.values()))\n",
    "shelfFile.close()"
   ]
  },
  {
   "cell_type": "markdown",
   "metadata": {},
   "source": [
    "# Saving Variables with the Pprint.Pformat() Function"
   ]
  },
  {
   "cell_type": "code",
   "execution_count": 125,
   "metadata": {},
   "outputs": [
    {
     "name": "stdout",
     "output_type": "stream",
     "text": [
      "[{'desc': 'chubby', 'name': 'Zophie'}, {'desc': 'fluffy', 'name': 'Pooka'}]\n"
     ]
    }
   ],
   "source": [
    "import pprint\n",
    "cats=[{'name':'Zophie','desc': 'chubby'},{'name':'Pooka','desc':'fluffy'}]\n",
    "print(pprint.pformat(cats))\n",
    "fileObj=open('C:\\\\Users\\\\albg1\\\\OneDrive\\\\Documents\\\\Coding\\\\Python\\\\PythonNotes\\\\myCats.py','w')\n",
    "fileObj.write('cats = '+pprint.pformat(cats)+'\\n')\n",
    "fileObj.close()"
   ]
  },
  {
   "cell_type": "code",
   "execution_count": 128,
   "metadata": {
    "collapsed": true
   },
   "outputs": [],
   "source": [
    "# we can now import it (Doesn't Work)\n",
    "#import myCats\n",
    "#print(myCats.cats)"
   ]
  },
  {
   "cell_type": "markdown",
   "metadata": {},
   "source": [
    "# The Shutil Module"
   ]
  },
  {
   "cell_type": "code",
   "execution_count": null,
   "metadata": {
    "collapsed": true
   },
   "outputs": [],
   "source": [
    "# the shutil module provides functions for copying files, as well as entire folders\n",
    "import shutil, os\n",
    "# os.chdir('C:\\\\')\n",
    "# shutil.copy('C:\\\\spam.txt','C:\\\\delicious')   copy src to dest (src,dest)\n",
    "# shutil.copy('eggs.txt','C:\\\\delicious\\\\eggs2.txt') # copys but also renames file\n",
    "\n",
    "#shutil.copytree('C:\\\\bacon','C:\\\\bacon_backup')  copys the whole file tree to new directory\n"
   ]
  },
  {
   "cell_type": "markdown",
   "metadata": {},
   "source": [
    "# Moving and Renaming Files and Folders"
   ]
  },
  {
   "cell_type": "code",
   "execution_count": null,
   "metadata": {
    "collapsed": true
   },
   "outputs": [],
   "source": [
    "import shutil\n",
    "# shutil.move('C:\\\\bacon.txt','C:\\\\eggs') moves bacon.txt to eggs and will clobber a file with the same name\n",
    "\n",
    "# shutil.move('C:\\\\bacon.txt','C:\\\\egge') will replace bacon.txt with eggs\n",
    "\n",
    "#Folders that are used in destinations must already exist or move() with throw errors"
   ]
  },
  {
   "cell_type": "markdown",
   "metadata": {},
   "source": [
    "# Permanently Deleting Files and Folders"
   ]
  },
  {
   "cell_type": "code",
   "execution_count": null,
   "metadata": {
    "collapsed": true
   },
   "outputs": [],
   "source": [
    "# os.unlink(path)  will delete the file at path\n",
    "# os.rmdir(path)  will delete the folder at path. The folder must be empty\n",
    "# shutil.rmtree(path)  will remove the folder at path, and all files and folders contained in it\n",
    "\n",
    "#Its a good idea to print what you are going to delete to make sure you get the right files\n",
    "'''\n",
    "import os\n",
    "for filename in os.listdir():\n",
    "    if filename.endswith('.rxt'):\n",
    "        os.unlink(filename)\n",
    "        print(filename)\n",
    "'''"
   ]
  },
  {
   "cell_type": "markdown",
   "metadata": {},
   "source": [
    "# Safe Deletes with the Send2Trash Module"
   ]
  },
  {
   "cell_type": "code",
   "execution_count": 129,
   "metadata": {
    "collapsed": true
   },
   "outputs": [],
   "source": [
    "import send2trash\n",
    "baconFile=open('C:\\\\Users\\\\albg1\\\\OneDrive\\\\Documents\\\\Coding\\\\Python\\\\PythonNotes\\\\bacon.txt','a')\n",
    "baconFile.write('Bacon is not a vegatable.')\n",
    "baconFile.close()\n",
    "send2trash.send2trash('C:\\\\Users\\\\albg1\\\\OneDrive\\\\Documents\\\\Coding\\\\Python\\\\PythonNotes\\\\bacon.txt')"
   ]
  },
  {
   "cell_type": "markdown",
   "metadata": {},
   "source": [
    "# Walking a Directory Tree"
   ]
  },
  {
   "cell_type": "code",
   "execution_count": null,
   "metadata": {
    "collapsed": true
   },
   "outputs": [],
   "source": [
    "# if you want to go through every file in a folder and rename them \n",
    "# os.walk() will return 3 values \n",
    "# 1. string of current folder name\n",
    "# 2. A list of strings of the folders in the current folder\n",
    "# 3. A list of strings of the files in the current folder\n",
    "'''\n",
    "import os\n",
    "for folderName, subfolders, filenames in os.walk('C:\\\\delicious'):\n",
    "    print('The current folder is '+folderName)\n",
    "    \n",
    "    for subfolder in subfolders:\n",
    "        print('SUBFOLDER OF '+folderName+': '+ subfolder)\n",
    "    \n",
    "    for filename in filenames:\n",
    "        print('FILE INSIDE '+ folderName + ': ' + filename)\n",
    "        \n",
    "    print('')\n",
    "'''"
   ]
  },
  {
   "cell_type": "markdown",
   "metadata": {},
   "source": [
    "# Compressing Files with the ZipFile Module"
   ]
  },
  {
   "cell_type": "code",
   "execution_count": null,
   "metadata": {
    "collapsed": true
   },
   "outputs": [],
   "source": [
    "'''\n",
    "import zipfile, os\n",
    "os.chdir('C:\\\\')\n",
    "exampleZip=zipfile.ZipFile('example.zip')\n",
    "exampleZip.namelist()\n",
    "spamInfo=exampleZip.getinfo('spam.txt')\n",
    "print(spamInfo.file_size)\n",
    "print(spamInfo.compress_size)\n",
    "exampleZip.close()\n",
    "\n",
    "\n",
    "os.chdir('C:\\\\')\n",
    "exampleZip=zipfile.ZipFile('example.zip')\n",
    "exampleZip.extractall()  # extracts all files from zip into working directory\n",
    "exampleZip.close()\n",
    "\n",
    "\n",
    "exampleZip.extract('spam.txt')   #extracts a single file from the zip into working directory\n",
    "exampleZip.extract('spam.txt',dst)  #extracts file to dst\n",
    "'''"
   ]
  },
  {
   "cell_type": "markdown",
   "metadata": {},
   "source": [
    "# Creating and Adding to ZIP Files"
   ]
  },
  {
   "cell_type": "code",
   "execution_count": null,
   "metadata": {
    "collapsed": true
   },
   "outputs": [],
   "source": [
    "'''\n",
    "# create a zip file containing spam.txt\n",
    "import zipfile\n",
    "newZip=zipfile.ZipFile('new.zip','w')\n",
    "newZip.write('spam.txt', compress_type=zipfile.ZIP_DEFLATE)\n",
    "newZip.close()\n",
    "\n",
    "# if want to add to a existing zip use 'a' as second arg in write\n",
    "'''"
   ]
  },
  {
   "cell_type": "markdown",
   "metadata": {},
   "source": [
    "# Raising Exceptions"
   ]
  },
  {
   "cell_type": "markdown",
   "metadata": {},
   "source": [
    "Exceptions are raised with a raise statement. Which consists of the following\n",
    "- the raise keyword\n",
    "- a call to the Exception() function\n",
    "- a string with a helpful error message passed to the Exception() function"
   ]
  },
  {
   "cell_type": "code",
   "execution_count": 130,
   "metadata": {},
   "outputs": [
    {
     "ename": "Exception",
     "evalue": "This is the error message.",
     "output_type": "error",
     "traceback": [
      "\u001b[1;31m\u001b[0m",
      "\u001b[1;31mException\u001b[0mTraceback (most recent call last)",
      "\u001b[1;32m<ipython-input-130-06c4ed19fb7b>\u001b[0m in \u001b[0;36m<module>\u001b[1;34m()\u001b[0m\n\u001b[1;32m----> 1\u001b[1;33m \u001b[1;32mraise\u001b[0m \u001b[0mException\u001b[0m\u001b[1;33m(\u001b[0m\u001b[1;34m'This is the error message.'\u001b[0m\u001b[1;33m)\u001b[0m\u001b[1;33m\u001b[0m\u001b[0m\n\u001b[0m",
      "\u001b[1;31mException\u001b[0m: This is the error message."
     ]
    }
   ],
   "source": [
    "raise Exception('This is the error message.')"
   ]
  },
  {
   "cell_type": "code",
   "execution_count": 131,
   "metadata": {},
   "outputs": [
    {
     "name": "stdout",
     "output_type": "stream",
     "text": [
      "****\n",
      "*  *\n",
      "*  *\n",
      "****\n",
      "OOOOOOOOOOOOOOOOOOOO\n",
      "O                  O\n",
      "O                  O\n",
      "O                  O\n",
      "OOOOOOOOOOOOOOOOOOOO\n",
      "An exception happened: global name 'Execption' is not defined\n",
      "An exception happened: Symbol must be a single character string.\n"
     ]
    }
   ],
   "source": [
    "def boxPrint(symbol, width, height):\n",
    "    if len(symbol)!=1:\n",
    "        raise Exception('Symbol must be a single character string.')\n",
    "    if width <= 2:\n",
    "        raise Execption('Width must be greater than 2.')\n",
    "    if height <= 2:\n",
    "        raise Exception('Height must be greater than 2.')\n",
    "        \n",
    "    print(symbol*width)\n",
    "    for i in range(height-2):\n",
    "        print(symbol + (' ' * (width-2)) + symbol)\n",
    "    print(symbol * width)\n",
    "    \n",
    "for sym, w, h in (('*',4,4),('O',20,5),('x',1,3),('ZZ',3,3)):\n",
    "    try:\n",
    "        boxPrint(sym, w, h)\n",
    "    except Exception as err:\n",
    "        print('An exception happened: '+str(err))"
   ]
  },
  {
   "cell_type": "markdown",
   "metadata": {},
   "source": [
    "# Getting the Traceback as a String"
   ]
  },
  {
   "cell_type": "markdown",
   "metadata": {},
   "source": [
    "When python encounters an error it produces a traceback."
   ]
  },
  {
   "cell_type": "code",
   "execution_count": 132,
   "metadata": {},
   "outputs": [
    {
     "ename": "Exception",
     "evalue": "This is the error message.",
     "output_type": "error",
     "traceback": [
      "\u001b[1;31m\u001b[0m",
      "\u001b[1;31mException\u001b[0mTraceback (most recent call last)",
      "\u001b[1;32m<ipython-input-132-5c1afc50790f>\u001b[0m in \u001b[0;36m<module>\u001b[1;34m()\u001b[0m\n\u001b[0;32m      4\u001b[0m     \u001b[1;32mraise\u001b[0m \u001b[0mException\u001b[0m\u001b[1;33m(\u001b[0m\u001b[1;34m'This is the error message.'\u001b[0m\u001b[1;33m)\u001b[0m\u001b[1;33m\u001b[0m\u001b[0m\n\u001b[0;32m      5\u001b[0m \u001b[1;33m\u001b[0m\u001b[0m\n\u001b[1;32m----> 6\u001b[1;33m \u001b[0mspam\u001b[0m\u001b[1;33m(\u001b[0m\u001b[1;33m)\u001b[0m\u001b[1;33m\u001b[0m\u001b[0m\n\u001b[0m",
      "\u001b[1;32m<ipython-input-132-5c1afc50790f>\u001b[0m in \u001b[0;36mspam\u001b[1;34m()\u001b[0m\n\u001b[0;32m      1\u001b[0m \u001b[1;32mdef\u001b[0m \u001b[0mspam\u001b[0m\u001b[1;33m(\u001b[0m\u001b[1;33m)\u001b[0m\u001b[1;33m:\u001b[0m\u001b[1;33m\u001b[0m\u001b[0m\n\u001b[1;32m----> 2\u001b[1;33m     \u001b[0mbacon\u001b[0m\u001b[1;33m(\u001b[0m\u001b[1;33m)\u001b[0m\u001b[1;33m\u001b[0m\u001b[0m\n\u001b[0m\u001b[0;32m      3\u001b[0m \u001b[1;32mdef\u001b[0m \u001b[0mbacon\u001b[0m\u001b[1;33m(\u001b[0m\u001b[1;33m)\u001b[0m\u001b[1;33m:\u001b[0m\u001b[1;33m\u001b[0m\u001b[0m\n\u001b[0;32m      4\u001b[0m     \u001b[1;32mraise\u001b[0m \u001b[0mException\u001b[0m\u001b[1;33m(\u001b[0m\u001b[1;34m'This is the error message.'\u001b[0m\u001b[1;33m)\u001b[0m\u001b[1;33m\u001b[0m\u001b[0m\n\u001b[0;32m      5\u001b[0m \u001b[1;33m\u001b[0m\u001b[0m\n",
      "\u001b[1;32m<ipython-input-132-5c1afc50790f>\u001b[0m in \u001b[0;36mbacon\u001b[1;34m()\u001b[0m\n\u001b[0;32m      2\u001b[0m     \u001b[0mbacon\u001b[0m\u001b[1;33m(\u001b[0m\u001b[1;33m)\u001b[0m\u001b[1;33m\u001b[0m\u001b[0m\n\u001b[0;32m      3\u001b[0m \u001b[1;32mdef\u001b[0m \u001b[0mbacon\u001b[0m\u001b[1;33m(\u001b[0m\u001b[1;33m)\u001b[0m\u001b[1;33m:\u001b[0m\u001b[1;33m\u001b[0m\u001b[0m\n\u001b[1;32m----> 4\u001b[1;33m     \u001b[1;32mraise\u001b[0m \u001b[0mException\u001b[0m\u001b[1;33m(\u001b[0m\u001b[1;34m'This is the error message.'\u001b[0m\u001b[1;33m)\u001b[0m\u001b[1;33m\u001b[0m\u001b[0m\n\u001b[0m\u001b[0;32m      5\u001b[0m \u001b[1;33m\u001b[0m\u001b[0m\n\u001b[0;32m      6\u001b[0m \u001b[0mspam\u001b[0m\u001b[1;33m(\u001b[0m\u001b[1;33m)\u001b[0m\u001b[1;33m\u001b[0m\u001b[0m\n",
      "\u001b[1;31mException\u001b[0m: This is the error message."
     ]
    }
   ],
   "source": [
    "def spam():\n",
    "    bacon()\n",
    "def bacon():\n",
    "    raise Exception('This is the error message.')\n",
    "    \n",
    "spam()"
   ]
  },
  {
   "cell_type": "code",
   "execution_count": 133,
   "metadata": {},
   "outputs": [
    {
     "name": "stdout",
     "output_type": "stream",
     "text": [
      "The traceback info was written to errorInfo.txt.\n"
     ]
    }
   ],
   "source": [
    "# instead of the program crashing you can log the traceback and look at it later\n",
    "import traceback\n",
    "\n",
    "try:\n",
    "    raise Exception('This is the error message.')\n",
    "except:\n",
    "    errorFile=open('C:\\\\Users\\\\albg1\\\\OneDrive\\\\Documents\\\\Coding\\\\Python\\\\PythonNotes\\\\errorInfo.txt','w')\n",
    "    errorFile.write(traceback.format_exc())\n",
    "    errorFile.close()\n",
    "    print('The traceback info was written to errorInfo.txt.')"
   ]
  },
  {
   "cell_type": "markdown",
   "metadata": {},
   "source": [
    "# Assertions"
   ]
  },
  {
   "cell_type": "markdown",
   "metadata": {},
   "source": [
    "An assertion is a sanity check to make sure your code isn't doing something obviously wrong. assert statements consists of the following\n",
    "- the assert keyword\n",
    "- a condition (that is, an expression that evaluates to True or False)\n",
    "- a comma\n",
    "- a string to display when the condition is False"
   ]
  },
  {
   "cell_type": "code",
   "execution_count": 134,
   "metadata": {},
   "outputs": [
    {
     "ename": "AssertionError",
     "evalue": "The pod bay doors need to be \"open\".",
     "output_type": "error",
     "traceback": [
      "\u001b[1;31m\u001b[0m",
      "\u001b[1;31mAssertionError\u001b[0mTraceback (most recent call last)",
      "\u001b[1;32m<ipython-input-134-79b511f64221>\u001b[0m in \u001b[0;36m<module>\u001b[1;34m()\u001b[0m\n\u001b[0;32m      2\u001b[0m \u001b[1;32massert\u001b[0m \u001b[0mpodBayDoorStatus\u001b[0m\u001b[1;33m==\u001b[0m\u001b[1;34m'open'\u001b[0m\u001b[1;33m,\u001b[0m \u001b[1;34m'The pod bay door needs to be \"open\".'\u001b[0m\u001b[1;33m\u001b[0m\u001b[0m\n\u001b[0;32m      3\u001b[0m \u001b[0mpodBayDoorStatus\u001b[0m\u001b[1;33m=\u001b[0m\u001b[1;34m\"I'm sorry, Dave. I'm afraid I can't do that.\"\u001b[0m\u001b[1;33m\u001b[0m\u001b[0m\n\u001b[1;32m----> 4\u001b[1;33m \u001b[1;32massert\u001b[0m \u001b[0mpodBayDoorStatus\u001b[0m\u001b[1;33m==\u001b[0m\u001b[1;34m'open'\u001b[0m\u001b[1;33m,\u001b[0m\u001b[1;34m'The pod bay doors need to be \"open\".'\u001b[0m\u001b[1;33m\u001b[0m\u001b[0m\n\u001b[0m",
      "\u001b[1;31mAssertionError\u001b[0m: The pod bay doors need to be \"open\"."
     ]
    }
   ],
   "source": [
    "podBayDoorStatus='open'\n",
    "assert podBayDoorStatus=='open', 'The pod bay door needs to be \"open\".'\n",
    "podBayDoorStatus=\"I'm sorry, Dave. I'm afraid I can't do that.\"\n",
    "assert podBayDoorStatus=='open','The pod bay doors need to be \"open\".'"
   ]
  },
  {
   "cell_type": "markdown",
   "metadata": {},
   "source": [
    "# Disabling Assertions"
   ]
  },
  {
   "cell_type": "code",
   "execution_count": null,
   "metadata": {
    "collapsed": true
   },
   "outputs": [],
   "source": [
    "# assertions can be disabled by passing the -o option when running Python"
   ]
  },
  {
   "cell_type": "markdown",
   "metadata": {},
   "source": [
    "# Using the Logging Module"
   ]
  },
  {
   "cell_type": "code",
   "execution_count": 135,
   "metadata": {
    "collapsed": true
   },
   "outputs": [],
   "source": [
    "# To add logging module to display log messages on your screen as your program runs write the following under the shebang line\n",
    "import logging\n",
    "logging.basicConfig(level=logging.DEBUG, format=' %(asctime)s - %(levelname)s - %(message)s')"
   ]
  },
  {
   "cell_type": "code",
   "execution_count": 137,
   "metadata": {},
   "outputs": [
    {
     "name": "stderr",
     "output_type": "stream",
     "text": [
      " 2018-01-01 15:03:13,464 - DEBUG - Start of program\n",
      " 2018-01-01 15:03:13,464 - DEBUG - Start of factorial(5)\n",
      " 2018-01-01 15:03:13,464 - DEBUG - i is 0, total is 0\n",
      " 2018-01-01 15:03:13,464 - DEBUG - i is 1, total is 0\n",
      " 2018-01-01 15:03:13,480 - DEBUG - i is 2, total is 0\n",
      " 2018-01-01 15:03:13,480 - DEBUG - i is 3, total is 0\n",
      " 2018-01-01 15:03:13,480 - DEBUG - i is 4, total is 0\n",
      " 2018-01-01 15:03:13,480 - DEBUG - i is 5, total is 0\n",
      " 2018-01-01 15:03:13,480 - DEBUG - End of factorial(5)\n",
      " 2018-01-01 15:03:13,480 - DEBUG - End of program\n"
     ]
    },
    {
     "name": "stdout",
     "output_type": "stream",
     "text": [
      "0\n"
     ]
    }
   ],
   "source": [
    "import logging\n",
    "logging.basicConfig(level=logging.DEBUG, format=' %(asctime)s - %(levelname)s - %(message)s')\n",
    "logging.debug('Start of program')\n",
    "\n",
    "def factorial(n):\n",
    "    logging.debug('Start of factorial(%s)' % (n))\n",
    "    total = 1\n",
    "    for i in range(n + 1):\n",
    "        total *= i\n",
    "        logging.debug('i is ' + str(i) + ', total is ' + str(total))\n",
    "    logging.debug('End of factorial(%s)' % (n))\n",
    "    return total\n",
    "\n",
    "print(factorial(5))\n",
    "logging.debug('End of program')"
   ]
  },
  {
   "cell_type": "markdown",
   "metadata": {},
   "source": [
    "# Logging Level"
   ]
  },
  {
   "cell_type": "markdown",
   "metadata": {},
   "source": [
    "Logging Levels:\n",
    "- DEBUG\n",
    "    - logging.debug()\n",
    "            - The lowest level. Used for small details. Usually you care  about these messages only when diagnosing problems.\n",
    "\n",
    "- INFO\n",
    "    - logging.info()\n",
    "        - Used to record information on general events in your program or confirm that things are working at their point in the program\n",
    "        \n",
    "- WARNING\n",
    "    - logging.warning()\n",
    "        - Used to indicate a potential problem that doesn't prevent the program from working but might do so in the future\n",
    "        \n",
    "- ERROR\n",
    "    - logging.error()\n",
    "        - Used to record an error that caused the program to fail to do something\n",
    "        \n",
    "- CRITICAL\n",
    "    - logging.critical()\n",
    "        - The highest level. Used to indicate a fatal error that has caused or is about to cause the program to stop running entirely    "
   ]
  },
  {
   "cell_type": "code",
   "execution_count": 138,
   "metadata": {},
   "outputs": [
    {
     "name": "stderr",
     "output_type": "stream",
     "text": [
      " 2018-01-01 15:14:37,088 - DEBUG - Some debugging details.\n",
      " 2018-01-01 15:14:37,088 - INFO - The logging module is working.\n",
      " 2018-01-01 15:14:37,088 - WARNING - An error message is about to be logged.\n",
      " 2018-01-01 15:14:37,088 - ERROR - An error has occured.\n",
      " 2018-01-01 15:14:37,104 - CRITICAL - The program is unable to recover!\n"
     ]
    }
   ],
   "source": [
    "import logging\n",
    "logging.basicConfig(level=logging.DEBUG, format=' %(asctime)s - %(levelname)s - %(message)s')\n",
    "logging.debug('Some debugging details.')\n",
    "logging.info('The logging module is working.')\n",
    "logging.warning('An error message is about to be logged.')\n",
    "logging.error('An error has occured.')\n",
    "logging.critical('The program is unable to recover!')"
   ]
  },
  {
   "cell_type": "markdown",
   "metadata": {},
   "source": [
    "A benefit to logging levels is that you can change what priority of logging message you want to see in the basicConfig() by changing logging level."
   ]
  },
  {
   "cell_type": "markdown",
   "metadata": {},
   "source": [
    "# Disabling Logging"
   ]
  },
  {
   "cell_type": "code",
   "execution_count": 139,
   "metadata": {},
   "outputs": [
    {
     "name": "stderr",
     "output_type": "stream",
     "text": [
      " 2018-01-01 15:21:41,197 - CRITICAL - Critical error! Critical error!\n"
     ]
    }
   ],
   "source": [
    "#logging.disable() disables the logs\n",
    "#logging.disable(logging.level) disables logs of that level and lower\n",
    "\n",
    "import logging\n",
    "logging.basicConfig(level=logging.INFO, format=' %(asctime)s - %(levelname)s - %(message)s')\n",
    "logging.critical('Critical error! Critical error!')\n",
    "logging.disable(logging.CRITICAL)\n",
    "logging.critical('Critical error! Critical error!')\n",
    "logging.error('Error! Error!')"
   ]
  },
  {
   "cell_type": "markdown",
   "metadata": {},
   "source": [
    "# Logging to a File"
   ]
  },
  {
   "cell_type": "code",
   "execution_count": null,
   "metadata": {
    "collapsed": true
   },
   "outputs": [],
   "source": [
    "# will write logging information to myProgramLog.txt\n",
    "import logging\n",
    "logging.basicConfig(filename='myProgramLog.txt', level=logging.DEBUG, format=' %(asctime)s - %(levelname)s - %(message)s')"
   ]
  },
  {
   "cell_type": "markdown",
   "metadata": {},
   "source": [
    "# Web Scraping"
   ]
  },
  {
   "cell_type": "markdown",
   "metadata": {},
   "source": [
    "Web Scraping is a term for using a program to download and process content from the web.\n",
    "\n",
    "A few of the Modules:\n",
    "- webbrowser\n",
    "- requests\n",
    "- beautiful soup\n",
    "- selenium"
   ]
  },
  {
   "cell_type": "markdown",
   "metadata": {},
   "source": [
    "# Webbrowser"
   ]
  },
  {
   "cell_type": "code",
   "execution_count": 140,
   "metadata": {},
   "outputs": [
    {
     "data": {
      "text/plain": [
       "True"
      ]
     },
     "execution_count": 140,
     "metadata": {},
     "output_type": "execute_result"
    }
   ],
   "source": [
    "# opens a window of the url given\n",
    "import webbrowser\n",
    "webbrowser.open('http://inventwithpython.com/')"
   ]
  },
  {
   "cell_type": "markdown",
   "metadata": {},
   "source": [
    "# Requests"
   ]
  },
  {
   "cell_type": "code",
   "execution_count": 150,
   "metadata": {},
   "outputs": [
    {
     "name": "stdout",
     "output_type": "stream",
     "text": [
      "True\n",
      "174130\n",
      "ï»¿The Project Gutenberg EBook of Romeo and Juliet, by William Shakespeare\n",
      "\n",
      "This eBook is for the use of anyone anywhere at no cost and with\n",
      "almost no restrictions whatsoever.  You may copy it, give it away or\n",
      "re-use it under the terms of the Project\n"
     ]
    }
   ],
   "source": [
    "#gets a doc from a webpage\n",
    "import requests\n",
    "res = requests.get('http://automatetheboringstuff.com/files/rj.txt')\n",
    "type(res)\n",
    "#check to make sure everything is ok\n",
    "print(res.status_code == requests.codes.ok)\n",
    "print(len(res.text))\n",
    "#print first 250 words\n",
    "print(res.text[:250])"
   ]
  },
  {
   "cell_type": "code",
   "execution_count": 151,
   "metadata": {},
   "outputs": [
    {
     "name": "stdout",
     "output_type": "stream",
     "text": [
      "There was a problem: 404 Client Error: Not Found for url: http://inventwithpython.com/page_that_does_not_exist\n"
     ]
    }
   ],
   "source": [
    "# Checking for erros\n",
    "#if page not found throws an error\n",
    "import requests\n",
    "res=requests.get('http://inventwithpython.com/page_that_does_not_exist')\n",
    "try:\n",
    "    res.raise_for_status()\n",
    "except Exception as exc:\n",
    "    print('There was a problem: %s' % (exc))"
   ]
  },
  {
   "cell_type": "markdown",
   "metadata": {},
   "source": [
    "# Unicode"
   ]
  },
  {
   "cell_type": "markdown",
   "metadata": {},
   "source": [
    "- Everything in a computer is bytes and bytes themselves are meaningless so we have to assign values to them.\n",
    "- ASCII is one of the basic ones we have been using for years but we need more than 256 symbols.\n",
    "- Unicode was a solution, it assignes integers called code points to characters, and it has room for 1.1 million code points.\n",
    "- The Unicode standard defines a number of ways to represent code points as bytes, which are called encodings. (encodings: UTF-8, UTF-16, UTF-32, UCS-2, UCS-4)\n",
    "- Make sure you know what encoding you are dealing with because it can cause issues if you are using more than one encoding type in a project"
   ]
  },
  {
   "cell_type": "code",
   "execution_count": 154,
   "metadata": {},
   "outputs": [
    {
     "name": "stdout",
     "output_type": "stream",
     "text": [
      "Hello world\n",
      "True\n"
     ]
    }
   ],
   "source": [
    "#Python 3 has 2 string types, one for unicode and one for bytes, but they are named differently.\n",
    "\n",
    "# the b before the string makes it bytes\n",
    "print(\"Hello \"+b\"world\")\n",
    "print(\"Hello\"==b\"Hello\")\n",
    "\n",
    "# to read a file with bytes string\n",
    "#open(\"hello.txt\",\"rb\").readd()\n",
    "\n",
    "# use print type(var) to see what type of string you are dealing with"
   ]
  },
  {
   "cell_type": "markdown",
   "metadata": {},
   "source": [
    "# Requests Continued"
   ]
  },
  {
   "cell_type": "code",
   "execution_count": 159,
   "metadata": {},
   "outputs": [
    {
     "name": "stdout",
     "output_type": "stream",
     "text": [
      "None\n"
     ]
    }
   ],
   "source": [
    "#gets file from website and writes to a txt on hard drive\n",
    "import requests\n",
    "res=requests.get('https://automatetheboringstuff.com/files/rj.txt')\n",
    "print(res.raise_for_status())\n",
    "# creates a new file in binary mode\n",
    "playFile=open('C:\\\\Users\\\\albg1\\\\OneDrive\\\\Documents\\\\Coding\\\\Python\\\\PythonNotes\\\\RomeoAndJuliet.txt','wb')\n",
    "# iter_content() returns a chunk we can use in our loop\n",
    "# a chunk is a certain number of bytes in this case we use 100,000 bytes (which is usually a good number)\n",
    "for chunk in res.iter_content(100000):\n",
    "    playFile.write(chunk)\n",
    "playFile.close()"
   ]
  },
  {
   "cell_type": "markdown",
   "metadata": {},
   "source": [
    "# HTML Resources"
   ]
  },
  {
   "cell_type": "markdown",
   "metadata": {},
   "source": [
    "http://htmldog.com/guides/html/beginner/\n",
    "\n",
    "http://www.codecademy.com/tracks/web/\n",
    "\n",
    "https://developer.mozilla.org/en-US/learn/html/"
   ]
  },
  {
   "cell_type": "markdown",
   "metadata": {},
   "source": [
    "- An HTML file is a plain text file with .hmtl extension and the text in these files is surrounded by tags, which are words enclosed in angle brackets. \n",
    "- The Tags tell the browser how to format the web page\n",
    "- A starting tag and closing tag can enclose some text to form an element.\n",
    "- The text (or inner HTML) is the content between the starting and closing tags."
   ]
  },
  {
   "cell_type": "markdown",
   "metadata": {},
   "source": [
    "# Viewing the Source HTML of a Web Page and Opening Browser's Developer Tools"
   ]
  },
  {
   "cell_type": "markdown",
   "metadata": {},
   "source": [
    "- You will need to look at the HTML source of a web page that your program will work with.\n",
    "- To do this right click on a web page and select view source or view page source\n",
    "- If using Chrome or Internet Explorer you can press f12 \n",
    "- Don't use Regular expressions to parse HTML it's better to use a premade module such as beautiful soup"
   ]
  },
  {
   "cell_type": "markdown",
   "metadata": {},
   "source": [
    "# Using the Developer Tools to Find HTML Elements"
   ]
  },
  {
   "cell_type": "markdown",
   "metadata": {},
   "source": [
    "- once program has downloaded web page using requests module you will have the HTML content as a single string value. \n",
    "- now you need to figure out which part of the HTML corresponds to the information you are interested in. You can use the developers tools to do this. Or using the inspect element.\n",
    "- once you know what your looking for beautiful soup can help you find it in the string"
   ]
  },
  {
   "cell_type": "markdown",
   "metadata": {},
   "source": [
    "# Parsing HTML with the Beautiful Soup Module"
   ]
  },
  {
   "cell_type": "markdown",
   "metadata": {},
   "source": [
    "- better than regular expressions for HTML page extraction\n",
    "- module name beautifulsoup4 (import bs4)\n",
    "Example HTML:\n",
    "\n",
    "!-- This is the example.html example file. -->\n",
    "\n",
    "<html><head><title>The Website Title</title></head>\n",
    "<body>\n",
    "<p>Download my <strong>Python</strong> book from <a href=\"http://\n",
    "inventwithpython.com\">my website</a>.</p>\n",
    "<p class=\"slogan\">Learn Python the easy way!</p>\n",
    "<p>By <span id=\"author\">Al Sweigart</span></p>\n",
    "</body></html>"
   ]
  },
  {
   "cell_type": "code",
   "execution_count": 163,
   "metadata": {},
   "outputs": [
    {
     "name": "stdout",
     "output_type": "stream",
     "text": [
      "<!DOCTYPE html>\n",
      "<html dir=\"ltr\" lang=\"en\">\n",
      "<head>\n",
      "<script src=\"/cdn-cgi/apps/head/_Yd33iVQmzx1XZrSaZuiVTLpv7Y.js\"></script><link href=\"https://www.w3.org/1999/xhtml/vocab\" rel=\"profile\"/>\n",
      "<meta content=\"width=device-width, initial-scale=1.0\" name=\"viewport\"/>\n",
      "<meta content=\"text/html; charset=utf-8\" http-equiv=\"Content-Type\"/>\n",
      "<link href=\"https://www.nostarch.com/feeds/comingsoon.xml\" rel=\"alternate\" title=\"No Starch Press - Coming Soon\" type=\"application/rss+xml\"/>\n",
      "<link href=\"https://www.nostarch.com/sites/default/files/favicon.ico\" rel=\"shortcut icon\" type=\"image/vnd.microsoft.icon\"/>\n",
      "<link href=\"https://www.nostarch.com/feeds/newbooks.xml\" rel=\"alternate\" title=\"No Starch Press - New Books\" type=\"application/rss+xml\"/>\n",
      "<link href=\"/node/14\" rel=\"shortlink\"/>\n",
      "<meta content=\"Drupal 7 (http://drupal.org)\" name=\"Generator\"/>\n",
      "<link href=\"/index.htm\" rel=\"canonical\"/>\n",
      "<title>No Starch Press | No Starch Press</title>\n",
      "<link href=\"https://www.nostarch.com/sites/default/files/css/css_lQaZfjVpwP_oGNqdtWCSpJT1EMqXdMiU84ekLLxQnc4.css\" media=\"all\" rel=\"stylesheet\" type=\"text/css\"/>\n",
      "<link href=\"https://www.nostarch.com/sites/default/files/css/css_bZWzUo4DNPRSoHqWn9Z2wJY-iGPXx9_H2NAGelJkTgE.css\" media=\"all\" rel=\"stylesheet\" type=\"text/css\"/>\n",
      "<link href=\"https://www.nostarch.com/sites/default/files/css/css_iEqDlsU_LFJi-mX9T8EY-fKFP1Grd7661emyEpuTx-8.css\" media=\"all\" rel=\"stylesheet\" type=\"text/css\"/>\n",
      "<link href=\"https://www.nostarch.com/sites/default/files/css/css_djKWgCS6L-SMxzGWWZOUCDFcvwz-3cEb-6P20az2eig.css\" media=\"all\" rel=\"stylesheet\" type=\"text/css\"/>\n",
      "<!--[if lt IE 9]>\n",
      "    <script src=\"https://cdn.jsdelivr.net/html5shiv/3.7.3/html5shiv-printshiv.min.js\"></script>\n",
      "  <![endif]-->\n",
      "<script>window.google_analytics_uacct = \"UA-5027625-1\";</script>\n",
      "<script src=\"//ajax.googleapis.com/ajax/libs/jquery/1.10.2/jquery.min.js\"></script>\n",
      "<script>window.jQuery || document.write(\"<script src='/sites/all/modules/jquery_update/replace/jquery/1.10/jquery.min.js'>\\x3C/script>\")</script>\n",
      "<script src=\"https://www.nostarch.com/sites/default/files/js/js_aczm2rRgH_slWBPnvD3KMrK7rwa1i99HOq8IUAb99Co.js\"></script>\n",
      "<script src=\"https://www.nostarch.com/sites/default/files/js/js_FvBWezKhsGxJU-Yi41qvYAlpXctdNNR7mIzff4prZrg.js\"></script>\n",
      "<script src=\"https://www.nostarch.com/sites/default/files/js/js_qybjYx8WBaJR_6LoL7cWr5Ild2djFIT1dbIfkjDhtfo.js\"></script>\n",
      "<script>(function(i,s,o,g,r,a,m){i[\"GoogleAnalyticsObject\"]=r;i[r]=i[r]||function(){(i[r].q=i[r].q||[]).push(arguments)},i[r].l=1*new Date();a=s.createElement(o),m=s.getElementsByTagName(o)[0];a.async=1;a.src=g;m.parentNode.insertBefore(a,m)})(window,document,\"script\",\"//www.google-analytics.com/analytics.js\",\"ga\");ga(\"create\", \"UA-5027625-1\", {\"cookieDomain\":\"auto\"});ga(\"set\", \"anonymizeIp\", true);ga(\"send\", \"pageview\");</script>\n",
      "<script src=\"https://www.nostarch.com/sites/default/files/js/js_p9swYTBfMPrt0uULfbJvNKZYLEsMD52tGHa9JbAppXM.js\"></script>\n",
      "<script>jQuery.extend(Drupal.settings, {\"basePath\":\"\\/\",\"pathPrefix\":\"\",\"ajaxPageState\":{\"theme\":\"nostarch\",\"theme_token\":\"98FI-5Y7fnpzkThjERPxQznM6iijM-PQGWL_70qCOk4\",\"js\":{\"sites\\/all\\/modules\\/addthis\\/addthis.js\":1,\"sites\\/all\\/themes\\/bootstrap\\/js\\/bootstrap.js\":1,\"0\":1,\"\\/\\/ajax.googleapis.com\\/ajax\\/libs\\/jquery\\/1.10.2\\/jquery.min.js\":1,\"1\":1,\"misc\\/jquery.once.js\":1,\"misc\\/drupal.js\":1,\"sites\\/all\\/modules\\/ubercart\\/uc_file\\/uc_file.js\":1,\"sites\\/all\\/libraries\\/colorbox\\/jquery.colorbox-min.js\":1,\"sites\\/all\\/modules\\/colorbox\\/js\\/colorbox.js\":1,\"sites\\/all\\/modules\\/colorbox\\/js\\/colorbox_load.js\":1,\"sites\\/all\\/modules\\/colorbox\\/js\\/colorbox_inline.js\":1,\"sites\\/all\\/modules\\/ubercart\\/uc_cart\\/uc_cart_block.js\":1,\"sites\\/all\\/modules\\/google_analytics\\/googleanalytics.js\":1,\"2\":1,\"sites\\/all\\/themes\\/nostarch\\/js\\/bootstrap.min.js\":1,\"sites\\/all\\/themes\\/nostarch\\/js\\/main.js\":1},\"css\":{\"modules\\/system\\/system.base.css\":1,\"sites\\/all\\/modules\\/date\\/date_api\\/date.css\":1,\"sites\\/all\\/modules\\/date\\/date_popup\\/themes\\/datepicker.1.7.css\":1,\"modules\\/field\\/theme\\/field.css\":1,\"sites\\/all\\/modules\\/logintoboggan\\/logintoboggan.css\":1,\"sites\\/all\\/modules\\/mollom\\/mollom.css\":1,\"modules\\/node\\/node.css\":1,\"sites\\/all\\/modules\\/ubercart\\/uc_file\\/uc_file.css\":1,\"sites\\/all\\/modules\\/ubercart\\/uc_order\\/uc_order.css\":1,\"sites\\/all\\/modules\\/ubercart\\/uc_product\\/uc_product.css\":1,\"sites\\/all\\/modules\\/ubercart\\/uc_store\\/uc_store.css\":1,\"sites\\/all\\/modules\\/views\\/css\\/views.css\":1,\"sites\\/all\\/modules\\/uc_discounts_alt\\/uc_discounts\\/uc_discounts.css\":1,\"sites\\/all\\/libraries\\/colorbox\\/example1\\/colorbox.css\":1,\"sites\\/all\\/modules\\/ctools\\/css\\/ctools.css\":1,\"sites\\/all\\/modules\\/ubercart\\/uc_cart\\/uc_cart_block.css\":1,\"sites\\/all\\/themes\\/nostarch\\/css\\/en_styles.css\":1}},\"colorbox\":{\"opacity\":\"0.85\",\"current\":\"{current} of {total}\",\"previous\":\"\\u00ab Prev\",\"next\":\"Next \\u00bb\",\"close\":\"Close\",\"maxWidth\":\"98%\",\"maxHeight\":\"98%\",\"fixed\":true,\"mobiledetect\":true,\"mobiledevicewidth\":\"480px\"},\"googleanalytics\":{\"trackOutbound\":1,\"trackMailto\":1,\"trackDownload\":1,\"trackDownloadExtensions\":\"7z|aac|arc|arj|asf|asx|avi|bin|csv|doc(x|m)?|dot(x|m)?|exe|flv|gif|gz|gzip|hqx|jar|jpe?g|js|mp(2|3|4|e?g)|mov(ie)?|msi|msp|pdf|phps|png|ppt(x|m)?|pot(x|m)?|pps(x|m)?|ppam|sld(x|m)?|thmx|qtm?|ra(m|r)?|sea|sit|tar|tgz|torrent|txt|wav|wma|wmv|wpd|xls(x|m|b)?|xlt(x|m)|xlam|xml|z|zip\",\"trackColorbox\":1},\"urlIsAjaxTrusted\":{\"\\/\":true},\"bootstrap\":{\"anchorsFix\":\"0\",\"anchorsSmoothScrolling\":\"0\",\"formHasError\":1,\"popoverEnabled\":1,\"popoverOptions\":{\"animation\":1,\"html\":0,\"placement\":\"right\",\"selector\":\"\",\"trigger\":\"click\",\"triggerAutoclose\":1,\"title\":\"\",\"content\":\"\",\"delay\":0,\"container\":\"body\"},\"tooltipEnabled\":1,\"tooltipOptions\":{\"animation\":1,\"html\":0,\"placement\":\"auto left\",\"selector\":\"\",\"trigger\":\"hover focus\",\"delay\":0,\"container\":\"body\"}}});</script>\n",
      "</head>\n",
      "<body class=\"html front not-logged-in two-sidebars page-node page-node- page-node-14 node-type-page\">\n",
      "<div id=\"skip-link\">\n",
      "<a class=\"element-invisible element-focusable\" href=\"#main-content\">Skip to main content</a>\n",
      "</div>\n",
      "<header class=\"header\" id=\"navbar\" role=\"banner\">\n",
      "<div class=\"container\">\n",
      "<div class=\"row\">\n",
      "<div class=\"navbar-header\">\n",
      "<div class=\"logo-wrapper col-sm-6\">\n",
      "<a class=\"logo navbar-btn pull-left\" href=\"/\" title=\"Home\">\n",
      "<img alt=\"Home\" src=\"https://www.nostarch.com/sites/all/themes/nostarch/logo.png\"/>\n",
      "</a>\n",
      "</div>\n",
      "<div class=\"logo-wrapper col-sm-6\">\n",
      "<button class=\"navbar-toggle\" data-target=\".navbar-collapse\" data-toggle=\"collapse\" type=\"button\">\n",
      "<span class=\"sr-only\">Toggle navigation</span>\n",
      "<span class=\"icon-bar\"></span>\n",
      "<span class=\"icon-bar\"></span>\n",
      "<span class=\"icon-bar\"></span>\n",
      "</button>\n",
      "<div class=\"region region-navigation\">\n",
      "<section class=\"block block-search clearfix\" id=\"block-search-form\">\n",
      "<form accept-charset=\"UTF-8\" action=\"/\" class=\"form-search content-search\" id=\"search-block-form\" method=\"post\"><div><div>\n",
      "<h2 class=\"element-invisible\">Search form</h2>\n",
      "<div class=\"input-group\"><input class=\"form-control form-text\" id=\"edit-search-block-form--2\" maxlength=\"128\" name=\"search_block_form\" placeholder=\"Search\" size=\"15\" title=\"Enter the terms you wish to search for.\" type=\"text\" value=\"\"/><span class=\"input-group-btn\"><button class=\"btn btn-primary\" type=\"submit\"><span aria-hidden=\"true\" class=\"icon glyphicon glyphicon-search\"></span></button></span></div><div class=\"form-actions form-wrapper form-group\" id=\"edit-actions--15\"><button class=\"element-invisible btn btn-default form-submit\" id=\"edit-submit\" name=\"op\" type=\"submit\" value=\"GO!\">GO!</button>\n",
      "</div><input name=\"form_build_id\" type=\"hidden\" value=\"form-0o9eaBivmyWL3sCrsm-hlmuAwU6ejpiCdfd4j_0nFZc\"/>\n",
      "<input name=\"form_id\" type=\"hidden\" value=\"search_block_form\"/>\n",
      "</div>\n",
      "</div></form>\n",
      "</section>\n",
      "</div>\n",
      "</div>\n",
      "</div>\n",
      "</div>\n",
      "</div>\n",
      "<div class=\"container\">\n",
      "<div class=\"row\">\n",
      "<div class=\"navbar-collapse collapse\">\n",
      "<nav role=\"navigation\">\n",
      "<ul class=\"menu nav navbar-nav\"><li class=\"first leaf\"><a href=\"/catalog.htm\" title=\"Explore our catalog\">Catalog</a></li>\n",
      "<li class=\"leaf\"><a href=\"/media.htm\" title=\"Media contact\">Media</a></li>\n",
      "<li class=\"leaf\"><a href=\"/writeforus.htm\" title=\"Submit a book proposal\">Write for Us</a></li>\n",
      "<li class=\"last leaf\"><a href=\"/about\" title=\"About No Starch Press\">About Us</a></li>\n",
      "</ul> </nav>\n",
      "</div>\n",
      "</div>\n",
      "</div>\n",
      "</header>\n",
      "<div class=\"main-container container\">\n",
      "<header id=\"page-header\" role=\"banner\">\n",
      "</header>\n",
      "<div class=\"row\">\n",
      "<aside class=\"col-sm-3\" role=\"complementary\">\n",
      "<div class=\"region region-sidebar-first well\">\n",
      "<section class=\"block block-views clearfix\" id=\"block-views-topics-block\">\n",
      "<h2 class=\"block-title\">Topics</h2>\n",
      "<div class=\"view view-topics view-id-topics view-display-id-block view-dom-id-a57bdb6ac3da9774125f98a09b9dfce0\">\n",
      "<div class=\"view-content\">\n",
      "<div class=\"item-list\"> <ul> <li class=\"views-row views-row-1 views-row-odd views-row-first\">\n",
      "<div class=\"views-field views-field-name\"> <span class=\"field-content\"><a href=\"/catalog/arduino\">Arduino</a></span> </div></li>\n",
      "<li class=\"views-row views-row-2 views-row-even\">\n",
      "<div class=\"views-field views-field-name\"> <span class=\"field-content\"><a href=\"/catalog/art-photography-design\">Art &amp; Design</a></span> </div></li>\n",
      "<li class=\"views-row views-row-3 views-row-odd\">\n",
      "<div class=\"views-field views-field-name\"> <span class=\"field-content\"><a href=\"/catalog/general-computing\">General Computing</a></span> </div></li>\n",
      "<li class=\"views-row views-row-4 views-row-even\">\n",
      "<div class=\"views-field views-field-name\"> <span class=\"field-content\"><a href=\"/catalog/security\">Hacking &amp; Computer Security</a></span> </div></li>\n",
      "<li class=\"views-row views-row-5 views-row-odd\">\n",
      "<div class=\"views-field views-field-name\"> <span class=\"field-content\"><a href=\"/catalog/hardware-and-diy\">Hardware / DIY</a></span> </div></li>\n",
      "<li class=\"views-row views-row-6 views-row-even\">\n",
      "<div class=\"views-field views-field-name\"> <span class=\"field-content\"><a href=\"/catalog/javascript\">JavaScript</a></span> </div></li>\n",
      "<li class=\"views-row views-row-7 views-row-odd\">\n",
      "<div class=\"views-field views-field-name\"> <span class=\"field-content\"><a href=\"/catalog/kids\">Kids</a></span> </div></li>\n",
      "<li class=\"views-row views-row-8 views-row-even\">\n",
      "<div class=\"views-field views-field-name\"> <span class=\"field-content\"><a href=\"/catalog/lego\">LEGO®</a></span> </div></li>\n",
      "<li class=\"views-row views-row-9 views-row-odd\">\n",
      "<div class=\"views-field views-field-name\"> <span class=\"field-content\"><a href=\"/catalog/lego-mindstorms\">LEGO® MINDSTORMS®</a></span> </div></li>\n",
      "<li class=\"views-row views-row-10 views-row-even\">\n",
      "<div class=\"views-field views-field-name\"> <span class=\"field-content\"><a href=\"/catalog/linux-bsd-unix\">Linux &amp; BSD</a></span> </div></li>\n",
      "<li class=\"views-row views-row-11 views-row-odd\">\n",
      "<div class=\"views-field views-field-name\"> <span class=\"field-content\"><a href=\"/catalog/manga\">Manga</a></span> </div></li>\n",
      "<li class=\"views-row views-row-12 views-row-even\">\n",
      "<div class=\"views-field views-field-name\"> <span class=\"field-content\"><a href=\"/catalog/programming\">Programming</a></span> </div></li>\n",
      "<li class=\"views-row views-row-13 views-row-odd\">\n",
      "<div class=\"views-field views-field-name\"> <span class=\"field-content\"><a href=\"/catalog/python\">Python</a></span> </div></li>\n",
      "<li class=\"views-row views-row-14 views-row-even\">\n",
      "<div class=\"views-field views-field-name\"> <span class=\"field-content\"><a href=\"/catalog/science-math\">Science &amp; Math</a></span> </div></li>\n",
      "<li class=\"views-row views-row-15 views-row-odd\">\n",
      "<div class=\"views-field views-field-name\"> <span class=\"field-content\"><a href=\"/catalog/scratch\">Scratch</a></span> </div></li>\n",
      "<li class=\"views-row views-row-16 views-row-even\">\n",
      "<div class=\"views-field views-field-name\"> <span class=\"field-content\"><a href=\"/catalog/system-administration\">System Administration</a></span> </div></li>\n",
      "<li class=\"views-row views-row-17 views-row-odd views-row-last\">\n",
      "<div class=\"views-field views-field-name\"> <span class=\"field-content\"><a href=\"/catalog/early-access\">Early Access</a></span> </div></li>\n",
      "</ul></div> </div>\n",
      "<div class=\"view-footer\">\n",
      "<style>\n",
      "<!--/*--><![CDATA[/* ><!--*/\n",
      "\n",
      ".view-topics .item-list a {font-weight: bold;}\n",
      ".view-topics  ul {padding-left: 20px;}\n",
      "\n",
      "/*--><!]]>*/\n",
      "</style> </div>\n",
      "</div>\n",
      "</section>\n",
      "<section class=\"block block-block clearfix\" id=\"block-block-12\">\n",
      "<div class=\"rounded_border_block\"><a href=\"/about_ebooks.htm\" style=\"color: red1;\">Free ebook edition with every print book purchased from nostarch.com!</a></div>\n",
      "</section>\n",
      "<section class=\"block block-uc-cart clearfix\" id=\"block-uc-cart-cart\">\n",
      "<h2 class=\"block-title\"><a href=\"/cart\"><span class=\"cart-block-icon-empty\" title=\"View your shopping cart.\"></span></a><span class=\"cart-block-title-bar\" title=\"Show/hide shopping cart contents.\">Shopping cart<span class=\"cart-block-arrow arrow-down\"></span></span></h2>\n",
      "<p class=\"cart-block-items collapsed uc-cart-empty\">There are no products in your shopping cart.</p><table class=\"cart-block-summary\"><tbody><tr><td class=\"cart-block-summary-items\"><span class=\"num-items\">0</span> Items</td><td class=\"cart-block-summary-total\"><label>Total:</label> <span class=\"uc-price\">$0.00</span></td></tr></tbody></table>\n",
      "</section>\n",
      "<section class=\"block block-block clearfix\" id=\"block-block-10\">\n",
      "<h2 class=\"block-title\">User login</h2>\n",
      "<ul>\n",
      "<li><a href=\"/user?Array\">Log in</a></li>\n",
      "<li><a href=\"http://nostarch.com/user/register\">Create account</a></li>\n",
      "</ul>\n",
      "</section>\n",
      "<section class=\"block block-block clearfix\" id=\"block-block-6\">\n",
      "<h2 class=\"block-title\">Bestsellers</h2>\n",
      "<div align=\"center\">\n",
      "<div class=\"view view-favorites view-id-favorites view-display-id-default view-dom-id-fb64eae3e6b63e44b15a6f0fbee6260f\">\n",
      "<div class=\"view-content\">\n",
      "<div class=\"views-row views-row-1 views-row-odd views-row-first\">\n",
      "<div class=\"views-field views-field-field-image-cache\"> <div class=\"field-content\"><a href=\"/lyah.htm\"><img alt=\"Learn You a Haskell for Great Good!\" class=\"img-responsive\" height=\"119\" src=\"https://www.nostarch.com/sites/default/files/styles/product/public/lyah.png?itok=VzD-gAg2\" title=\"Learn You a Haskell for Great Good!\" width=\"90\"/></a>, <a href=\"/lyah.htm\"><img alt=\"LYAH Sample 1\" class=\"img-responsive\" height=\"119\" src=\"https://www.nostarch.com/sites/default/files/styles/product/public/haskell_sample1big_0.jpg?itok=mUj1i42j\" title=\"LYAH Sample 1\" width=\"90\"/></a>, <a href=\"/lyah.htm\"><img alt=\"LYAH Sample 2\" class=\"img-responsive\" height=\"119\" src=\"https://www.nostarch.com/sites/default/files/styles/product/public/haskell_sample2big_0.jpg?itok=uuT-cFzs\" title=\"LYAH Sample 2\" width=\"90\"/></a></div> </div> </div>\n",
      "<div class=\"views-row views-row-2 views-row-even\">\n",
      "<div class=\"views-field views-field-field-image-cache\"> <div class=\"field-content\"><a href=\"/clojure\"><img alt=\"Clojure for the Brave and True\" class=\"img-responsive\" height=\"119\" src=\"https://www.nostarch.com/sites/default/files/styles/product/public/clojure_cover-front_final.png?itok=3KfPh5yw\" title=\"Clojure for the Brave and True\" width=\"90\"/></a></div> </div> </div>\n",
      "<div class=\"views-row views-row-3 views-row-odd\">\n",
      "<div class=\"views-field views-field-field-image-cache\"> <div class=\"field-content\"><a href=\"/ev3discovery\"><img alt=\"The LEGO MINDSTORMS EV3 Discovery Book\" class=\"img-responsive\" height=\"113\" src=\"https://www.nostarch.com/sites/default/files/styles/product/public/EV3D_cover_web.png?itok=SGCJogeD\" title=\"The LEGO MINDSTORMS EV3 Discovery Book\" width=\"90\"/></a></div> </div> </div>\n",
      "<div class=\"views-row views-row-4 views-row-even\">\n",
      "<div class=\"views-field views-field-field-image-cache\"> <div class=\"field-content\"><a href=\"/learnscratch\"><img alt=\"Learn to Program with Scratch\" class=\"img-responsive\" height=\"119\" src=\"https://www.nostarch.com/sites/default/files/styles/product/public/ltpws_coverweb-FINAL_1.png?itok=xSt3UqME\" title=\"Learn to Program with Scratch\" width=\"90\"/></a></div> </div> </div>\n",
      "<div class=\"views-row views-row-5 views-row-odd views-row-last\">\n",
      "<div class=\"views-field views-field-field-image-cache\"> <div class=\"field-content\"><a href=\"/grayhatcsharp\"><img alt=\"Gray Hat C#\" class=\"img-responsive\" height=\"119\" src=\"https://www.nostarch.com/sites/default/files/styles/product/public/GrayHatC_cover.png?itok=aKatFp5B\" title=\"Gray Hat C#\" width=\"90\"/></a></div> </div> </div>\n",
      "</div>\n",
      "</div></div>\n",
      "</section>\n",
      "</div>\n",
      "</aside>\n",
      "<section class=\"col-sm-6\">\n",
      "<a id=\"main-content\"></a>\n",
      "<h1 class=\"page-header\">No Starch Press</h1>\n",
      "<div class=\"region region-content\">\n",
      "<section class=\"block block-system clearfix\" id=\"block-system-main\">\n",
      "<div class=\"ds-1col node node-page view-mode-full clearfix\">\n",
      "<div class=\"field field-name-body field-type-text-with-summary field-label-hidden\"><div class=\"field-items\"><div class=\"field-item even\"><table border=\"0\" cellpadding=\"0\" cellspacing=\"0\">\n",
      "<tr valign=\"top\">\n",
      "<td width=\"50%\">\n",
      "<h2 class=\"title\" style=\"padding-bottom: 10px;\"><b>New!</b></h2>\n",
      "<div class=\"view view-frontpage-new view-id-frontpage_new view-display-id-default view-dom-id-0d4022901ce69bcc4990de078f020765\">\n",
      "<div class=\"view-content\">\n",
      "<div class=\"views-row views-row-1 views-row-odd views-row-first\">\n",
      "<article class=\"node node-product node-promoted node-teaser clearfix\" id=\"node-390\">\n",
      "<header>\n",
      "<h2><a href=\"/networkprotocols\">Attacking Network Protocols</a></h2>\n",
      "</header>\n",
      "<div class=\"field field-name-field-image-cache field-type-image field-label-hidden\"><div class=\"field-items\"><div class=\"field-item even\"><a href=\"/networkprotocols\"><img alt=\"Attacking Network Protocols\" class=\"img-responsive\" height=\"225\" src=\"https://www.nostarch.com/sites/default/files/styles/uc_product/public/anp_cover-front-final.png?itok=RFlz7c7-\" title=\"Attacking Network Protocols\" width=\"170\"/></a></div></div></div><div class=\"field field-name-body field-type-text-with-summary field-label-hidden\"><div class=\"field-items\"><div class=\"field-item even\"><p><b><a href=\"/networkprotocols\">Attacking Network Protocols</a></b> is a deep dive into network protocol security from James<br/> ­Forshaw, one of the world’s leading bug ­hunters.</p>\n",
      "</div></div></div>\n",
      "<footer>\n",
      "</footer>\n",
      "</article>\n",
      "</div>\n",
      "<div class=\"views-row views-row-2 views-row-even\">\n",
      "<article class=\"node node-product node-promoted node-teaser clearfix\" id=\"node-428\">\n",
      "<header>\n",
      "<h2><a href=\"/seriouscrypto\">Serious Cryptography</a></h2>\n",
      "</header>\n",
      "<div class=\"field field-name-field-image-cache field-type-image field-label-hidden\"><div class=\"field-items\"><div class=\"field-item even\"><a href=\"/seriouscrypto\"><img alt=\"Serious Cryptography\" class=\"img-responsive\" height=\"225\" src=\"https://www.nostarch.com/sites/default/files/styles/uc_product/public/crypto_cover-front-final.png?itok=iupKOaBH\" title=\"Serious Cryptography\" width=\"170\"/></a></div></div></div><div class=\"field field-name-body field-type-text-with-summary field-label-hidden\"><div class=\"field-items\"><div class=\"field-item even\"><p><a href=\"/SeriousCrypto\">Serious Cryptography</a> is a practical guide to the past, present, and future of cryptographic systems and algorithms. </p>\n",
      "</div></div></div>\n",
      "<footer>\n",
      "</footer>\n",
      "</article>\n",
      "</div>\n",
      "<div class=\"views-row views-row-3 views-row-odd\">\n",
      "<article class=\"node node-product node-promoted node-teaser clearfix\" id=\"node-403\">\n",
      "<header>\n",
      "<h2><a href=\"/learnjava\">Learn Java the Easy Way</a></h2>\n",
      "</header>\n",
      "<div class=\"field field-name-field-image-cache field-type-image field-label-hidden\"><div class=\"field-items\"><div class=\"field-item even\"><a href=\"/learnjava\"><img alt=\"Learn Java the Easy Way\" class=\"img-responsive\" height=\"225\" src=\"https://www.nostarch.com/sites/default/files/styles/uc_product/public/LearnJavatheEasyWay_cover.png?itok=6Osi2XjJ\" title=\"Learn Java the Easy Way\" width=\"170\"/></a></div></div></div><div class=\"field field-name-body field-type-text-with-summary field-label-hidden\"><div class=\"field-items\"><div class=\"field-item even\"><p><a href=\"/learnjava\">Learn Java the Easy Way</a> is a beginner-friendly, project-based introduction to Java.</p>\n",
      "</div></div></div>\n",
      "<footer>\n",
      "</footer>\n",
      "</article>\n",
      "</div>\n",
      "<div class=\"views-row views-row-4 views-row-even\">\n",
      "<article class=\"node node-product node-promoted node-teaser clearfix\" id=\"node-400\">\n",
      "<header>\n",
      "<h2><a href=\"/legotrains\">LEGO Trains Book</a></h2>\n",
      "</header>\n",
      "<div class=\"field field-name-field-image-cache field-type-image field-label-hidden\"><div class=\"field-items\"><div class=\"field-item even\"><a href=\"/legotrains\"><img alt=\"The LEGO Trains Book\" class=\"img-responsive\" height=\"225\" src=\"https://www.nostarch.com/sites/default/files/styles/uc_product/public/LEGOTrains_cover.png?itok=gyw-4lba\" title=\"The LEGO Trains Book\" width=\"225\"/></a></div></div></div><div class=\"field field-name-body field-type-text-with-summary field-label-hidden\"><div class=\"field-items\"><div class=\"field-item even\"><p>The <a href=\"/legotrains\">LEGO Trains Book</a> is an illustrated guide to the world of LEGO train building. </p>\n",
      "</div></div></div>\n",
      "<footer>\n",
      "</footer>\n",
      "</article>\n",
      "</div>\n",
      "<div class=\"views-row views-row-5 views-row-odd\">\n",
      "<article class=\"node node-product node-promoted node-teaser clearfix\" id=\"node-375\">\n",
      "<header>\n",
      "<h2><a href=\"/computersforseniors\">Computers for Seniors</a></h2>\n",
      "</header>\n",
      "<div class=\"field field-name-field-image-cache field-type-image field-label-hidden\"><div class=\"field-items\"><div class=\"field-item even\"><a href=\"/computersforseniors\"><img alt=\"Computers for Seniors\" class=\"img-responsive\" height=\"225\" src=\"https://www.nostarch.com/sites/default/files/styles/uc_product/public/computers_for_seniors_cover_new.png?itok=3ldzWyLe\" title=\"Computers for Seniors\" width=\"170\"/></a></div></div></div><div class=\"field field-name-body field-type-text-with-summary field-label-hidden\"><div class=\"field-items\"><div class=\"field-item even\"><p><a href=\"https://www.nostarch.com/computersforseniors\">Computers for Seniors</a> is a step-by-step guide to learning basic computer skills.</p>\n",
      "</div></div></div>\n",
      "<footer>\n",
      "</footer>\n",
      "</article>\n",
      "</div>\n",
      "<div class=\"views-row views-row-6 views-row-even\">\n",
      "<article class=\"node node-product node-promoted node-teaser clearfix\" id=\"node-394\">\n",
      "<header>\n",
      "<h2><a href=\"/arduinohandbook2\">Arduino Project Handbook, Vol. 2</a></h2>\n",
      "</header>\n",
      "<div class=\"field field-name-field-image-cache field-type-image field-label-hidden\"><div class=\"field-items\"><div class=\"field-item even\"><a href=\"/arduinohandbook2\"><img alt=\"Arduino Project Handbook Vol. 2\" class=\"img-responsive\" height=\"225\" src=\"https://www.nostarch.com/sites/default/files/styles/uc_product/public/ArduinoProjectHandbookV2_cover.png?itok=FQBFwBYk\" title=\"Arduino Project Handbook Vol. 2\" width=\"170\"/></a></div></div></div><div class=\"field field-name-body field-type-text-with-summary field-label-hidden\"><div class=\"field-items\"><div class=\"field-item even\"><p><a href=\"/arduinohandbook2\">Arduino Project Handbook, Vol. 2</a> is a full-color guide to building 25 fun and practical projects with the low-cost Arduino microcontroller.</p>\n",
      "</div></div></div>\n",
      "<footer>\n",
      "</footer>\n",
      "</article>\n",
      "</div>\n",
      "<div class=\"views-row views-row-7 views-row-odd\">\n",
      "<article class=\"node node-product node-promoted node-teaser clearfix\" id=\"node-393\">\n",
      "<header>\n",
      "<h2><a href=\"/microprocessors\">The Manga Guide to Microprocessors</a></h2>\n",
      "</header>\n",
      "<div class=\"field field-name-field-image-cache field-type-image field-label-hidden\"><div class=\"field-items\"><div class=\"field-item even\"><a href=\"/microprocessors\"><img alt=\"The Manga Guide to Microprocessors\" class=\"img-responsive\" height=\"225\" src=\"https://www.nostarch.com/sites/default/files/styles/uc_product/public/MangaMicroprocessors_cover_0.png?itok=MxmdxH9e\" title=\"The Manga Guide to Microprocessors\" width=\"170\"/></a></div></div></div><div class=\"field field-name-body field-type-text-with-summary field-label-hidden\"><div class=\"field-items\"><div class=\"field-item even\"><p><a href=\"microprocessors\">The Manga Guide to Microprocessors</a> is a comic guide to microprocessors, computer architecture, and digital operations. </p>\n",
      "</div></div></div>\n",
      "<footer>\n",
      "</footer>\n",
      "</article>\n",
      "</div>\n",
      "<div class=\"views-row views-row-8 views-row-even\">\n",
      "<article class=\"node node-product node-promoted node-teaser clearfix\" id=\"node-423\">\n",
      "<header>\n",
      "<h2><a href=\"/gtfo\">PoC||GTFO</a></h2>\n",
      "</header>\n",
      "<div class=\"field field-name-field-image-cache field-type-image field-label-hidden\"><div class=\"field-items\"><div class=\"field-item even\"><a href=\"/gtfo\"><img alt=\"PoC||GTFO\" class=\"img-responsive\" height=\"225\" src=\"https://www.nostarch.com/sites/default/files/styles/uc_product/public/GTFO_cover_new.png?itok=pCjushIv\" title=\"PoC||GTFO\" width=\"170\"/></a></div></div></div><div class=\"field field-name-body field-type-text-with-summary field-label-hidden\"><div class=\"field-items\"><div class=\"field-item even\"><p><a href=\"https://www.nostarch.com/gtfo\">PoC||GTFO</a> is a compilation of the wildly popular hacker zine of the same name. Contributions range from humorous poems to deeply technical essays.</p>\n",
      "</div></div></div>\n",
      "<footer>\n",
      "</footer>\n",
      "</article>\n",
      "</div>\n",
      "<div class=\"views-row views-row-9 views-row-odd\">\n",
      "<article class=\"node node-product node-promoted node-teaser clearfix\" id=\"node-346\">\n",
      "<header>\n",
      "<h2><a href=\"/sparkfunarduino\">The Arduino Inventor's Guide</a></h2>\n",
      "</header>\n",
      "<div class=\"field field-name-field-image-cache field-type-image field-label-hidden\"><div class=\"field-items\"><div class=\"field-item even\"><a href=\"/sparkfunarduino\"><img alt=\"The Arduino Inventor's Guide\" class=\"img-responsive\" height=\"225\" src=\"https://www.nostarch.com/sites/default/files/styles/uc_product/public/ArduinoInventor%27sGuide_cover_0.png?itok=eSSQoSei\" title=\"The Arduino Inventor's Guide\" width=\"170\"/></a></div></div></div><div class=\"field field-name-body field-type-text-with-summary field-label-hidden\"><div class=\"field-items\"><div class=\"field-item even\"><p><a href=\"/sparkfunarduino\">The Arduino Inventor's Guide</a> is a hands-on introduction to exploring electronics with Arduino for total beginners.</p>\n",
      "</div></div></div>\n",
      "<footer>\n",
      "</footer>\n",
      "</article>\n",
      "</div>\n",
      "<div class=\"views-row views-row-10 views-row-even\">\n",
      "<article class=\"node node-product node-promoted node-teaser clearfix\" id=\"node-389\">\n",
      "<header>\n",
      "<h2><a href=\"/grayhatcsharp\">Gray Hat C#</a></h2>\n",
      "</header>\n",
      "<div class=\"field field-name-field-image-cache field-type-image field-label-hidden\"><div class=\"field-items\"><div class=\"field-item even\"><a href=\"/grayhatcsharp\"><img alt=\"Gray Hat C#\" class=\"img-responsive\" height=\"225\" src=\"https://www.nostarch.com/sites/default/files/styles/uc_product/public/GrayHatC_cover.png?itok=oFuFmPd9\" title=\"Gray Hat C#\" width=\"170\"/></a></div></div></div><div class=\"field field-name-body field-type-text-with-summary field-label-hidden\"><div class=\"field-items\"><div class=\"field-item even\"><p><a href=\"https://www.nostarch.com/GrayHatCSharp\">Gray Hat C#</a> shows you how to use C#'s powerful set of core libraries to create and automate security tools.</p>\n",
      "</div></div></div>\n",
      "<footer>\n",
      "</footer>\n",
      "</article>\n",
      "</div>\n",
      "<div class=\"views-row views-row-11 views-row-odd\">\n",
      "<article class=\"node node-product node-promoted node-teaser clearfix\" id=\"node-371\">\n",
      "<header>\n",
      "<h2><a href=\"/iphoneappsforkids\">Coding iPhone Apps for Kids</a></h2>\n",
      "</header>\n",
      "<div class=\"field field-name-field-image-cache field-type-image field-label-hidden\"><div class=\"field-items\"><div class=\"field-item even\"><a href=\"/iphoneappsforkids\"><img alt=\"Coding iPhone Apps for Kids\" class=\"img-responsive\" height=\"225\" src=\"https://www.nostarch.com/sites/default/files/styles/uc_product/public/CodingiPhoneAppsforKids_cover.png?itok=zfRGgmaL\" title=\"Coding iPhone Apps for Kids\" width=\"170\"/></a></div></div></div><div class=\"field field-name-body field-type-text-with-summary field-label-hidden\"><div class=\"field-items\"><div class=\"field-item even\"><p><a href=\"/iphoneappsforkids\">Coding iPhone Apps for Kids</a> teaches you how to program the iOS apps and games you’ve always wanted to make!</p>\n",
      "</div></div></div>\n",
      "<footer>\n",
      "</footer>\n",
      "</article>\n",
      "</div>\n",
      "<div class=\"views-row views-row-12 views-row-even\">\n",
      "<article class=\"node node-product node-promoted node-teaser clearfix\" id=\"node-392\">\n",
      "<header>\n",
      "<h2><a href=\"/packetanalysis3\">Practical Packet Analysis, 3rd Edition</a></h2>\n",
      "</header>\n",
      "<div class=\"field field-name-field-image-cache field-type-image field-label-hidden\"><div class=\"field-items\"><div class=\"field-item even\"><a href=\"/packetanalysis3\"><img alt=\"Practical Packet Analysis, 3rd Edition\" class=\"img-responsive\" height=\"225\" src=\"https://www.nostarch.com/sites/default/files/styles/uc_product/public/PracticalPacketAnalysis3E_cover.png?itok=-Ekv2dOG\" title=\"Practical Packet Analysis, 3rd Edition\" width=\"170\"/></a></div></div></div><div class=\"field field-name-body field-type-text-with-summary field-label-hidden\"><div class=\"field-items\"><div class=\"field-item even\"><p><a href=\"/packetanalysis3\">Practical Packet Analysis, 3rd Ed.</a> teaches you how to use Wireshark for packet capture and analysis.</p>\n",
      "</div></div></div>\n",
      "<footer>\n",
      "</footer>\n",
      "</article>\n",
      "</div>\n",
      "<div class=\"views-row views-row-13 views-row-odd\">\n",
      "<article class=\"node node-product node-promoted node-teaser clearfix\" id=\"node-361\">\n",
      "<header>\n",
      "<h2><a href=\"/arduinoplayground\">Arduino Playground</a></h2>\n",
      "</header>\n",
      "<div class=\"field field-name-field-image-cache field-type-image field-label-hidden\"><div class=\"field-items\"><div class=\"field-item even\"><a href=\"/arduinoplayground\"><img alt=\"Arduino Playground\" class=\"img-responsive\" height=\"225\" src=\"https://www.nostarch.com/sites/default/files/styles/uc_product/public/ArduinoPlayground_cover_0.png?itok=rnNmQ8Nb\" title=\"Arduino Playground\" width=\"170\"/></a></div></div></div><div class=\"field field-name-body field-type-text-with-summary field-label-hidden\"><div class=\"field-items\"><div class=\"field-item even\"><p><b><a href=\"/arduinoplayground\">Arduino Playground</a></b> is a collection of fun, geeky Arduino projects for experienced tinkerers in search of a new building challenge.</p>\n",
      "</div></div></div>\n",
      "<footer>\n",
      "</footer>\n",
      "</article>\n",
      "</div>\n",
      "<div class=\"views-row views-row-14 views-row-even views-row-last\">\n",
      "<article class=\"node node-product node-promoted node-teaser clearfix\" id=\"node-380\">\n",
      "<header>\n",
      "<h2><a href=\"/hardwarehacker\">Hardware Hacker</a></h2>\n",
      "</header>\n",
      "<div class=\"field field-name-field-image-cache field-type-image field-label-hidden\"><div class=\"field-items\"><div class=\"field-item even\"><a href=\"/hardwarehacker\"><img alt=\"The Hardware Hacker \" class=\"img-responsive\" height=\"225\" src=\"https://www.nostarch.com/sites/default/files/styles/uc_product/public/HardwareHacker_cover.png?itok=HflMqyGu\" title=\"The Hardware Hacker \" width=\"149\"/></a></div></div></div><div class=\"field field-name-body field-type-text-with-summary field-label-hidden\"><div class=\"field-items\"><div class=\"field-item even\"><p><b><a href=\"/hardwarehacker\">The Hardware Hacker</a></b> is an illuminating career retrospective from Andrew “bunnie” Huang, one of the world’s most esteemed hackers.</p>\n",
      "</div></div></div>\n",
      "<footer>\n",
      "</footer>\n",
      "</article>\n",
      "</div>\n",
      "</div>\n",
      "<div class=\"feed-icon\">\n",
      "<a class=\"feed-icon\" href=\"https://www.nostarch.com/feeds/newbooks.xml\" title=\"Subscribe to No Starch Press - New Books\"><img alt=\"Subscribe to No Starch Press - New Books\" class=\"img-responsive\" height=\"16\" src=\"https://www.nostarch.com/misc/feed.png\" width=\"16\"/></a> </div>\n",
      "</div></td>\n",
      "<td width=\"50%\">\n",
      "<h2 class=\"title\" style=\"padding-bottom: 10px;\"><b>Coming Soon</b>   <span style=\"font-size:60%;\">(<a href=\"/upcoming.htm\">see all</a>)</span></h2>\n",
      "<div class=\"view view-frontpage-comingsoon view-id-frontpage_comingsoon view-display-id-default view-dom-id-3aaadde4d5fec932d25effc5499bd8ab\">\n",
      "<div class=\"view-content\">\n",
      "<div class=\"views-row views-row-1 views-row-odd views-row-first\">\n",
      "<article class=\"node node-product node-promoted node-teaser clearfix\" id=\"node-425\">\n",
      "<header>\n",
      "<h2><a href=\"/crackingcodes\">Cracking Codes with Python</a></h2>\n",
      "</header>\n",
      "<div class=\"field field-name-field-image-cache field-type-image field-label-hidden\"><div class=\"field-items\"><div class=\"field-item even\"><a href=\"/crackingcodes\"><img alt=\"Cracking Codes with Python\" class=\"img-responsive\" height=\"225\" src=\"https://www.nostarch.com/sites/default/files/styles/uc_product/public/CrackingCodes_cover.png?itok=_pblccd1\" title=\"Cracking Codes with Python\" width=\"170\"/></a></div></div></div><div class=\"field field-name-body field-type-text-with-summary field-label-hidden\"><div class=\"field-items\"><div class=\"field-item even\"><p><a href=\"/crackingcodes\">Cracking Codes with Python</a> teaches you how to program in Python while making and breaking ciphers. <i>Now Available in Early Access!</i></p>\n",
      "</div></div></div>\n",
      "<footer>\n",
      "</footer>\n",
      "</article>\n",
      "</div>\n",
      "<div class=\"views-row views-row-2 views-row-even\">\n",
      "<article class=\"node node-product node-promoted node-teaser clearfix\" id=\"node-438\">\n",
      "<header>\n",
      "<h2><a href=\"/RaspberryPiProject\">Raspberry Pi Project Handbook</a></h2>\n",
      "</header>\n",
      "<div class=\"field field-name-field-image-cache field-type-image field-label-hidden\"><div class=\"field-items\"><div class=\"field-item even\"><a href=\"/RaspberryPiProject\"><img alt=\"Raspberry Pi Project Handbook\" class=\"img-responsive\" height=\"225\" src=\"https://www.nostarch.com/sites/default/files/styles/uc_product/public/raspberry_pi_project_handbook_cover.png?itok=zyshZWpp\" title=\"Raspberry Pi Project Handbook\" width=\"170\"/></a></div></div></div><div class=\"field field-name-body field-type-text-with-summary field-label-hidden\"><div class=\"field-items\"><div class=\"field-item even\"><p><a href=\"/RaspberryPiProject\">Raspberry Pi Project Handbook</a> is a step-by-step guide to the Raspberry Pi, for beginners looking to make cool things right away. <i>Now Available in Early Access!</i></p>\n",
      "</div></div></div>\n",
      "<footer>\n",
      "</footer>\n",
      "</article>\n",
      "</div>\n",
      "<div class=\"views-row views-row-3 views-row-odd\">\n",
      "<article class=\"node node-product node-promoted node-teaser clearfix\" id=\"node-444\">\n",
      "<header>\n",
      "<h2><a href=\"/hackersguidetopython\">The Hacker’s Guide to Python</a></h2>\n",
      "</header>\n",
      "<div class=\"field field-name-field-image-cache field-type-image field-label-hidden\"><div class=\"field-items\"><div class=\"field-item even\"><a href=\"/hackersguidetopython\"><img alt=\"The Hacker's Guide to Python\" class=\"img-responsive\" height=\"225\" src=\"https://www.nostarch.com/sites/default/files/styles/uc_product/public/hackerspython_cover-front.png?itok=wcR4KKVh\" title=\"The Hacker's Guide to Python\" width=\"170\"/></a></div></div></div><div class=\"field field-name-body field-type-text-with-summary field-label-hidden\"><div class=\"field-items\"><div class=\"field-item even\"><p><a href=\"/hackersguidetopython\">The Hacker's Guide to Python</a> is an indispensable collection of practical tips and real-world advice for tackling common Python problems.</p>\n",
      "</div></div></div>\n",
      "<footer>\n",
      "</footer>\n",
      "</article>\n",
      "</div>\n",
      "<div class=\"views-row views-row-4 views-row-even\">\n",
      "<article class=\"node node-product node-promoted node-teaser clearfix\" id=\"node-401\">\n",
      "<header>\n",
      "<h2><a href=\"/practicalSQL\">Practical SQL</a></h2>\n",
      "</header>\n",
      "<div class=\"field field-name-field-image-cache field-type-image field-label-hidden\"><div class=\"field-items\"><div class=\"field-item even\"><a href=\"/practicalSQL\"><img alt=\"Practical SQL oi\" class=\"img-responsive\" height=\"225\" src=\"https://www.nostarch.com/sites/default/files/styles/uc_product/public/PracticalSQL_cover.png?itok=fSlehMou\" title=\"Practical SQL\" width=\"170\"/></a></div></div></div><div class=\"field field-name-body field-type-text-with-summary field-label-hidden\"><div class=\"field-items\"><div class=\"field-item even\"><p><a href=\"https://www.nostarch.com/practicalSQL\">Practical SQL</a> is a pragmatic, plain-English guide to programming in SQL for anyone working with data analysis and management. <i>Now Available in Early Access!</i></p>\n",
      "</div></div></div>\n",
      "<footer>\n",
      "</footer>\n",
      "</article>\n",
      "</div>\n",
      "<div class=\"views-row views-row-5 views-row-odd\">\n",
      "<article class=\"node node-product node-promoted node-teaser clearfix\" id=\"node-441\">\n",
      "<header>\n",
      "<h2><a href=\"/automateminecraft\">Automate the Minecraft Stuff</a></h2>\n",
      "</header>\n",
      "<div class=\"field field-name-field-image-cache field-type-image field-label-hidden\"><div class=\"field-items\"><div class=\"field-item even\"><a href=\"/automateminecraft\"><img alt=\"Automate the Minecraft Stuff\" class=\"img-responsive\" height=\"225\" src=\"https://www.nostarch.com/sites/default/files/styles/uc_product/public/minecraftstuff_cover-front.png?itok=EmC9i6ju\" title=\"Automate the Minecraft Stuff\" width=\"170\"/></a></div></div></div><div class=\"field field-name-body field-type-text-with-summary field-label-hidden\"><div class=\"field-items\"><div class=\"field-item even\"><p><a href=\"/automateminecraft\">Automate the Minecraft Stuff</a> is a hands-on introduction to coding that teaches how to program bots to do cool things in Minecraft. <i>Now Available in Early Access!</i></p>\n",
      "</div></div></div>\n",
      "<footer>\n",
      "</footer>\n",
      "</article>\n",
      "</div>\n",
      "<div class=\"views-row views-row-6 views-row-even\">\n",
      "<article class=\"node node-product node-promoted node-teaser clearfix\" id=\"node-426\">\n",
      "<header>\n",
      "<h2><a href=\"/legoarchitecture\">The LEGO Architecture Idea Book</a></h2>\n",
      "</header>\n",
      "<div class=\"field field-name-field-image-cache field-type-image field-label-hidden\"><div class=\"field-items\"><div class=\"field-item even\"><a href=\"/legoarchitecture\"><img alt=\"The LEGO Architecture Idea Book\" class=\"img-responsive\" height=\"225\" src=\"https://www.nostarch.com/sites/default/files/styles/uc_product/public/LEGOArchitectureIdea_cover.png?itok=F6vfksbY\" title=\"The LEGO Architecture Idea Book\" width=\"180\"/></a></div></div></div><div class=\"field field-name-body field-type-text-with-summary field-label-hidden\"><div class=\"field-items\"><div class=\"field-item even\"><p><a href=\"https://www.nostarch.com/legoarchitecture\">The LEGO Architecture Idea Book</a> shows you how to make realistic structures for your LEGO designs.</p>\n",
      "</div></div></div>\n",
      "<footer>\n",
      "</footer>\n",
      "</article>\n",
      "</div>\n",
      "<div class=\"views-row views-row-7 views-row-odd\">\n",
      "<article class=\"node node-product node-promoted node-teaser clearfix\" id=\"node-362\">\n",
      "<header>\n",
      "<h2><a href=\"/gameconsole\">Game Console</a></h2>\n",
      "</header>\n",
      "<div class=\"field field-name-field-image-cache field-type-image field-label-hidden\"><div class=\"field-items\"><div class=\"field-item even\"><a href=\"/gameconsole\"><img alt=\"The Game Console\" class=\"img-responsive\" height=\"225\" src=\"https://www.nostarch.com/sites/default/files/styles/uc_product/public/gameconsole_cover.png?itok=S9JH4c1z\" title=\"The Game Console\" width=\"176\"/></a></div></div></div><div class=\"field field-name-body field-type-text-with-summary field-label-hidden\"><div class=\"field-items\"><div class=\"field-item even\"><p><b><a href=\"/gameconsole\">The Game Console</a></b> is a visual history of video game technology, with gorgeous photos of more than 80 video game consoles manufactured since 1972.</p>\n",
      "</div></div></div>\n",
      "<footer>\n",
      "</footer>\n",
      "</article>\n",
      "</div>\n",
      "<div class=\"views-row views-row-8 views-row-even\">\n",
      "<article class=\"node node-product node-promoted node-teaser clearfix\" id=\"node-437\">\n",
      "<header>\n",
      "<h2><a href=\"/missionpython\">Mission Python</a></h2>\n",
      "</header>\n",
      "<div class=\"field field-name-field-image-cache field-type-image field-label-hidden\"><div class=\"field-items\"><div class=\"field-item even\"><a href=\"/missionpython\"><img alt=\"Mission Python\" class=\"img-responsive\" height=\"225\" src=\"https://www.nostarch.com/sites/default/files/styles/uc_product/public/MissionPython_cover.png?itok=dA6EPENa\" title=\"Mission Python\" width=\"170\"/></a></div></div></div><div class=\"field field-name-body field-type-text-with-summary field-label-hidden\"><div class=\"field-items\"><div class=\"field-item even\"><p><a href=\"/missionpython\">Mission Python</a> will teach you how to program an adventure game in this hands-on, beginner-friendly introduction to coding in Python.</p>\n",
      "</div></div></div>\n",
      "<footer>\n",
      "</footer>\n",
      "</article>\n",
      "</div>\n",
      "<div class=\"views-row views-row-9 views-row-odd\">\n",
      "<article class=\"node node-product node-promoted node-teaser clearfix\" id=\"node-402\">\n",
      "<header>\n",
      "<h2><a href=\"/Rust\">The Rust Programming Language</a></h2>\n",
      "</header>\n",
      "<div class=\"field field-name-field-image-cache field-type-image field-label-hidden\"><div class=\"field-items\"><div class=\"field-item even\"><a href=\"/Rust\"><img alt=\"The Rust Programming Language\" class=\"img-responsive\" height=\"225\" src=\"https://www.nostarch.com/sites/default/files/styles/uc_product/public/RustProgrammingLanguage_cover_0.png?itok=iMBElPzn\" title=\"The Rust Programming Language\" width=\"170\"/></a></div></div></div><div class=\"field field-name-body field-type-text-with-summary field-label-hidden\"><div class=\"field-items\"><div class=\"field-item even\"><p><a href=\"/Rust\">The Rust Programming Language</a> is the official hands-on, no-nonsense guide to learning Rust, from the Rust developers at Mozilla. <i>Now Available in Early Access!</i></p>\n",
      "</div></div></div>\n",
      "<footer>\n",
      "</footer>\n",
      "</article>\n",
      "</div>\n",
      "<div class=\"views-row views-row-10 views-row-even\">\n",
      "<article class=\"node node-product node-promoted node-teaser clearfix\" id=\"node-451\">\n",
      "<header>\n",
      "<h2><a href=\"/absfreebsd3\">Absolute FreeBSD, 3rd Edition</a></h2>\n",
      "</header>\n",
      "<div class=\"field field-name-field-image-cache field-type-image field-label-hidden\"><div class=\"field-items\"><div class=\"field-item even\"><a href=\"/absfreebsd3\"><img alt=\"Absolute FreeBSD, 3rd Edition\" class=\"img-responsive\" height=\"225\" src=\"https://www.nostarch.com/sites/default/files/styles/uc_product/public/freebsd3_cover-front.png?itok=58If2R9A\" title=\"Absolute FreeBSD, 3rd Edition\" width=\"170\"/></a></div></div></div><div class=\"field field-name-body field-type-text-with-summary field-label-hidden\"><div class=\"field-items\"><div class=\"field-item even\"><p>This updated edition of <a href=\"/absfreebsd3\">Absolute FreeBSD</a> adds coverage of modern disks, the ZFS filesystem IPv6, redesigned jail and packaging systems, virtualization, and more.</p>\n",
      "</div></div></div>\n",
      "<footer>\n",
      "</footer>\n",
      "</article>\n",
      "</div>\n",
      "<div class=\"views-row views-row-11 views-row-odd\">\n",
      "<article class=\"node node-product node-promoted node-teaser clearfix\" id=\"node-453\">\n",
      "<header>\n",
      "<h2><a href=\"/linuxbasicsforhackers\">Linux Basics for Hackers</a></h2>\n",
      "</header>\n",
      "<div class=\"field field-name-field-image-cache field-type-image field-label-hidden\"><div class=\"field-items\"><div class=\"field-item even\"><a href=\"/linuxbasicsforhackers\"><img alt=\"Linux Basics for Hackers\" class=\"img-responsive\" height=\"225\" src=\"https://www.nostarch.com/sites/default/files/styles/uc_product/public/LinuxBasicsforHackers_cover-front.png?itok=8e9mgBL2\" title=\"Linux Basics for Hackers\" width=\"170\"/></a></div></div></div><div class=\"field field-name-body field-type-text-with-summary field-label-hidden\"><div class=\"field-items\"><div class=\"field-item even\"><p><a href=\"/linuxforhackers\">Linux Basics for Hackers</a> uses the Kali Linux distribution to explain core Linux topics like filesystems, networking, packagemnet, and BASH. </p>\n",
      "</div></div></div>\n",
      "<footer>\n",
      "</footer>\n",
      "</article>\n",
      "</div>\n",
      "<div class=\"views-row views-row-12 views-row-even\">\n",
      "<article class=\"node node-product node-promoted node-teaser clearfix\" id=\"node-404\">\n",
      "<header>\n",
      "<h2><a href=\"/mangacrypto\">The Manga Guide to Cryptography</a></h2>\n",
      "</header>\n",
      "<div class=\"field field-name-field-image-cache field-type-image field-label-hidden\"><div class=\"field-items\"><div class=\"field-item even\"><a href=\"/mangacrypto\"><img alt=\"The Manga Guide to Cryptography\" class=\"img-responsive\" height=\"225\" src=\"https://www.nostarch.com/sites/default/files/styles/uc_product/public/MangaCrypto_cover.png?itok=ZMOrMDby\" title=\"The Manga Guide to Cryptography\" width=\"170\"/></a></div></div></div><div class=\"field field-name-body field-type-text-with-summary field-label-hidden\"><div class=\"field-items\"><div class=\"field-item even\"><p><a href=\"https://www.nostarch.com/mangacrypto\">The Manga Guide to Cryptography</a> is a comic introduction to ciphers, symmetric-key algorithms, and public key encryption. <i>Now Available in Early Access!</i></p>\n",
      "</div></div></div>\n",
      "<footer>\n",
      "</footer>\n",
      "</article>\n",
      "</div>\n",
      "<div class=\"views-row views-row-13 views-row-odd views-row-last\">\n",
      "<article class=\"node node-product node-promoted node-teaser clearfix\" id=\"node-439\">\n",
      "<header>\n",
      "<h2><a href=\"/bughunting\">Real-World Bug Hunting</a></h2>\n",
      "</header>\n",
      "<div class=\"field field-name-field-image-cache field-type-image field-label-hidden\"><div class=\"field-items\"><div class=\"field-item even\"><a href=\"/bughunting\"><img alt=\"Real-World Bug Hunting\" class=\"img-responsive\" height=\"225\" src=\"https://www.nostarch.com/sites/default/files/styles/uc_product/public/bughunting_cover-front.png?itok=TMBbeLxQ\" title=\"Real-World Bug Hunting\" width=\"170\"/></a></div></div></div><div class=\"field field-name-body field-type-text-with-summary field-label-hidden\"><div class=\"field-items\"><div class=\"field-item even\"><p><a href=\"/webhacking\">Real-World Bug Hunting</a> uses real-world bug reports to teach programmers how to discover and protect vulnerabilities in web applications.</p>\n",
      "</div></div></div>\n",
      "<footer>\n",
      "</footer>\n",
      "</article>\n",
      "</div>\n",
      "</div>\n",
      "<div class=\"feed-icon\">\n",
      "<a class=\"feed-icon\" href=\"https://www.nostarch.com/feeds/comingsoon.xml?startat=cluster\" title=\"Subscribe to No Starch Press - Coming Soon\"><img alt=\"Subscribe to No Starch Press - Coming Soon\" class=\"img-responsive\" height=\"16\" src=\"https://www.nostarch.com/misc/feed.png\" width=\"16\"/></a> </div>\n",
      "</div></td>\n",
      "</tr>\n",
      "</table>\n",
      "</div></div></div></div>\n",
      "</section>\n",
      "</div>\n",
      "</section>\n",
      "<aside class=\"col-sm-3\" role=\"complementary\">\n",
      "<div class=\"region region-sidebar-second\">\n",
      "<section class=\"block block-system block-menu clearfix\" id=\"block-system-navigation\">\n",
      "<h2 class=\"block-title\">Navigation</h2>\n",
      "<ul class=\"menu nav\"><li class=\"first last leaf\"><a href=\"/user\" title=\"\">My account</a></li>\n",
      "</ul>\n",
      "</section>\n",
      "<section class=\"block block-block clearfix\" id=\"block-block-52\">\n",
      "<p><a href=\"/mailchimp/subscribe\">Want sweet deals? <br/>Sign up for our newsletter.</a></p>\n",
      "</section>\n",
      "<section class=\"block block-block clearfix\" id=\"block-block-1\">\n",
      "<h2 class=\"block-title\">News</h2>\n",
      "<p>Orders placed during promotional sales may take up to 2 weeks to ship.<br/>\n",
      "Please email <a href=\"/cdn-cgi/l/email-protection#b1d8dfd7def1dfdec2c5d0c3d2d99fd2dedc\"><span class=\"__cf_email__\" data-cfemail=\"056c6b636a456b6a76716477666d2b666a68\">[email protected]</span></a> with any questions about your order.</p>\n",
      "<p>Now available in <a href=\"/aboutearlyaccess\">Early Access</a>!</p>\n",
      "<p>❧ <a href=\"/LEDHandbook\">LED Project Handbook</a><br/>\n",
      "❧ <a href=\"/mangacrypto\">The Manga Guide to Cryptography</a><br/>\n",
      "❧ <a href=\"/linuxbasicsforhackers\">Linux Basics for Hackers</a><br/>\n",
      "❧ <a href=\"/RaspberryPiProject\">Raspberry Pi Project Handbook</a><br/>\n",
      "❧ <a href=\"/minecraftrobots\">Automate the Minecraft Stuff</a><br/>\n",
      "❧ <a href=\"/crackingcodes\">Cracking Codes with Python</a><br/>\n",
      "❧ <a href=\"/practicalsql\">Practical SQL</a><br/>\n",
      "❧ <a href=\"/rootkits\">Rootkits and Bootkits</a><br/>\n",
      "❧ <a href=\"/Rust\">The Rust Programming Language</a><br/>\n",
      "❧ <a href=\"/thinkpython\">Think Like a Programmer, Python Edition</a></p>\n",
      "<p><b><a href=\"/nsm\" target=\"new\">The Practice of Network Security Monitoring</a></b> was inducted into Palo Alto Networks <b><a href=\"https://cybercanon.paloaltonetworks.com/\" target=\"new\">Cybersecurity Canon</a></b>.</p>\n",
      "<p>Read Andrew “bunnie” Huang’s <b><a href=\"https://www.reddit.com/r/netsec/comments/5xli3d/hi_im_bunnie_author_of_the_the_hardware_hacker/\" target=\"new\">Reddit AMA</a></b>.</p>\n",
      "<p><b><a href=\"http://www.vox.com/videos/2017/2/6/14445516/minecraft-art-business-maps\" target=\"new\">Vox</a></b> interviewed the author of <b><a href=\"/beautifulminecraft\" target=\"new\">Beautiful Minecraft</a></b> and discovered how the game became an artistic medium.</p>\n",
      "<p>“A look inside a mind without peer.” <b>Edward Snowden</b> on <b><a href=\"/hardwarehacker\" target=\"new\">The Hardware Hacker</a></b>.</p>\n",
      "<p><b><a href=\"/facebookforseniors\" target=\"new\">Facebook for Seniors</a></b> is one of the <b><a href=\"http://www.wsj.com/articles/the-best-geeky-books-to-kick-off-the-new-year-1483637008\" target=\"new\">Wall Street Journal’s</a></b> recommended geeky books to kick off the new year!</p>\n",
      "<p>Natalie Rusk, creator of the <a href=\"/scratchcards\" target=\"new\"><b>Scratch Coding Cards</b></a>, shares tips for supporting creative coding on the <b><a href=\"https://www.iste.org/explore/articleDetail?articleid=864&amp;category=In-the-classroom&amp;article=5+ways+to+support+creative+coding\" target=\"new\">ISTE blog</a></b></p>\n",
      "<p>Merry Brickmas! <a href=\"/legochristmas\" target=\"new\"><b>The LEGO Christmas Ornaments Book</b></a> is featured in <b><a href=\"/download/LEGOChristmasOrnaments_FamilyCircle.pdf\" target=\"new\">Family Circle Magazine</a></b> and <b><a href=\"http://www.chicagotribune.com/lifestyles/holiday/giftguide/sc-gift-guide-childrens-books-2016--gallery-20161108-photogallery.html\" target=\"new\">The Chicago Tribune</a></b>!</p>\n",
      "<p>Dave Taylor, author of <b><a href=\"/wcss2\" target=\"new\">Wicked Cool Shell Scripts</a></b>, shares how to make an interactive calculator on <b><a href=\"https://opensource.com/article/16/12/calcshell-interactive-linux-command-line-calculator\" target=\"new\">Opensource.com</a></b></p>\n",
      "<p>Bring your LEGO collection to life: <a href=\"/legoanimation\" target=\"new\"><b>The LEGO Animation Book</b></a> is included in <a href=\"https://www.theverge.com/a/holiday-gift-ideas-2016#lego-animation-book\" target=\"new\"><b>The Verge’s Holiday Gift Guide</b></a>.</p>\n",
      "<p>Need a few geeky summer reads? <b><a href=\"http://www.wsj.com/articles/three-books-every-geek-should-read-this-summer-1466715350\" target=\"new\">The Wall Street Journal</a></b> recommends <b><a href=\"/electronicsforkids\" target=\"new\">Electronics for Kids</a></b> and <b><a href=\"/searchtale\" target=\"new\">The CS Detective</a></b>!</p>\n",
      "<p>The author of <b><a href=\"/tinylegowonders\" target=\"new\">Tiny LEGO Wonders</a></b>, Mattia Zamboni, was interviewed by Vice’s <b><a href=\"https://thecreatorsproject.vice.com/blog/diy-lego-engineering-book\" target=\"new\">The Creators Project</a></b>.</p>\n",
      "<p><b><a href=\"http://www.slj.com/2016/05/collection-development/read-watch-alikes/coding-lets-begin/#_\" target=\"new\">School Library Journal</a></b> recommends <b><a href=\"/scratchjr\" target=\"new\">The Official ScratchJr Book</a></b>, <b><a href=\"/teachkids\" target=\"new\">Teach Your Kids to Code</a></b>, and <b><a href=\"/doingmathwithpython\" target=\"new\">Doing Math with Python</a></b> for educators who want to teach coding.</p>\n",
      "<p><b><a href=\"/carhacking\" target=\"new\">The Car Hacker’s Handbook</a></b> is the <b><a href=\"http://www.wsj.com/articles/3-must-read-books-for-geeks-1458057671?tesla=y\" target=\"new\">Wall Street Journal’s</a></b> latest must-read book for geeks!</p>\n",
      "<p>No Starch Press founder, Bill Pollock, did a Reddit AMA with authors <a href=\"/metasploit\" target=\"new\">David Kennedy</a>, <a href=\"/hacking2.htm target=new\">Jon Erickson</a>, <a href=\"/malware\" target=\"new\">Michael Sikorski</a>, and <a href=\"/idapro2.htm\" target=\"new\">Chris Eagle</a>. Read the AMA <b><a href=\"https://www.reddit.com/r/netsec/comments/3waa8x/im_bill_pollock_no_starch_press_founder_im_here/\" target=\"new\">here</a></b>.</p>\n",
      "<p>Why publish books about Scratch? The Scratch Foundation and Bill Pollock answer in this <a href=\"https://medium.com/scratchfoundation-blog/why-publish-books-about-scratch-7ea0b72cd9af\" target=\"new\"><b>Medium post</b></a>.</p>\n",
      "<p>Be the Corbusier of LEGO: <a href=\"/legoarchitect\" target=\"new\"><b>The LEGO Architect</b></a> is included in <a href=\"http://graphics.wsj.com/off-duty-50/a-guide-to-fall-2015/1278/be-the-corbusier-of-lego\" target=\"new\"><b>The Wall Street Journal’s guide to Fall’s Best</b></a>.</p>\n",
      "<p><a href=\"/smartgirlsguide\" target=\"new\"><b>The Smart Girl’s Guide to Privacy</b></a> hits the cover of <a href=\"https://twitter.com/violetblue/status/652989002677534720/photo/1\" target=\"new\"><b>BUST Magazine</b></a>!</p>\n",
      "<p>No Starch Press fans found <b><a href=\"https://twitter.com/billpollock/status/616127920042479616\" target=\"new\">our sticker</a></b> and <b><a href=\"https://twitter.com/aCaltum/status/596735294818385920\" target=\"new\">Hacking: The Art of Exploitation</a></b> in recent episodes of HBO’s Silicon Valley!</p>\n",
      "</section>\n",
      "<section class=\"block block-block clearfix\" id=\"block-block-7\">\n",
      "<h2 class=\"block-title\">Follow Us</h2>\n",
      "<p><a href=\"feeds/newbooks.xml\"><img align=\"left\" alt=\"RSS Feed\" border=\"0\" src=\"/misc/feed.png\" style=\"padding-bottom:8px; padding-right:8px;\"/>New Releases</a></p>\n",
      "<p><a href=\"feeds/comingsoon.xml\"><img align=\"left\" alt=\"RSS Feed\" border=\"0\" src=\"/misc/feed.png\" style=\"padding-bottom:8px; padding-right:8px;\"/>Coming Soon</a></p>\n",
      "<p><a href=\"/mailchimp/subscribe\"><img align=\"left\" alt=\"Newsletter\" border=\"0\" src=\"/sites/default/files/email-16.png\" style=\"padding-bottom:8px;padding-right:8px;\"/>Subscribe to Newsletter</a></p>\n",
      "<p><a href=\"https://www.twitter.com/nostarch\"><img align=\"left\" alt=\"Twitter\" border=\"0\" src=\"/sites/default/files/twitter-16x16.png\" style=\"padding-bottom:8px;padding-right:8px;\"/>Twitter</a></p>\n",
      "<p><a href=\"https://www.facebook.com/home.php?#/pages/No-Starch-Press/57041709833\"><img align=\"left\" alt=\"Facebook\" border=\"0\" src=\"/sites/default/files/facebook_small.png\" style=\"padding-bottom:8px;padding-right:8px;\"/>Facebook</a></p>\n",
      "</section>\n",
      "</div>\n",
      "</aside>\n",
      "</div>\n",
      "</div>\n",
      "<footer class=\"footer container\">\n",
      "<div class=\"region region-footer\">\n",
      "<section class=\"block block-block clearfix\" id=\"block-block-16\">\n",
      "<div id=\"footer-links\">\n",
      "<br/>\n",
      "<a class=\"footer-links\" href=\"/about.htm\">About Us</a>\n",
      " <span class=\"footer-divider\">|</span> \n",
      "<a class=\"footer-links\" href=\"/Jobs.htm\">Jobs</a>\n",
      " <span class=\"footer-divider\">|</span> \n",
      "<a class=\"footer-links\" href=\"/distribution.htm\">Sales and Distribution</a>\n",
      " <span class=\"footer-divider\">|</span> \n",
      "<a class=\"footer-links\" href=\"/rights\">Rights</a>\n",
      " <span class=\"footer-divider\">|</span> \n",
      "<a class=\"footer-links\" href=\"/media.htm\">Media</a>\n",
      " <span class=\"footer-divider\">|</span> \n",
      "<a class=\"footer-links\" href=\"/academic.htm\">Academic Requests</a>\n",
      " <span class=\"footer-divider\">|</span> \n",
      "<a class=\"footer-links\" href=\"/conferences.htm\">Conferences</a>\n",
      " <span class=\"footer-divider\">|</span> \n",
      "<a class=\"footer-links\" href=\"/orderfaq.htm\">Order FAQ</a>\n",
      " <span class=\"footer-divider\">|</span> \n",
      "<a class=\"footer-links\" href=\"/contactus.htm\">Contact Us</a>\n",
      " <span class=\"footer-divider\">|</span> \n",
      "<a class=\"footer-links\" href=\"/writeforus.htm\">Write for Us</a>\n",
      " <span class=\"footer-divider\">|</span> \n",
      "<a class=\"footer-links\" href=\"/privacypolicy.htm\">Privacy</a>\n",
      "</div>\n",
      "</section>\n",
      "</div>\n",
      "</footer>\n",
      "<script data-cfasync=\"false\" src=\"/cdn-cgi/scripts/af2821b0/cloudflare-static/email-decode.min.js\"></script><script src=\"https://www.nostarch.com/sites/default/files/js/js_MLVgtzZ1ORq9krYqkeOsRay6ou_T-0QZytivuM9tTT8.js\"></script>\n",
      "<script src=\"https://www.nostarch.com/sites/default/files/js/js_L50O_PWoAuMOxVjnzZCkNSSmI0kFwhZsO1_KS8WnGKw.js\"></script>\n",
      "</body>\n",
      "</html>\n",
      "\n"
     ]
    }
   ],
   "source": [
    "#get html page from internet\n",
    "import requests, bs4\n",
    "res=requests.get('http://nostarch.com')\n",
    "res.raise_for_status()\n",
    "noStarchSoup=bs4.BeautifulSoup(res.text)\n",
    "type(noStarchSoup)\n",
    "print(noStarchSoup)"
   ]
  },
  {
   "cell_type": "code",
   "execution_count": 166,
   "metadata": {},
   "outputs": [
    {
     "name": "stdout",
     "output_type": "stream",
     "text": [
      "<html><body><p>!-- This is the example.html example file. --&gt;\n",
      "\n",
      "</p><title>The Website Title</title>\n",
      "<p>Download my <strong>Python</strong> book from <a href=\"http://\n",
      "inventwithpython.com\">my website</a>.</p>\n",
      "<p class=\"slogan\">Learn Python the easy way!</p>\n",
      "<p>By <span id=\"author\">Al Sweigart</span></p>\n",
      "</body></html>\n"
     ]
    }
   ],
   "source": [
    "#get html page from hard drive\n",
    "import requests, bs4\n",
    "exampleFile=open('C:\\\\Users\\\\albg1\\\\OneDrive\\\\Documents\\\\Coding\\\\Python\\\\PythonNotes\\\\example.html')\n",
    "exampleSoup=bs4.BeautifulSoup(exampleFile)\n",
    "type(exampleSoup)\n",
    "print(exampleSoup)"
   ]
  },
  {
   "cell_type": "markdown",
   "metadata": {},
   "source": [
    "# Finding an Element with the Select() Method"
   ]
  },
  {
   "cell_type": "markdown",
   "metadata": {},
   "source": [
    "- you can retrieve a web page element from a BeautifulSoup object by calling the select() and passing a string of a CSS selector for the element you are looking for.\n",
    "- The various selector patterns can be combined to make sophisticated matches\n",
    "- Some examples\n",
    "\n",
    "- soup.select('div')       all elements named <div>\n",
    "- soup.select('#author')   The element with an id attribute of author\n",
    "- soup.select('.notice')   all elements that use a CSS class attribute named notice\n",
    "- soup.select('div span')  all elements named <span> that are within an element named <div>\n",
    "- soup.select('div > span') all elements named <span> that are directly within an element named <div>, with no other elements in between\n",
    "- soup.select('input[name]') all elements named < input > that have a name attribute with any value\n",
    "- soup.select('input[type=\"button\"]') all elements named < input > that have an attribute named type with value button\n"
   ]
  },
  {
   "cell_type": "code",
   "execution_count": 177,
   "metadata": {},
   "outputs": [
    {
     "name": "stdout",
     "output_type": "stream",
     "text": [
      "<type 'list'>\n",
      "1\n",
      "<class 'bs4.element.Tag'>\n",
      "Al Sweigart\n",
      "<span id=\"author\">Al Sweigart</span>\n",
      "{'id': 'author'}\n",
      "<p>!-- This is the example.html example file. --&gt;\n",
      "\n",
      "</p>\n",
      "!-- This is the example.html example file. -->\n",
      "\n",
      "\n",
      "<p>Download my <strong>Python</strong> book from <a href=\"http://\n",
      "inventwithpython.com\">my website</a>.</p>\n",
      "Download my Python book from my website.\n",
      "<p class=\"slogan\">Learn Python the easy way!</p>\n",
      "Learn Python the easy way!\n",
      "[<p>!-- This is the example.html example file. --&gt;\\n\\n</p>, <p>Download my <strong>Python</strong> book from <a href=\"http://\\ninventwithpython.com\">my website</a>.</p>, <p class=\"slogan\">Learn Python the easy way!</p>, <p>By <span id=\"author\">Al Sweigart</span></p>]\n"
     ]
    }
   ],
   "source": [
    "import bs4\n",
    "#open html file\n",
    "exampleFile=open('C:\\\\Users\\\\albg1\\\\OneDrive\\\\Documents\\\\Coding\\\\Python\\\\PythonNotes\\\\example.html')\n",
    "#pass the file to beautiful soup\n",
    "exampleSoup=bs4.BeautifulSoup(exampleFile.read())\n",
    "# select the element\n",
    "elems=exampleSoup.select('#author')\n",
    "print(type(elems))\n",
    "print(len(elems))\n",
    "print(type(elems[0]))\n",
    "print(elems[0].getText())\n",
    "print(str(elems[0]))\n",
    "print(elems[0].attrs)\n",
    "\n",
    "pElems=exampleSoup.select('p')\n",
    "# first match\n",
    "print(str(pElems[0]))\n",
    "print(pElems[0].getText())\n",
    "# second match\n",
    "print(str(pElems[1]))\n",
    "print(pElems[1].getText())\n",
    "# third match\n",
    "print(str(pElems[2]))\n",
    "print(pElems[2].getText())\n",
    "# all matches\n",
    "print(str(pElems))"
   ]
  },
  {
   "cell_type": "markdown",
   "metadata": {},
   "source": [
    "# Getting Data From an Elements Attributes"
   ]
  },
  {
   "cell_type": "code",
   "execution_count": 180,
   "metadata": {
    "scrolled": true
   },
   "outputs": [
    {
     "name": "stdout",
     "output_type": "stream",
     "text": [
      "<span id=\"author\">Al Sweigart</span>\n",
      "author\n",
      "True\n",
      "{'id': 'author'}\n"
     ]
    }
   ],
   "source": [
    "import bs4\n",
    "soup=bs4.BeautifulSoup(open('C:\\\\Users\\\\albg1\\\\OneDrive\\\\Documents\\\\Coding\\\\Python\\\\PythonNotes\\\\example.html'))\n",
    "spanElem=soup.select('span')[0]\n",
    "print(str(spanElem))\n",
    "print(spanElem.get('id'))\n",
    "print(spanElem.get('some_nonexistent_addr')==None)\n",
    "print(spanElem.attrs)"
   ]
  },
  {
   "cell_type": "markdown",
   "metadata": {},
   "source": [
    "# Selenium-Controlled Browser"
   ]
  },
  {
   "cell_type": "code",
   "execution_count": 2,
   "metadata": {
    "scrolled": true
   },
   "outputs": [
    {
     "name": "stdout",
     "output_type": "stream",
     "text": [
      "<class 'selenium.webdriver.chrome.webdriver.WebDriver'>\n"
     ]
    }
   ],
   "source": [
    "#open a chrome browser\n",
    "from selenium import webdriver\n",
    "browser=webdriver.Chrome()\n",
    "print(type(browser))\n",
    "browser.get('http://inventwithpython.com')"
   ]
  },
  {
   "cell_type": "markdown",
   "metadata": {
    "collapsed": true
   },
   "source": [
    "# Finding Elements on the Page"
   ]
  },
  {
   "cell_type": "markdown",
   "metadata": {},
   "source": [
    "WebDriver Methods\n",
    "- browser.find_element(s)_by_class_name(name)   Element that use the CSS class name\n",
    "- browser.find_element(s)_by_css_selector(selector)  Elements that match the CSS selector\n",
    "- browser.find_element(s)_by_id(id)   Elements with a matching id attribute value\n",
    "- browser.find_element(s)_by_link_text(text)   <a> elements that completely match the text provided\n",
    "- browser.find_element(s)_by_partial_link_text(text)   <a> elements that contain the text provided\n",
    "- browser.find_element(s)_by_name(name)   Elements with a matching name attribute value\n",
    "- browser.find_element(s)_by_tag_name(name)   Elements with a matching tag name (case insensitive; an <a> element is matched by 'a' and 'A')  \n",
    "\n",
    "\n",
    "WebElements Attributes and Methods()\n",
    "- tag_name   the tag name, such as 'a' for an <a> element\n",
    "- get_attribute(name)  the value for the element's name attribute\n",
    "- text    the text within the element, such as 'hello' in <span>hello</span>\n",
    "- clear()    for text field or text area elements, clears the text typed into it\n",
    "- is_displayed()   returns true if the element is visible; otherwise returns false\n",
    "- is_enabled()    for input elements, return True if the element is enabled; otherwise returns False\n",
    "- is_selected()   for checkbox or radio button elements, return True if the element is selected; otherwise returns False\n",
    "- location    a dictionary with keys 'x' and 'y' for the position of the element in the page"
   ]
  },
  {
   "cell_type": "code",
   "execution_count": 5,
   "metadata": {},
   "outputs": [
    {
     "name": "stdout",
     "output_type": "stream",
     "text": [
      "Found <div> element with that class name!\n"
     ]
    }
   ],
   "source": [
    "# find a class element on a webpage\n",
    "from selenium import webdriver\n",
    "browser=webdriver.Chrome()\n",
    "browser.get('http://inventwithpython.com')\n",
    "try:\n",
    "    elem=browser.find_element_by_class_name('jumbotron')\n",
    "    print('Found <%s> element with that class name!' % (elem.tag_name))\n",
    "except:\n",
    "    print('Was not able to find an element with that name.')"
   ]
  },
  {
   "cell_type": "markdown",
   "metadata": {},
   "source": [
    "# Clicking the Page"
   ]
  },
  {
   "cell_type": "code",
   "execution_count": 2,
   "metadata": {},
   "outputs": [
    {
     "ename": "NoSuchElementException",
     "evalue": "Message: no such element: Unable to locate element: {\"method\":\"link text\",\"selector\":\"Making Games with Python & Pygame\"}\n  (Session info: chrome=63.0.3239.84)\n  (Driver info: chromedriver=2.34.522940 (1a76f96f66e3ca7b8e57d503b4dd3bccfba87af1),platform=Windows NT 10.0.16299 x86_64)\n",
     "output_type": "error",
     "traceback": [
      "\u001b[1;31m---------------------------------------------------------------------------\u001b[0m",
      "\u001b[1;31mNoSuchElementException\u001b[0m                    Traceback (most recent call last)",
      "\u001b[1;32m<ipython-input-2-d93f3ceecdfc>\u001b[0m in \u001b[0;36m<module>\u001b[1;34m()\u001b[0m\n\u001b[0;32m      3\u001b[0m \u001b[0mbrowser\u001b[0m\u001b[1;33m.\u001b[0m\u001b[0mget\u001b[0m\u001b[1;33m(\u001b[0m\u001b[1;34m'http://inventwithpython.com'\u001b[0m\u001b[1;33m)\u001b[0m\u001b[1;33m\u001b[0m\u001b[0m\n\u001b[0;32m      4\u001b[0m \u001b[1;31m# sets link elem\u001b[0m\u001b[1;33m\u001b[0m\u001b[1;33m\u001b[0m\u001b[0m\n\u001b[1;32m----> 5\u001b[1;33m \u001b[0mlinkElem\u001b[0m\u001b[1;33m=\u001b[0m\u001b[0mbrowser\u001b[0m\u001b[1;33m.\u001b[0m\u001b[0mfind_element_by_link_text\u001b[0m\u001b[1;33m(\u001b[0m\u001b[1;34m'Making Games with Python & Pygame'\u001b[0m\u001b[1;33m)\u001b[0m\u001b[1;33m\u001b[0m\u001b[0m\n\u001b[0m\u001b[0;32m      6\u001b[0m \u001b[0mprint\u001b[0m\u001b[1;33m(\u001b[0m\u001b[0mtype\u001b[0m\u001b[1;33m(\u001b[0m\u001b[0mlinkElem\u001b[0m\u001b[1;33m)\u001b[0m\u001b[1;33m)\u001b[0m\u001b[1;33m\u001b[0m\u001b[0m\n\u001b[0;32m      7\u001b[0m \u001b[1;31m# clicks on linkElem\u001b[0m\u001b[1;33m\u001b[0m\u001b[1;33m\u001b[0m\u001b[0m\n",
      "\u001b[1;32m~\\Anaconda3\\lib\\site-packages\\selenium\\webdriver\\remote\\webdriver.py\u001b[0m in \u001b[0;36mfind_element_by_link_text\u001b[1;34m(self, link_text)\u001b[0m\n\u001b[0;32m    417\u001b[0m             \u001b[0melement\u001b[0m \u001b[1;33m=\u001b[0m \u001b[0mdriver\u001b[0m\u001b[1;33m.\u001b[0m\u001b[0mfind_element_by_link_text\u001b[0m\u001b[1;33m(\u001b[0m\u001b[1;34m'Sign In'\u001b[0m\u001b[1;33m)\u001b[0m\u001b[1;33m\u001b[0m\u001b[0m\n\u001b[0;32m    418\u001b[0m         \"\"\"\n\u001b[1;32m--> 419\u001b[1;33m         \u001b[1;32mreturn\u001b[0m \u001b[0mself\u001b[0m\u001b[1;33m.\u001b[0m\u001b[0mfind_element\u001b[0m\u001b[1;33m(\u001b[0m\u001b[0mby\u001b[0m\u001b[1;33m=\u001b[0m\u001b[0mBy\u001b[0m\u001b[1;33m.\u001b[0m\u001b[0mLINK_TEXT\u001b[0m\u001b[1;33m,\u001b[0m \u001b[0mvalue\u001b[0m\u001b[1;33m=\u001b[0m\u001b[0mlink_text\u001b[0m\u001b[1;33m)\u001b[0m\u001b[1;33m\u001b[0m\u001b[0m\n\u001b[0m\u001b[0;32m    420\u001b[0m \u001b[1;33m\u001b[0m\u001b[0m\n\u001b[0;32m    421\u001b[0m     \u001b[1;32mdef\u001b[0m \u001b[0mfind_elements_by_link_text\u001b[0m\u001b[1;33m(\u001b[0m\u001b[0mself\u001b[0m\u001b[1;33m,\u001b[0m \u001b[0mtext\u001b[0m\u001b[1;33m)\u001b[0m\u001b[1;33m:\u001b[0m\u001b[1;33m\u001b[0m\u001b[0m\n",
      "\u001b[1;32m~\\Anaconda3\\lib\\site-packages\\selenium\\webdriver\\remote\\webdriver.py\u001b[0m in \u001b[0;36mfind_element\u001b[1;34m(self, by, value)\u001b[0m\n\u001b[0;32m    953\u001b[0m         return self.execute(Command.FIND_ELEMENT, {\n\u001b[0;32m    954\u001b[0m             \u001b[1;34m'using'\u001b[0m\u001b[1;33m:\u001b[0m \u001b[0mby\u001b[0m\u001b[1;33m,\u001b[0m\u001b[1;33m\u001b[0m\u001b[0m\n\u001b[1;32m--> 955\u001b[1;33m             'value': value})['value']\n\u001b[0m\u001b[0;32m    956\u001b[0m \u001b[1;33m\u001b[0m\u001b[0m\n\u001b[0;32m    957\u001b[0m     \u001b[1;32mdef\u001b[0m \u001b[0mfind_elements\u001b[0m\u001b[1;33m(\u001b[0m\u001b[0mself\u001b[0m\u001b[1;33m,\u001b[0m \u001b[0mby\u001b[0m\u001b[1;33m=\u001b[0m\u001b[0mBy\u001b[0m\u001b[1;33m.\u001b[0m\u001b[0mID\u001b[0m\u001b[1;33m,\u001b[0m \u001b[0mvalue\u001b[0m\u001b[1;33m=\u001b[0m\u001b[1;32mNone\u001b[0m\u001b[1;33m)\u001b[0m\u001b[1;33m:\u001b[0m\u001b[1;33m\u001b[0m\u001b[0m\n",
      "\u001b[1;32m~\\Anaconda3\\lib\\site-packages\\selenium\\webdriver\\remote\\webdriver.py\u001b[0m in \u001b[0;36mexecute\u001b[1;34m(self, driver_command, params)\u001b[0m\n\u001b[0;32m    310\u001b[0m         \u001b[0mresponse\u001b[0m \u001b[1;33m=\u001b[0m \u001b[0mself\u001b[0m\u001b[1;33m.\u001b[0m\u001b[0mcommand_executor\u001b[0m\u001b[1;33m.\u001b[0m\u001b[0mexecute\u001b[0m\u001b[1;33m(\u001b[0m\u001b[0mdriver_command\u001b[0m\u001b[1;33m,\u001b[0m \u001b[0mparams\u001b[0m\u001b[1;33m)\u001b[0m\u001b[1;33m\u001b[0m\u001b[0m\n\u001b[0;32m    311\u001b[0m         \u001b[1;32mif\u001b[0m \u001b[0mresponse\u001b[0m\u001b[1;33m:\u001b[0m\u001b[1;33m\u001b[0m\u001b[0m\n\u001b[1;32m--> 312\u001b[1;33m             \u001b[0mself\u001b[0m\u001b[1;33m.\u001b[0m\u001b[0merror_handler\u001b[0m\u001b[1;33m.\u001b[0m\u001b[0mcheck_response\u001b[0m\u001b[1;33m(\u001b[0m\u001b[0mresponse\u001b[0m\u001b[1;33m)\u001b[0m\u001b[1;33m\u001b[0m\u001b[0m\n\u001b[0m\u001b[0;32m    313\u001b[0m             response['value'] = self._unwrap_value(\n\u001b[0;32m    314\u001b[0m                 response.get('value', None))\n",
      "\u001b[1;32m~\\Anaconda3\\lib\\site-packages\\selenium\\webdriver\\remote\\errorhandler.py\u001b[0m in \u001b[0;36mcheck_response\u001b[1;34m(self, response)\u001b[0m\n\u001b[0;32m    235\u001b[0m         \u001b[1;32melif\u001b[0m \u001b[0mexception_class\u001b[0m \u001b[1;33m==\u001b[0m \u001b[0mUnexpectedAlertPresentException\u001b[0m \u001b[1;32mand\u001b[0m \u001b[1;34m'alert'\u001b[0m \u001b[1;32min\u001b[0m \u001b[0mvalue\u001b[0m\u001b[1;33m:\u001b[0m\u001b[1;33m\u001b[0m\u001b[0m\n\u001b[0;32m    236\u001b[0m             \u001b[1;32mraise\u001b[0m \u001b[0mexception_class\u001b[0m\u001b[1;33m(\u001b[0m\u001b[0mmessage\u001b[0m\u001b[1;33m,\u001b[0m \u001b[0mscreen\u001b[0m\u001b[1;33m,\u001b[0m \u001b[0mstacktrace\u001b[0m\u001b[1;33m,\u001b[0m \u001b[0mvalue\u001b[0m\u001b[1;33m[\u001b[0m\u001b[1;34m'alert'\u001b[0m\u001b[1;33m]\u001b[0m\u001b[1;33m.\u001b[0m\u001b[0mget\u001b[0m\u001b[1;33m(\u001b[0m\u001b[1;34m'text'\u001b[0m\u001b[1;33m)\u001b[0m\u001b[1;33m)\u001b[0m\u001b[1;33m\u001b[0m\u001b[0m\n\u001b[1;32m--> 237\u001b[1;33m         \u001b[1;32mraise\u001b[0m \u001b[0mexception_class\u001b[0m\u001b[1;33m(\u001b[0m\u001b[0mmessage\u001b[0m\u001b[1;33m,\u001b[0m \u001b[0mscreen\u001b[0m\u001b[1;33m,\u001b[0m \u001b[0mstacktrace\u001b[0m\u001b[1;33m)\u001b[0m\u001b[1;33m\u001b[0m\u001b[0m\n\u001b[0m\u001b[0;32m    238\u001b[0m \u001b[1;33m\u001b[0m\u001b[0m\n\u001b[0;32m    239\u001b[0m     \u001b[1;32mdef\u001b[0m \u001b[0m_value_or_default\u001b[0m\u001b[1;33m(\u001b[0m\u001b[0mself\u001b[0m\u001b[1;33m,\u001b[0m \u001b[0mobj\u001b[0m\u001b[1;33m,\u001b[0m \u001b[0mkey\u001b[0m\u001b[1;33m,\u001b[0m \u001b[0mdefault\u001b[0m\u001b[1;33m)\u001b[0m\u001b[1;33m:\u001b[0m\u001b[1;33m\u001b[0m\u001b[0m\n",
      "\u001b[1;31mNoSuchElementException\u001b[0m: Message: no such element: Unable to locate element: {\"method\":\"link text\",\"selector\":\"Making Games with Python & Pygame\"}\n  (Session info: chrome=63.0.3239.84)\n  (Driver info: chromedriver=2.34.522940 (1a76f96f66e3ca7b8e57d503b4dd3bccfba87af1),platform=Windows NT 10.0.16299 x86_64)\n"
     ]
    }
   ],
   "source": [
    "from selenium import webdriver\n",
    "browser=webdriver.Chrome()\n",
    "browser.get('http://inventwithpython.com')\n",
    "# sets link elem\n",
    "linkElem=browser.find_element_by_link_text('Making Games with Python & Pygame')\n",
    "print(type(linkElem))\n",
    "# clicks on linkElem\n",
    "linkElem.click()"
   ]
  },
  {
   "cell_type": "markdown",
   "metadata": {},
   "source": [
    "# Filling Out and Submitting Forms"
   ]
  },
  {
   "cell_type": "code",
   "execution_count": 11,
   "metadata": {
    "collapsed": true
   },
   "outputs": [],
   "source": [
    "from selenium import webdriver\n",
    "browser=webdriver.Chrome()\n",
    "browser.get('https://mail.yahoo.com')\n",
    "# find box for input\n",
    "emailElem=browser.find_element_by_id('login-username')\n",
    "# write input\n",
    "emailElem.send_keys('not_my_real_email')\n",
    "# submit\n",
    "emailElem.submit()"
   ]
  },
  {
   "cell_type": "markdown",
   "metadata": {},
   "source": [
    "# Sending Special Keys"
   ]
  },
  {
   "cell_type": "markdown",
   "metadata": {},
   "source": [
    "Commonly Used Variables in the selenium.webdriver.common.keys module\n",
    "- Keys.DOWN, Keys.UP, Keys.LEFT, Keys.RIGHT ---- the keyboard arrow keys\n",
    "- Keys.ENTER, Keys.RETURN ---- The ENTER and RETURN keys\n",
    "- Keys.HOME, keys.END, Keys.PAGE_DOWN, Keys.PAGE_UP ---- The home, end, pagedown, and pageup keys\n",
    "- Keys.ESCAPE, Keys.BACK_SPACE. Keys.DELETE --- The ESC, BACKSPACE, and DELETE keys\n",
    "- Keys.F1, Keys.F2, ..., Keys.F12 --- the F1 to F12 keys\n",
    "- Keys.TAB ---- The TAB key"
   ]
  },
  {
   "cell_type": "code",
   "execution_count": 14,
   "metadata": {
    "collapsed": true
   },
   "outputs": [],
   "source": [
    "from selenium import webdriver\n",
    "from selenium.webdriver.common.keys import Keys\n",
    "browser=webdriver.Chrome()\n",
    "browser.get('http://nostarch.com')\n",
    "htmlElem=browser.find_element_by_tag_name('html')\n",
    "#scroll down page\n",
    "htmlElem.send_keys(Keys.END)\n",
    "#scroll up page\n",
    "htmlElem.send_keys(Keys.HOME)"
   ]
  },
  {
   "cell_type": "code",
   "execution_count": null,
   "metadata": {
    "collapsed": true
   },
   "outputs": [],
   "source": []
  }
 ],
 "metadata": {
  "kernelspec": {
   "display_name": "Python 3",
   "language": "python",
   "name": "python3"
  },
  "language_info": {
   "codemirror_mode": {
    "name": "ipython",
    "version": 3
   },
   "file_extension": ".py",
   "mimetype": "text/x-python",
   "name": "python",
   "nbconvert_exporter": "python",
   "pygments_lexer": "ipython3",
   "version": "3.6.3"
  }
 },
 "nbformat": 4,
 "nbformat_minor": 2
}

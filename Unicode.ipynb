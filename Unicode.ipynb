{
 "cells": [
  {
   "cell_type": "markdown",
   "metadata": {},
   "source": [
    "# Unicode"
   ]
  },
  {
   "cell_type": "markdown",
   "metadata": {},
   "source": [
    "- Everything in a computer is bytes and bytes themselves are meaningless so we have to assign values to them.\n",
    "- ASCII is one of the basic ones we have been using for years but we need more than 256 symbols.\n",
    "- Unicode was a solution, it assigns integers called code points to characters, and it has room for 1.1 million code points.\n",
    "- The Unicode standard defines a number of ways to represent code points as bytes, which are called encodings. (encodings: UTF-8, UTF-16, UTF-32, UCS-2, UCS-4)\n",
    "- Make sure you know what encoding you are dealing with because it can cause issues if you are using more than one encoding type in a project."
   ]
  },
  {
   "cell_type": "code",
   "execution_count": 1,
   "metadata": {},
   "outputs": [
    {
     "name": "stdout",
     "output_type": "stream",
     "text": [
      "Hello world\n",
      "True\n"
     ]
    }
   ],
   "source": [
    "#Python 3 has 2 string types, one for unicode and one for bytes, but they are named differently.\n",
    "\n",
    "# the b before the string makes it bytes\n",
    "print(\"Hello \"+b\"world\")\n",
    "print(\"Hello\"==b\"Hello\")\n",
    "\n",
    "# to read a file with bytes string\n",
    "#open(\"hello.txt\",\"rb\").readd()\n",
    "\n",
    "# use print type(var) to see what type of string you are dealing with"
   ]
  }
 ],
 "metadata": {
  "kernelspec": {
   "display_name": "Python 2",
   "language": "python",
   "name": "python2"
  },
  "language_info": {
   "codemirror_mode": {
    "name": "ipython",
    "version": 2
   },
   "file_extension": ".py",
   "mimetype": "text/x-python",
   "name": "python",
   "nbconvert_exporter": "python",
   "pygments_lexer": "ipython2",
   "version": "2.7.13"
  }
 },
 "nbformat": 4,
 "nbformat_minor": 2
}

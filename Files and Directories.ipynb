{
 "cells": [
  {
   "cell_type": "markdown",
   "metadata": {},
   "source": [
    "# Files and Directories"
   ]
  },
  {
   "cell_type": "markdown",
   "metadata": {},
   "source": [
    "### Cross OS Path Creation"
   ]
  },
  {
   "cell_type": "markdown",
   "metadata": {},
   "source": [
    "Since Windows uses backslashes in its paths and OS X and Linux uses Forward Slashes we need to make sure it will work on both systems."
   ]
  },
  {
   "cell_type": "code",
   "execution_count": 2,
   "metadata": {},
   "outputs": [
    {
     "name": "stdout",
     "output_type": "stream",
     "text": [
      "usr\\bin\\spam\n"
     ]
    }
   ],
   "source": [
    "import os\n",
    "path=os.path.join('usr','bin','spam')\n",
    "print(path)"
   ]
  },
  {
   "cell_type": "code",
   "execution_count": 4,
   "metadata": {},
   "outputs": [
    {
     "name": "stdout",
     "output_type": "stream",
     "text": [
      "C:\\Users\\asweigart\\account.txt\n",
      "C:\\Users\\asweigart\\details.csv\n",
      "C:\\Users\\asweigart\\invite.docx\n"
     ]
    }
   ],
   "source": [
    "# can also be used to make several paths at once\n",
    "myFiles=['account.txt','details.csv','invite.docx']\n",
    "for filename in myFiles:\n",
    "    print(os.path.join('C:\\\\Users\\\\asweigart',filename))"
   ]
  },
  {
   "cell_type": "markdown",
   "metadata": {},
   "source": [
    "### Current Working Directory"
   ]
  },
  {
   "cell_type": "code",
   "execution_count": 5,
   "metadata": {},
   "outputs": [
    {
     "name": "stdout",
     "output_type": "stream",
     "text": [
      "C:\\Users\\albg1\\OneDrive\\Documents\\Coding\\Python\\PythonNotes\n",
      "C:\\Windows\\System32\n"
     ]
    }
   ],
   "source": [
    "import os\n",
    "print(os.getcwd())\n",
    "os.chdir('C:\\\\Windows\\\\System32')\n",
    "print(os.getcwd())"
   ]
  },
  {
   "cell_type": "markdown",
   "metadata": {},
   "source": [
    "### Absolute Vs. Relative Paths"
   ]
  },
  {
   "cell_type": "markdown",
   "metadata": {},
   "source": [
    "- Absolute paths always begin with the root folder\n",
    "- Relative paths are relative to the current working directory\n",
    "\n",
    "**Relative paths**\n",
    "- ..\\ parent directory\n",
    "- .\\ current directory\n",
    "- .\\directory child directory\n",
    "- .\\directory\\spam.txt file in child directory\n",
    "- ..\\directory2 cousin directory\n",
    "- ..\\eggs.txt cousin file"
   ]
  },
  {
   "cell_type": "markdown",
   "metadata": {},
   "source": [
    "Note: .\\ in .\\directory is optional"
   ]
  },
  {
   "cell_type": "markdown",
   "metadata": {},
   "source": [
    "**Absolute Paths**\n",
    "- C:\\ C Drive\n",
    "- C:\\bacon child of C drive\n",
    "- C:\\bacon\\fizz child of bacon\n",
    "- C:\\bacon\\fizz\\spam.txt child file of fizz"
   ]
  },
  {
   "cell_type": "markdown",
   "metadata": {},
   "source": [
    "### Make new Folder"
   ]
  },
  {
   "cell_type": "code",
   "execution_count": 6,
   "metadata": {
    "collapsed": true
   },
   "outputs": [],
   "source": [
    "import os\n",
    "os.makedirs('C:\\\\delicious\\\\walnut\\\\waffles')"
   ]
  },
  {
   "cell_type": "markdown",
   "metadata": {},
   "source": [
    "### Handling Absolute and Relative Paths"
   ]
  },
  {
   "cell_type": "code",
   "execution_count": 7,
   "metadata": {},
   "outputs": [
    {
     "name": "stdout",
     "output_type": "stream",
     "text": [
      "C:\\Windows\\System32\n",
      "C:\\Windows\\System32\\Scripts\n",
      "False\n",
      "True\n"
     ]
    }
   ],
   "source": [
    "# os.path.abspath(path) will return a string of absolute path of the argument.\n",
    "# os.path.isabs(path) will return True if the argument is an absolute path\n",
    "# os.path.relpath(path,start) will return a string of a relative path from the start path to the path, If start is not provided it uses the current working directory\n",
    "import os\n",
    "print(os.path.abspath('.'))\n",
    "print(os.path.abspath('.\\\\Scripts'))\n",
    "print(os.path.isabs('.'))\n",
    "print(os.path.isabs(os.path.abspath('.')))"
   ]
  },
  {
   "cell_type": "code",
   "execution_count": 8,
   "metadata": {
    "collapsed": true
   },
   "outputs": [
    {
     "data": {
      "text/plain": [
       "['C:', 'Windows', 'System', 'calc.exe']"
      ]
     },
     "execution_count": 8,
     "metadata": {},
     "output_type": "execute_result"
    }
   ],
   "source": [
    "#EXAMPLES DONT RUN\n",
    "path='C:\\\\Windows\\\\System\\\\calc.exe'\n",
    "os.path.basename(path)  #prints calc.exe\n",
    "os.path.dirname(path)  # prints C:\\\\Windows\\\\System32\n",
    "\n",
    "calcFilePath='C:\\\\Windows\\\\System\\\\calc.exe'\n",
    "os.path.split(calcFilePath) #prints ('C:\\\\Windows\\\\System32','calc.exe')\n",
    "\n",
    "calcFilePath.split(os.path.sep) #prints ['C:','Windows','System32','calc.exe']"
   ]
  },
  {
   "cell_type": "markdown",
   "metadata": {},
   "source": [
    "### Finding File Sizes and Folder Contents"
   ]
  },
  {
   "cell_type": "code",
   "execution_count": 9,
   "metadata": {
    "collapsed": true
   },
   "outputs": [],
   "source": [
    "# os.path.getsize(path) will return size in bytes of the file in path\n",
    "# os.listdir(path) will return a list of filename strings for each file in the path arg"
   ]
  },
  {
   "cell_type": "markdown",
   "metadata": {},
   "source": [
    "### Checking Path Validity"
   ]
  },
  {
   "cell_type": "code",
   "execution_count": 10,
   "metadata": {
    "collapsed": true
   },
   "outputs": [],
   "source": [
    "# os.path.exists(path) will return True if the file or folder exists\n",
    "# os.path.isfile(path) will return True if the file or folder is a file\n",
    "# os.path.isdir(path) will return True if the file or folder is a folder\n",
    "\n",
    "# You can check if ther is a flash drive or DVD attached to the computer by\n",
    "# os.path.exists('D:\\\\')"
   ]
  },
  {
   "cell_type": "markdown",
   "metadata": {},
   "source": [
    "### File Reading/Writing Process"
   ]
  },
  {
   "cell_type": "markdown",
   "metadata": {},
   "source": [
    "**Plaintext file** - contain only basic text characters and do not include font, size, or color information. Examples are .txt or .py.\n",
    "\n",
    "**Binary files** - all other types of files such as word processing documents, PDFs, Images, spreadsheets, and .exe programs. If you open a binary file in a text editor it will look like nonsense.\n",
    "\n",
    "Steps for **Reading** and **Writing**\n",
    "- call open()\n",
    "- call read() or write()\n",
    "- call close"
   ]
  },
  {
   "cell_type": "markdown",
   "metadata": {},
   "source": [
    "### Opening a file with Open()"
   ]
  },
  {
   "cell_type": "code",
   "execution_count": 11,
   "metadata": {
    "collapsed": true
   },
   "outputs": [],
   "source": [
    "helloFile=open('C:\\\\Users\\\\albg1\\\\OneDrive\\\\Documents\\\\Coding\\\\Python\\\\PythonNotes\\\\hello.txt')"
   ]
  },
  {
   "cell_type": "markdown",
   "metadata": {},
   "source": [
    "### Reading The Contents of Files"
   ]
  },
  {
   "cell_type": "code",
   "execution_count": 12,
   "metadata": {},
   "outputs": [
    {
     "name": "stdout",
     "output_type": "stream",
     "text": [
      "Hello World!\n"
     ]
    },
    {
     "data": {
      "text/plain": [
       "[\"When, in disgrace with fortune and men's eyes,\\n\",\n",
       " 'I all alone beweep my outcast state,\\n',\n",
       " 'And trouble deaf heaven with my bootless cries,\\n',\n",
       " 'And look upon myself and curse my fate,']"
      ]
     },
     "execution_count": 12,
     "metadata": {},
     "output_type": "execute_result"
    }
   ],
   "source": [
    "# print the contents of helloFile\n",
    "helloContent=helloFile.read()\n",
    "print(helloContent)\n",
    "sonnetFile=open('C:\\\\Users\\\\albg1\\\\OneDrive\\\\Documents\\\\Coding\\\\Python\\\\PythonNotes\\\\sonnet.txt')\n",
    "# reads line by line and makes a list of strings\n",
    "sonnetFile.readlines()"
   ]
  },
  {
   "cell_type": "markdown",
   "metadata": {},
   "source": [
    "### Writing to Files"
   ]
  },
  {
   "cell_type": "code",
   "execution_count": 13,
   "metadata": {},
   "outputs": [
    {
     "name": "stdout",
     "output_type": "stream",
     "text": [
      "Hello world!\n",
      "Bacon is not a vegetable.\n"
     ]
    }
   ],
   "source": [
    "#open file for writing will overwrite\n",
    "baconFile=open('C:\\\\Users\\\\albg1\\\\OneDrive\\\\Documents\\\\Coding\\\\Python\\\\PythonNotes\\\\bacon.txt','w')\n",
    "baconFile.write('Hello world!\\n')\n",
    "baconFile.close()\n",
    "#open file for writing will append\n",
    "baconFile=open('C:\\\\Users\\\\albg1\\\\OneDrive\\\\Documents\\\\Coding\\\\Python\\\\PythonNotes\\\\bacon.txt','a')\n",
    "baconFile.write('Bacon is not a vegetable.')\n",
    "baconFile.close()\n",
    "#open file to read\n",
    "baconFile=open('C:\\\\Users\\\\albg1\\\\OneDrive\\\\Documents\\\\Coding\\\\Python\\\\PythonNotes\\\\bacon.txt')\n",
    "content=baconFile.read()\n",
    "baconFile.close()\n",
    "print(content)"
   ]
  },
  {
   "cell_type": "markdown",
   "metadata": {},
   "source": [
    "### Saving Variables with the Shelve Module"
   ]
  },
  {
   "cell_type": "code",
   "execution_count": 14,
   "metadata": {
    "collapsed": true
   },
   "outputs": [
    {
     "ename": "error",
     "evalue": "db type could not be determined",
     "output_type": "error",
     "traceback": [
      "\u001b[1;31m---------------------------------------------------------------------------\u001b[0m",
      "\u001b[1;31merror\u001b[0m                                     Traceback (most recent call last)",
      "\u001b[1;32m<ipython-input-14-2ecdb4195117>\u001b[0m in \u001b[0;36m<module>\u001b[1;34m()\u001b[0m\n\u001b[0;32m      1\u001b[0m \u001b[1;31m#allows you to save variables so they can be stored and opened later\u001b[0m\u001b[1;33m\u001b[0m\u001b[1;33m\u001b[0m\u001b[0m\n\u001b[0;32m      2\u001b[0m \u001b[1;32mimport\u001b[0m \u001b[0mshelve\u001b[0m\u001b[1;33m\u001b[0m\u001b[0m\n\u001b[1;32m----> 3\u001b[1;33m \u001b[0mshelfFile\u001b[0m\u001b[1;33m=\u001b[0m\u001b[0mshelve\u001b[0m\u001b[1;33m.\u001b[0m\u001b[0mopen\u001b[0m\u001b[1;33m(\u001b[0m\u001b[1;34m'C:\\\\Users\\\\albg1\\\\OneDrive\\\\Documents\\\\Coding\\\\Python\\\\PythonNotes\\\\mydata'\u001b[0m\u001b[1;33m)\u001b[0m\u001b[1;33m\u001b[0m\u001b[0m\n\u001b[0m\u001b[0;32m      4\u001b[0m \u001b[0mcats\u001b[0m\u001b[1;33m=\u001b[0m\u001b[1;33m[\u001b[0m\u001b[1;34m'Zophie'\u001b[0m\u001b[1;33m,\u001b[0m\u001b[1;34m'Pooka'\u001b[0m\u001b[1;33m,\u001b[0m\u001b[1;34m'Simon'\u001b[0m\u001b[1;33m]\u001b[0m\u001b[1;33m\u001b[0m\u001b[0m\n\u001b[0;32m      5\u001b[0m \u001b[0mshelfFile\u001b[0m\u001b[1;33m[\u001b[0m\u001b[1;34m'cats'\u001b[0m\u001b[1;33m]\u001b[0m\u001b[1;33m=\u001b[0m\u001b[0mcats\u001b[0m\u001b[1;33m\u001b[0m\u001b[0m\n",
      "\u001b[1;32m~\\Anaconda3\\lib\\shelve.py\u001b[0m in \u001b[0;36mopen\u001b[1;34m(filename, flag, protocol, writeback)\u001b[0m\n\u001b[0;32m    241\u001b[0m     \"\"\"\n\u001b[0;32m    242\u001b[0m \u001b[1;33m\u001b[0m\u001b[0m\n\u001b[1;32m--> 243\u001b[1;33m     \u001b[1;32mreturn\u001b[0m \u001b[0mDbfilenameShelf\u001b[0m\u001b[1;33m(\u001b[0m\u001b[0mfilename\u001b[0m\u001b[1;33m,\u001b[0m \u001b[0mflag\u001b[0m\u001b[1;33m,\u001b[0m \u001b[0mprotocol\u001b[0m\u001b[1;33m,\u001b[0m \u001b[0mwriteback\u001b[0m\u001b[1;33m)\u001b[0m\u001b[1;33m\u001b[0m\u001b[0m\n\u001b[0m",
      "\u001b[1;32m~\\Anaconda3\\lib\\shelve.py\u001b[0m in \u001b[0;36m__init__\u001b[1;34m(self, filename, flag, protocol, writeback)\u001b[0m\n\u001b[0;32m    225\u001b[0m     \u001b[1;32mdef\u001b[0m \u001b[0m__init__\u001b[0m\u001b[1;33m(\u001b[0m\u001b[0mself\u001b[0m\u001b[1;33m,\u001b[0m \u001b[0mfilename\u001b[0m\u001b[1;33m,\u001b[0m \u001b[0mflag\u001b[0m\u001b[1;33m=\u001b[0m\u001b[1;34m'c'\u001b[0m\u001b[1;33m,\u001b[0m \u001b[0mprotocol\u001b[0m\u001b[1;33m=\u001b[0m\u001b[1;32mNone\u001b[0m\u001b[1;33m,\u001b[0m \u001b[0mwriteback\u001b[0m\u001b[1;33m=\u001b[0m\u001b[1;32mFalse\u001b[0m\u001b[1;33m)\u001b[0m\u001b[1;33m:\u001b[0m\u001b[1;33m\u001b[0m\u001b[0m\n\u001b[0;32m    226\u001b[0m         \u001b[1;32mimport\u001b[0m \u001b[0mdbm\u001b[0m\u001b[1;33m\u001b[0m\u001b[0m\n\u001b[1;32m--> 227\u001b[1;33m         \u001b[0mShelf\u001b[0m\u001b[1;33m.\u001b[0m\u001b[0m__init__\u001b[0m\u001b[1;33m(\u001b[0m\u001b[0mself\u001b[0m\u001b[1;33m,\u001b[0m \u001b[0mdbm\u001b[0m\u001b[1;33m.\u001b[0m\u001b[0mopen\u001b[0m\u001b[1;33m(\u001b[0m\u001b[0mfilename\u001b[0m\u001b[1;33m,\u001b[0m \u001b[0mflag\u001b[0m\u001b[1;33m)\u001b[0m\u001b[1;33m,\u001b[0m \u001b[0mprotocol\u001b[0m\u001b[1;33m,\u001b[0m \u001b[0mwriteback\u001b[0m\u001b[1;33m)\u001b[0m\u001b[1;33m\u001b[0m\u001b[0m\n\u001b[0m\u001b[0;32m    228\u001b[0m \u001b[1;33m\u001b[0m\u001b[0m\n\u001b[0;32m    229\u001b[0m \u001b[1;33m\u001b[0m\u001b[0m\n",
      "\u001b[1;32m~\\Anaconda3\\lib\\dbm\\__init__.py\u001b[0m in \u001b[0;36mopen\u001b[1;34m(file, flag, mode)\u001b[0m\n\u001b[0;32m     86\u001b[0m     \u001b[1;32melif\u001b[0m \u001b[0mresult\u001b[0m \u001b[1;33m==\u001b[0m \u001b[1;34m\"\"\u001b[0m\u001b[1;33m:\u001b[0m\u001b[1;33m\u001b[0m\u001b[0m\n\u001b[0;32m     87\u001b[0m         \u001b[1;31m# db type cannot be determined\u001b[0m\u001b[1;33m\u001b[0m\u001b[1;33m\u001b[0m\u001b[0m\n\u001b[1;32m---> 88\u001b[1;33m         \u001b[1;32mraise\u001b[0m \u001b[0merror\u001b[0m\u001b[1;33m[\u001b[0m\u001b[1;36m0\u001b[0m\u001b[1;33m]\u001b[0m\u001b[1;33m(\u001b[0m\u001b[1;34m\"db type could not be determined\"\u001b[0m\u001b[1;33m)\u001b[0m\u001b[1;33m\u001b[0m\u001b[0m\n\u001b[0m\u001b[0;32m     89\u001b[0m     \u001b[1;32melif\u001b[0m \u001b[0mresult\u001b[0m \u001b[1;32mnot\u001b[0m \u001b[1;32min\u001b[0m \u001b[0m_modules\u001b[0m\u001b[1;33m:\u001b[0m\u001b[1;33m\u001b[0m\u001b[0m\n\u001b[0;32m     90\u001b[0m         raise error[0](\"db type is {0}, but the module is not \"\n",
      "\u001b[1;31merror\u001b[0m: db type could not be determined"
     ]
    }
   ],
   "source": [
    "#allows you to save variables so they can be stored and opened later\n",
    "import shelve\n",
    "shelfFile=shelve.open('C:\\\\Users\\\\albg1\\\\OneDrive\\\\Documents\\\\Coding\\\\Python\\\\PythonNotes\\\\mydata')\n",
    "cats=['Zophie','Pooka','Simon']\n",
    "shelfFile['cats']=cats\n",
    "shelfFile.close()"
   ]
  },
  {
   "cell_type": "code",
   "execution_count": null,
   "metadata": {
    "collapsed": true
   },
   "outputs": [],
   "source": [
    "shelfFile=shelve.open('C:\\\\Users\\\\albg1\\\\OneDrive\\\\Documents\\\\Coding\\\\Python\\\\PythonNotes\\\\mydata')\n",
    "print(shelfFile['cats'])\n",
    "print(list(shelfFile.keys()))\n",
    "print(list(shelfFile.values()))\n",
    "shelfFile.close()"
   ]
  },
  {
   "cell_type": "markdown",
   "metadata": {},
   "source": [
    "### Saving Variables with the Pprint.Pformat() Function"
   ]
  },
  {
   "cell_type": "code",
   "execution_count": null,
   "metadata": {
    "collapsed": true
   },
   "outputs": [],
   "source": [
    "import pprint\n",
    "cats=[{'name':'Zophie','desc': 'chubby'},{'name':'Pooka','desc':'fluffy'}]\n",
    "print(pprint.pformat(cats))\n",
    "fileObj=open('C:\\\\Users\\\\albg1\\\\OneDrive\\\\Documents\\\\Coding\\\\Python\\\\PythonNotes\\\\myCats.py','w')\n",
    "fileObj.write('cats = '+pprint.pformat(cats)+'\\n')\n",
    "fileObj.close()"
   ]
  },
  {
   "cell_type": "code",
   "execution_count": null,
   "metadata": {
    "collapsed": true
   },
   "outputs": [],
   "source": [
    "# we can now import it (Doesn't Work)\n",
    "#import myCats\n",
    "#print(myCats.cats)"
   ]
  },
  {
   "cell_type": "markdown",
   "metadata": {},
   "source": [
    "### The Shutil Module"
   ]
  },
  {
   "cell_type": "code",
   "execution_count": 15,
   "metadata": {
    "collapsed": true
   },
   "outputs": [],
   "source": [
    "# the shutil module provides functions for copying files, as well as entire folders\n",
    "import shutil, os\n",
    "# os.chdir('C:\\\\')\n",
    "# shutil.copy('C:\\\\spam.txt','C:\\\\delicious')   copy src to dest (src,dest)\n",
    "# shutil.copy('eggs.txt','C:\\\\delicious\\\\eggs2.txt') # copys but also renames file\n",
    "\n",
    "#shutil.copytree('C:\\\\bacon','C:\\\\bacon_backup')  copys the whole file tree to new directory"
   ]
  },
  {
   "cell_type": "markdown",
   "metadata": {},
   "source": [
    "### Moving and Renaming Files and Folders"
   ]
  },
  {
   "cell_type": "code",
   "execution_count": 16,
   "metadata": {
    "collapsed": true
   },
   "outputs": [],
   "source": [
    "import shutil\n",
    "# shutil.move('C:\\\\bacon.txt','C:\\\\eggs') moves bacon.txt to eggs and will clobber a file with the same name\n",
    "\n",
    "# shutil.move('C:\\\\bacon.txt','C:\\\\egge') will replace bacon.txt with eggs\n",
    "\n",
    "#Folders that are used in destinations must already exist or move() with throw errors"
   ]
  },
  {
   "cell_type": "markdown",
   "metadata": {},
   "source": [
    "### Permanently Deleting Files and Folders"
   ]
  },
  {
   "cell_type": "code",
   "execution_count": 17,
   "metadata": {
    "collapsed": true
   },
   "outputs": [
    {
     "data": {
      "text/plain": [
       "\"\\nimport os\\nfor filename in os.listdir():\\n    if filename.endswith('.rxt'):\\n        os.unlink(filename)\\n        print(filename)\\n\""
      ]
     },
     "execution_count": 17,
     "metadata": {},
     "output_type": "execute_result"
    }
   ],
   "source": [
    "# os.unlink(path)  will delete the file at path\n",
    "# os.rmdir(path)  will delete the folder at path. The folder must be empty\n",
    "# shutil.rmtree(path)  will remove the folder at path, and all files and folders contained in it\n",
    "\n",
    "#Its a good idea to print what you are going to delete to make sure you get the right files\n",
    "'''\n",
    "import os\n",
    "for filename in os.listdir():\n",
    "    if filename.endswith('.rxt'):\n",
    "        os.unlink(filename)\n",
    "        print(filename)\n",
    "'''"
   ]
  },
  {
   "cell_type": "markdown",
   "metadata": {},
   "source": [
    "### Safe Deletes with the Send2Trash Module"
   ]
  },
  {
   "cell_type": "code",
   "execution_count": null,
   "metadata": {
    "collapsed": true
   },
   "outputs": [],
   "source": [
    "import send2trash\n",
    "baconFile=open('C:\\\\Users\\\\albg1\\\\OneDrive\\\\Documents\\\\Coding\\\\Python\\\\PythonNotes\\\\bacon.txt','a')\n",
    "baconFile.write('Bacon is not a vegatable.')\n",
    "baconFile.close()\n",
    "send2trash.send2trash('C:\\\\Users\\\\albg1\\\\OneDrive\\\\Documents\\\\Coding\\\\Python\\\\PythonNotes\\\\bacon.txt')"
   ]
  },
  {
   "cell_type": "markdown",
   "metadata": {},
   "source": [
    "### Walking a Directory Tree"
   ]
  },
  {
   "cell_type": "code",
   "execution_count": 18,
   "metadata": {
    "collapsed": true
   },
   "outputs": [
    {
     "data": {
      "text/plain": [
       "\"\\nimport os\\nfor folderName, subfolders, filenames in os.walk('C:\\\\delicious'):\\n    print('The current folder is '+folderName)\\n    \\n    for subfolder in subfolders:\\n        print('SUBFOLDER OF '+folderName+': '+ subfolder)\\n    \\n    for filename in filenames:\\n        print('FILE INSIDE '+ folderName + ': ' + filename)\\n        \\n    print('')\\n\""
      ]
     },
     "execution_count": 18,
     "metadata": {},
     "output_type": "execute_result"
    }
   ],
   "source": [
    "# if you want to go through every file in a folder and rename them \n",
    "# os.walk() will return 3 values \n",
    "# 1. string of current folder name\n",
    "# 2. A list of strings of the folders in the current folder\n",
    "# 3. A list of strings of the files in the current folder\n",
    "'''\n",
    "import os\n",
    "for folderName, subfolders, filenames in os.walk('C:\\\\delicious'):\n",
    "    print('The current folder is '+folderName)\n",
    "    \n",
    "    for subfolder in subfolders:\n",
    "        print('SUBFOLDER OF '+folderName+': '+ subfolder)\n",
    "    \n",
    "    for filename in filenames:\n",
    "        print('FILE INSIDE '+ folderName + ': ' + filename)\n",
    "        \n",
    "    print('')\n",
    "'''"
   ]
  },
  {
   "cell_type": "markdown",
   "metadata": {},
   "source": [
    "### Compressing Files with the ZipFile Module"
   ]
  },
  {
   "cell_type": "code",
   "execution_count": null,
   "metadata": {
    "collapsed": true
   },
   "outputs": [],
   "source": [
    "\n",
    "'''\n",
    "import zipfile, os\n",
    "os.chdir('C:\\\\')\n",
    "exampleZip=zipfile.ZipFile('example.zip')\n",
    "exampleZip.namelist()\n",
    "spamInfo=exampleZip.getinfo('spam.txt')\n",
    "print(spamInfo.file_size)\n",
    "print(spamInfo.compress_size)\n",
    "exampleZip.close()\n",
    "\n",
    "\n",
    "os.chdir('C:\\\\')\n",
    "exampleZip=zipfile.ZipFile('example.zip')\n",
    "exampleZip.extractall()  # extracts all files from zip into working directory\n",
    "exampleZip.close()\n",
    "\n",
    "\n",
    "exampleZip.extract('spam.txt')   #extracts a single file from the zip into working directory\n",
    "exampleZip.extract('spam.txt',dst)  #extracts file to dst\n",
    "'''"
   ]
  },
  {
   "cell_type": "markdown",
   "metadata": {},
   "source": [
    "### Creating and Adding to Zip Files"
   ]
  },
  {
   "cell_type": "code",
   "execution_count": null,
   "metadata": {
    "collapsed": true
   },
   "outputs": [],
   "source": [
    "'''\n",
    "# create a zip file containing spam.txt\n",
    "import zipfile\n",
    "newZip=zipfile.ZipFile('new.zip','w')\n",
    "newZip.write('spam.txt', compress_type=zipfile.ZIP_DEFLATE)\n",
    "newZip.close()\n",
    "\n",
    "# if want to add to a existing zip use 'a' as second arg in write\n",
    "'''"
   ]
  }
 ],
 "metadata": {
  "kernelspec": {
   "display_name": "Python 3",
   "language": "python",
   "name": "python3"
  },
  "language_info": {
   "codemirror_mode": {
    "name": "ipython",
    "version": 3
   },
   "file_extension": ".py",
   "mimetype": "text/x-python",
   "name": "python",
   "nbconvert_exporter": "python",
   "pygments_lexer": "ipython3",
   "version": "3.6.3"
  }
 },
 "nbformat": 4,
 "nbformat_minor": 2
}

{
 "cells": [
  {
   "cell_type": "markdown",
   "metadata": {},
   "source": [
    "# Strings"
   ]
  },
  {
   "cell_type": "markdown",
   "metadata": {},
   "source": [
    "### String Double Quotes"
   ]
  },
  {
   "cell_type": "markdown",
   "metadata": {},
   "source": [
    "If you have a single quote in a string single quotes won't work properly. You have to use double quotes in that case."
   ]
  },
  {
   "cell_type": "code",
   "execution_count": 1,
   "metadata": {},
   "outputs": [
    {
     "ename": "SyntaxError",
     "evalue": "invalid syntax (<ipython-input-1-e6c2a7c71688>, line 2)",
     "output_type": "error",
     "traceback": [
      "\u001b[1;36m  File \u001b[1;32m\"<ipython-input-1-e6c2a7c71688>\"\u001b[1;36m, line \u001b[1;32m2\u001b[0m\n\u001b[1;33m    spam='That is Alice's cat\u001b[0m\n\u001b[1;37m                        ^\u001b[0m\n\u001b[1;31mSyntaxError\u001b[0m\u001b[1;31m:\u001b[0m invalid syntax\n"
     ]
    }
   ],
   "source": [
    "#Doesn't work properly\n",
    "spam='That is Alice's cat"
   ]
  },
  {
   "cell_type": "code",
   "execution_count": 2,
   "metadata": {},
   "outputs": [
    {
     "name": "stdout",
     "output_type": "stream",
     "text": [
      "That is Alice's cat.\n"
     ]
    }
   ],
   "source": [
    "#works properly\n",
    "spam=\"That is Alice's cat.\"\n",
    "print(spam)"
   ]
  },
  {
   "cell_type": "markdown",
   "metadata": {},
   "source": [
    "### Escape Characters"
   ]
  },
  {
   "cell_type": "markdown",
   "metadata": {},
   "source": [
    "Let you use characters that are otherwise impossible to put into a string. It uses a backslash followed by the character you want to add to the string."
   ]
  },
  {
   "cell_type": "code",
   "execution_count": 3,
   "metadata": {},
   "outputs": [
    {
     "name": "stdout",
     "output_type": "stream",
     "text": [
      "Say hi to Bob's mother.\n"
     ]
    }
   ],
   "source": [
    "spam='Say hi to Bob\\'s mother.'\n",
    "print(spam)"
   ]
  },
  {
   "cell_type": "markdown",
   "metadata": {},
   "source": [
    "here are some examples\n",
    "\n",
    "\\'    #single quote\n",
    "\n",
    "\\\"    #double quote\n",
    "\n",
    "\\t    #tab\n",
    "\n",
    "\\n    #newline\n",
    "\n",
    "\\\\\\    #backslash"
   ]
  },
  {
   "cell_type": "markdown",
   "metadata": {},
   "source": [
    "### Raw Strings"
   ]
  },
  {
   "cell_type": "markdown",
   "metadata": {},
   "source": [
    "- You can place an r before the beginning quotation mark of a string to make it a raw string.\n",
    "- A raw string ignores all escape characters and prints backslashes that appear in the string."
   ]
  },
  {
   "cell_type": "code",
   "execution_count": 4,
   "metadata": {},
   "outputs": [
    {
     "name": "stdout",
     "output_type": "stream",
     "text": [
      "That is Carol\\'s cat.\n"
     ]
    }
   ],
   "source": [
    "print(r'That is Carol\\'s cat.')"
   ]
  },
  {
   "cell_type": "markdown",
   "metadata": {},
   "source": [
    "### Multiline Strings"
   ]
  },
  {
   "cell_type": "code",
   "execution_count": 5,
   "metadata": {},
   "outputs": [
    {
     "name": "stdout",
     "output_type": "stream",
     "text": [
      "Hello,\n",
      "How are you?\n",
      "Goodbye\n",
      "Hello\n",
      "How are you?\n",
      "Goodbye\n"
     ]
    }
   ],
   "source": [
    "#Here is an example\n",
    "print(\"\"\"Hello,\n",
    "How are you?\n",
    "Goodbye\"\"\")\n",
    "# or with single quotes\n",
    "print('''Hello\n",
    "How are you?\n",
    "Goodbye''')"
   ]
  },
  {
   "cell_type": "markdown",
   "metadata": {},
   "source": [
    "### Indexing and Slicing Strings"
   ]
  },
  {
   "cell_type": "code",
   "execution_count": 6,
   "metadata": {},
   "outputs": [
    {
     "name": "stdout",
     "output_type": "stream",
     "text": [
      "H\n",
      "o\n",
      "!\n",
      "Hello\n",
      "world!\n"
     ]
    }
   ],
   "source": [
    "spam = 'Hello world!'\n",
    "#print character at index 0\n",
    "print(spam[0])\n",
    "#print character at index 4\n",
    "print(spam[4])\n",
    "#print last character in string\n",
    "print(spam[-1])\n",
    "#print character 0 to 4\n",
    "print(spam[0:5])\n",
    "#print from character 6 and on\n",
    "print(spam[6:])"
   ]
  },
  {
   "cell_type": "markdown",
   "metadata": {},
   "source": [
    "### In and Not In Operators"
   ]
  },
  {
   "cell_type": "code",
   "execution_count": 7,
   "metadata": {},
   "outputs": [
    {
     "name": "stdout",
     "output_type": "stream",
     "text": [
      "True\n",
      "False\n",
      "True\n"
     ]
    }
   ],
   "source": [
    "print('hello' in 'hello world')\n",
    "print('HELLO' in 'hello world')\n",
    "print('HELLO' not in 'hello world')"
   ]
  },
  {
   "cell_type": "markdown",
   "metadata": {},
   "source": [
    "### Upper(), Lower(), Capitalize(), IsUpper(), IsLower(), and IsTitle()"
   ]
  },
  {
   "cell_type": "code",
   "execution_count": 12,
   "metadata": {},
   "outputs": [
    {
     "name": "stdout",
     "output_type": "stream",
     "text": [
      "HELLO WORLD\n",
      "hello world\n",
      "Hello world\n"
     ]
    }
   ],
   "source": [
    "spam=\"hello world\"\n",
    "spam=spam.upper()\n",
    "print(spam)\n",
    "spam=spam.lower()\n",
    "print(spam)\n",
    "spam=spam.capitalize()\n",
    "print(spam)"
   ]
  },
  {
   "cell_type": "code",
   "execution_count": 14,
   "metadata": {},
   "outputs": [
    {
     "name": "stdout",
     "output_type": "stream",
     "text": [
      "False\n",
      "False\n",
      "True\n",
      "True\n",
      "True\n",
      "True\n"
     ]
    }
   ],
   "source": [
    "spam=\"Hello World\"\n",
    "print(spam.islower())\n",
    "print(spam.isupper())\n",
    "print('hello'.islower())\n",
    "print('HELLO'.isupper())\n",
    "print('Hello'.istitle()) #looks if every word in the string is capitalizes\n",
    "# note numbers are ignored\n",
    "print('abc12345'.islower())"
   ]
  },
  {
   "cell_type": "markdown",
   "metadata": {},
   "source": [
    "Here are a few more.\n",
    "- isalpha()\n",
    "- isalnum()\n",
    "- isdecimal()\n",
    "- isspace()"
   ]
  },
  {
   "cell_type": "markdown",
   "metadata": {},
   "source": [
    "### StartsWith() and EndsWith() "
   ]
  },
  {
   "cell_type": "code",
   "execution_count": 15,
   "metadata": {},
   "outputs": [
    {
     "name": "stdout",
     "output_type": "stream",
     "text": [
      "True\n",
      "True\n",
      "False\n",
      "False\n"
     ]
    }
   ],
   "source": [
    "print('Hello world!'.startswith('Hello'))\n",
    "print('Hello world!'.endswith('world!'))\n",
    "print('Hello world!'.startswith('hello'))\n",
    "print('Hello world!'.endswith('world'))"
   ]
  },
  {
   "cell_type": "markdown",
   "metadata": {},
   "source": [
    "### Join() and Spilt()"
   ]
  },
  {
   "cell_type": "code",
   "execution_count": 16,
   "metadata": {},
   "outputs": [
    {
     "name": "stdout",
     "output_type": "stream",
     "text": [
      "cats, rats, bats\n",
      "catsratsbats\n",
      "catsABCratsABCbats\n",
      "['My', 'name', 'is', 'Simon']\n",
      "['My na', 'e is Si', 'on']\n"
     ]
    }
   ],
   "source": [
    "#joins these strings togeather with commas\n",
    "print(', '.join(['cats', 'rats', 'bats']))\n",
    "#just joins\n",
    "print(''.join(['cats', 'rats', 'bats']))\n",
    "#joins with ABC\n",
    "print('ABC'.join(['cats', 'rats', 'bats']))\n",
    "#splits the string by spaces (whitespaces by default)\n",
    "print('My name is Simon'.split())\n",
    "#splits the string by the letter m\n",
    "print('My name is Simon'.split('m'))"
   ]
  },
  {
   "cell_type": "code",
   "execution_count": 17,
   "metadata": {},
   "outputs": [
    {
     "name": "stdout",
     "output_type": "stream",
     "text": [
      "['Hello', 'How are you?', 'Goodbye']\n"
     ]
    }
   ],
   "source": [
    "# splits by newline\n",
    "spam='''Hello\n",
    "How are you?\n",
    "Goodbye'''\n",
    "print(spam.split('\\n'))"
   ]
  },
  {
   "cell_type": "markdown",
   "metadata": {},
   "source": [
    "### Justifying Text RJust(), LJust(), Center()"
   ]
  },
  {
   "cell_type": "code",
   "execution_count": 18,
   "metadata": {},
   "outputs": [
    {
     "name": "stdout",
     "output_type": "stream",
     "text": [
      "     Hello\n",
      "***************Hello\n",
      "Hello     \n",
      "Hello###############\n",
      "       Hello        \n",
      "%%%%%%%Hello%%%%%%%%\n"
     ]
    }
   ],
   "source": [
    "print('Hello'.rjust(10))\n",
    "print('Hello'.rjust(20,'*'))\n",
    "print('Hello'.ljust(10))\n",
    "print('Hello'.ljust(20,'#'))\n",
    "print('Hello'.center(20))\n",
    "print('Hello'.center(20,'%'))"
   ]
  },
  {
   "cell_type": "markdown",
   "metadata": {},
   "source": [
    "### Strip(), RStrip(), and LStrip()"
   ]
  },
  {
   "cell_type": "code",
   "execution_count": 19,
   "metadata": {},
   "outputs": [
    {
     "name": "stdout",
     "output_type": "stream",
     "text": [
      "Hello\n",
      "Hello        \n",
      "          Hello\n"
     ]
    }
   ],
   "source": [
    "#removes whitespaces\n",
    "spam='          Hello        '\n",
    "print(spam.strip()) #removes all white spaces\n",
    "print(spam.lstrip()) #removes white spaces on the left\n",
    "print(spam.rstrip()) #removes white spaces on the right"
   ]
  },
  {
   "cell_type": "code",
   "execution_count": 20,
   "metadata": {},
   "outputs": [
    {
     "name": "stdout",
     "output_type": "stream",
     "text": [
      "ellohellohe\n"
     ]
    }
   ],
   "source": [
    "#removes instances of characters of string from front and back\n",
    "spam=\"hellohellohello\"\n",
    "print(spam.strip('holl'))"
   ]
  },
  {
   "cell_type": "code",
   "execution_count": null,
   "metadata": {
    "collapsed": true
   },
   "outputs": [],
   "source": []
  }
 ],
 "metadata": {
  "kernelspec": {
   "display_name": "Python 3",
   "language": "python",
   "name": "python3"
  },
  "language_info": {
   "codemirror_mode": {
    "name": "ipython",
    "version": 3
   },
   "file_extension": ".py",
   "mimetype": "text/x-python",
   "name": "python",
   "nbconvert_exporter": "python",
   "pygments_lexer": "ipython3",
   "version": "3.6.3"
  }
 },
 "nbformat": 4,
 "nbformat_minor": 2
}
